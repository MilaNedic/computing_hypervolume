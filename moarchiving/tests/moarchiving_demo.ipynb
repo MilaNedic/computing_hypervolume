{
 "cells": [
  {
   "cell_type": "markdown",
   "metadata": {},
   "source": [
    "# Introduction\n",
    "\n",
    "The `class` `moarchiving.MOArchive` implements a multi-objective (2, 3 and 4 objectives are supported) non-dominated archive. It provides easy and fast access to the overall hypervolume, the contributing hypervolume of each element, and to the [uncrowded hypervolume improvement](https://arxiv.org/abs/1904.08823) of any given point in objective space.\n",
    "\n"
   ]
  },
  {
   "cell_type": "markdown",
   "metadata": {},
   "source": [
    "## Testing and timing of `moarchiving.BiobjectiveNondominatedSortedList`"
   ]
  },
  {
   "cell_type": "code",
   "metadata": {
    "ExecuteTime": {
     "end_time": "2024-11-11T09:25:13.164439Z",
     "start_time": "2024-11-11T09:25:13.127541Z"
    }
   },
   "source": "from moarchiving.get_archive import get_archive",
   "outputs": [],
   "execution_count": 1
  },
  {
   "cell_type": "markdown",
   "metadata": {},
   "source": [
    "### Initialization of `MOArchive` for 2, 3 and 4 objectives\n",
    "MOArchive object can be created by providing the points and the reference point. "
   ]
  },
  {
   "cell_type": "code",
   "metadata": {
    "ExecuteTime": {
     "end_time": "2024-11-11T09:25:13.179399Z",
     "start_time": "2024-11-11T09:25:13.167439Z"
    }
   },
   "source": [
    "moa2d = get_archive([[-0.749, -1.188], [-0.557, 1.1076], [0.2454, 0.4724], [-1.146, -0.110]], reference_point=[10, 10], infos=[\"a\", \"b\", \"c\", \"d\"])\n",
    "print(\"points in the archive:\", moa2d.points)\n",
    "print(\"infos of the corresponding points:\", moa2d.infos)\n",
    "print(\"hypervolume of the archive:\", moa2d.hypervolume)"
   ],
   "outputs": [
    {
     "name": "stdout",
     "output_type": "stream",
     "text": [
      "points in the archive: [[-1.146, -0.11], [-0.749, -1.188]]\n",
      "infos of the corresponding points: ['d', 'a']\n",
      "hypervolume of the archive: 80658101273473054967643280640231621/649037107316853453566312041152512\n"
     ]
    }
   ],
   "execution_count": 2
  },
  {
   "metadata": {
    "ExecuteTime": {
     "end_time": "2024-11-11T09:25:13.195377Z",
     "start_time": "2024-11-11T09:25:13.181404Z"
    }
   },
   "cell_type": "code",
   "source": [
    "moa3d = get_archive([[-0.749, -1.188, 0.341], [-0.557, 1.1076, 3.896], [0.2454, 0.4724, -0.234], [5.433, -1.146, -0.110]], [10, 10, 10], [\"a\", \"b\", \"c\", \"d\"])\n",
    "print(\"points in the archive:\", moa3d.points)\n",
    "print(\"infos of the corresponding points:\", moa3d.infos)\n",
    "print(\"hypervolume of the archive:\", moa3d.hypervolume)"
   ],
   "outputs": [
    {
     "name": "stdout",
     "output_type": "stream",
     "text": [
      "points in the archive: [[0.2454, 0.4724, -0.234], [5.433, -1.146, -0.11], [-0.749, -1.188, 0.341]]\n",
      "infos of the corresponding points: ['c', 'd', 'a']\n",
      "hypervolume of the archive: 14245107714475608640533024409236768782601322425068301/11692013098647223345629478661730264157247460343808\n"
     ]
    }
   ],
   "execution_count": 3
  },
  {
   "metadata": {
    "ExecuteTime": {
     "end_time": "2024-11-11T09:25:13.211330Z",
     "start_time": "2024-11-11T09:25:13.196352Z"
    }
   },
   "cell_type": "code",
   "source": [
    "moa4d = get_archive([[-0.749, -1.188, 0.341, 0.123], [-0.557, 1.1076, 3.896, 0.123], [0.2454, 0.4724, -0.234, 0.123], [5.433, -1.146, -0.110, 0.123]],\n",
    "                    [10, 10, 10, 10], [\"a\", \"b\", \"c\", \"d\"])\n",
    "print(\"points in the archive:\", moa4d.points)\n",
    "print(\"infos of the corresponding points:\", moa4d.infos)\n",
    "print(\"hypervolume of the archive:\", moa4d.hypervolume)"
   ],
   "outputs": [
    {
     "name": "stdout",
     "output_type": "stream",
     "text": [
      "points in the archive: [[0.2454, 0.4724, -0.234, 0.123], [5.433, -1.146, -0.11, 0.123], [-0.749, -1.188, 0.341, 0.123]]\n",
      "infos of the corresponding points: ['c', 'd', 'a']\n",
      "hypervolume of the archive: 633651643746893203865577632918971241408965074860158975691511316507089/52656145834278593348959013841835216159447547700274555627155488768\n"
     ]
    }
   ],
   "execution_count": 4
  },
  {
   "metadata": {},
   "cell_type": "markdown",
   "source": [
    "### Initializing empty archive and adding points\n",
    "MoArchive can also be initialized with no points, but then the number of objectives must be provided."
   ]
  },
  {
   "metadata": {
    "ExecuteTime": {
     "end_time": "2024-11-11T09:25:13.227293Z",
     "start_time": "2024-11-11T09:25:13.213307Z"
    }
   },
   "cell_type": "code",
   "source": [
    "moa = get_archive(reference_point=[4, 4, 4], n_obj=3)\n",
    "print(\"points in the archive:\", moa.points)\n",
    "print(\"infos of the corresponding points:\", moa.infos)"
   ],
   "outputs": [
    {
     "name": "stdout",
     "output_type": "stream",
     "text": [
      "points in the archive: []\n",
      "infos of the corresponding points: []\n"
     ]
    }
   ],
   "execution_count": 5
  },
  {
   "metadata": {},
   "cell_type": "markdown",
   "source": "We can always add points to the archive using the `add` method."
  },
  {
   "metadata": {
    "ExecuteTime": {
     "end_time": "2024-11-11T09:25:13.243228Z",
     "start_time": "2024-11-11T09:25:13.229266Z"
    }
   },
   "cell_type": "code",
   "source": [
    "# add one point\n",
    "moa.add([1, 2, 3], \"a\")\n",
    "print(\"points:\", moa.points)\n",
    "print(\"infos:\", moa.infos)\n",
    "\n",
    "# add another point\n",
    "moa.add([3, 2, 1], \"b\")\n",
    "print(\"points:\", moa.points)\n",
    "print(\"infos:\", moa.infos)\n",
    "\n",
    "# add a dominated point (should not be added)\n",
    "moa.add([3, 3, 3], \"c\")\n",
    "print(\"points:\", moa.points)\n",
    "print(\"infos:\", moa.infos)"
   ],
   "outputs": [
    {
     "name": "stdout",
     "output_type": "stream",
     "text": [
      "points: [[1, 2, 3]]\n",
      "infos: ['a']\n",
      "points: [[3, 2, 1], [1, 2, 3]]\n",
      "infos: ['b', 'a']\n",
      "points: [[3, 2, 1], [1, 2, 3]]\n",
      "infos: ['b', 'a']\n"
     ]
    }
   ],
   "execution_count": 6
  },
  {
   "metadata": {},
   "cell_type": "markdown",
   "source": "We can also add multiple points at once using the `add_list` method."
  },
  {
   "metadata": {
    "ExecuteTime": {
     "end_time": "2024-11-11T09:25:13.259185Z",
     "start_time": "2024-11-11T09:25:13.244225Z"
    }
   },
   "cell_type": "code",
   "source": [
    "moa.add_list([[2, 1, 3], [1, 3, 2], [3, 2, 0], [2, 2, 4]], [\"d\", \"e\", \"f\", \"g\"])\n",
    "print(\"points:\", moa.points)\n",
    "print(\"infos:\", moa.infos)"
   ],
   "outputs": [
    {
     "name": "stdout",
     "output_type": "stream",
     "text": [
      "points: [[3, 2, 0], [1, 3, 2], [2, 1, 3], [1, 2, 3]]\n",
      "infos: ['f', 'e', 'd', 'a']\n"
     ]
    }
   ],
   "execution_count": 7
  },
  {
   "metadata": {},
   "cell_type": "markdown",
   "source": [
    "### Hypervolume computation\n",
    "At any point we can access the hypervolume of the archive using the `hypervolume` attribute."
   ]
  },
  {
   "metadata": {
    "ExecuteTime": {
     "end_time": "2024-11-11T09:25:13.275144Z",
     "start_time": "2024-11-11T09:25:13.261179Z"
    }
   },
   "cell_type": "code",
   "source": "moa.hypervolume",
   "outputs": [
    {
     "data": {
      "text/plain": [
       "Fraction(16, 1)"
      ]
     },
     "execution_count": 8,
     "metadata": {},
     "output_type": "execute_result"
    }
   ],
   "execution_count": 8
  },
  {
   "metadata": {},
   "cell_type": "markdown",
   "source": "### Dominates and dominators:"
  },
  {
   "metadata": {
    "ExecuteTime": {
     "end_time": "2024-11-11T09:25:13.290130Z",
     "start_time": "2024-11-11T09:25:13.277138Z"
    }
   },
   "cell_type": "code",
   "source": "moa.dominates([2, 3, 3]), moa.dominators([2, 3, 3])\n",
   "outputs": [
    {
     "data": {
      "text/plain": [
       "(True, [[1, 3, 2], [2, 1, 3], [1, 2, 3]])"
      ]
     },
     "execution_count": 9,
     "metadata": {},
     "output_type": "execute_result"
    }
   ],
   "execution_count": 9
  },
  {
   "metadata": {
    "ExecuteTime": {
     "end_time": "2024-11-11T09:25:13.306059Z",
     "start_time": "2024-11-11T09:25:13.293095Z"
    }
   },
   "cell_type": "code",
   "source": "moa.dominates([3, 1, 1]), moa.dominators([3, 1, 1])\n",
   "outputs": [
    {
     "data": {
      "text/plain": [
       "(False, [])"
      ]
     },
     "execution_count": 10,
     "metadata": {},
     "output_type": "execute_result"
    }
   ],
   "execution_count": 10
  },
  {
   "metadata": {},
   "cell_type": "markdown",
   "source": "### Contributing hypervolumes"
  },
  {
   "metadata": {
    "ExecuteTime": {
     "end_time": "2024-11-11T09:25:13.336995Z",
     "start_time": "2024-11-11T09:25:13.308053Z"
    }
   },
   "cell_type": "code",
   "source": "moa.contributing_hypervolumes",
   "outputs": [
    {
     "data": {
      "text/plain": [
       "[Fraction(5, 1), Fraction(2, 1), Fraction(2, 1), Fraction(1, 1)]"
      ]
     },
     "execution_count": 11,
     "metadata": {},
     "output_type": "execute_result"
    }
   ],
   "execution_count": 11
  },
  {
   "cell_type": "code",
   "metadata": {
    "ExecuteTime": {
     "end_time": "2024-11-11T09:25:13.448680Z",
     "start_time": "2024-11-11T09:25:13.422748Z"
    }
   },
   "source": [
    "for i, point in enumerate(moa.points):\n",
    "    assert moa.contributing_hypervolume(point) == moa.contributing_hypervolumes[i]\n",
    "    print(\"contributing hv of point\", point, \"is\", moa.contributing_hypervolume(point))"
   ],
   "outputs": [
    {
     "name": "stdout",
     "output_type": "stream",
     "text": [
      "contributing hv of point [3, 2, 0] is 5\n",
      "contributing hv of point [1, 3, 2] is 2\n",
      "contributing hv of point [2, 1, 3] is 2\n",
      "contributing hv of point [1, 2, 3] is 1\n"
     ]
    }
   ],
   "execution_count": 12
  },
  {
   "metadata": {},
   "cell_type": "markdown",
   "source": [
    "### Hypervolume improvement\n",
    "hypervolume of a dominated point is 0"
   ]
  },
  {
   "metadata": {},
   "cell_type": "markdown",
   "source": ""
  },
  {
   "metadata": {
    "ExecuteTime": {
     "end_time": "2024-11-11T09:25:13.574345Z",
     "start_time": "2024-11-11T09:25:13.559382Z"
    }
   },
   "cell_type": "code",
   "source": [
    "print(moa.dominates([3, 3, 3]))\n",
    "moa.hypervolume_improvement([3, 3, 3])"
   ],
   "outputs": [
    {
     "name": "stdout",
     "output_type": "stream",
     "text": [
      "True\n"
     ]
    },
    {
     "data": {
      "text/plain": [
       "-0.0"
      ]
     },
     "execution_count": 13,
     "metadata": {},
     "output_type": "execute_result"
    }
   ],
   "execution_count": 13
  },
  {
   "cell_type": "code",
   "metadata": {
    "ExecuteTime": {
     "end_time": "2024-11-11T09:25:13.621218Z",
     "start_time": "2024-11-11T09:25:13.612245Z"
    }
   },
   "source": [
    "print(\"hypervolume:\", moa.hypervolume)\n",
    "print(\"hv improvement of adding [2, 2, 2]:\", moa.hypervolume_improvement([2, 2, 2]))\n",
    "moa.add([2, 2, 2])\n",
    "print(\"new hypervolume\", moa.hypervolume)"
   ],
   "outputs": [
    {
     "name": "stdout",
     "output_type": "stream",
     "text": [
      "hypervolume: 16\n",
      "hv improvement of adding [2, 2, 2]: 1\n",
      "new hypervolume 17\n"
     ]
    }
   ],
   "execution_count": 14
  },
  {
   "metadata": {},
   "cell_type": "markdown",
   "source": "### Distance to pareto front"
  },
  {
   "metadata": {
    "ExecuteTime": {
     "end_time": "2024-11-11T09:25:13.652134Z",
     "start_time": "2024-11-11T09:25:13.635180Z"
    }
   },
   "cell_type": "code",
   "source": "moa.distance_to_pareto_front([3, 3, 2])",
   "outputs": [
    {
     "data": {
      "text/plain": [
       "0.0"
      ]
     },
     "execution_count": 15,
     "metadata": {},
     "output_type": "execute_result"
    }
   ],
   "execution_count": 15
  },
  {
   "metadata": {
    "ExecuteTime": {
     "end_time": "2024-11-11T09:25:13.683052Z",
     "start_time": "2024-11-11T09:25:13.673088Z"
    }
   },
   "cell_type": "code",
   "source": "moa.distance_to_pareto_front([4, 3, 3])",
   "outputs": [
    {
     "data": {
      "text/plain": [
       "1.0"
      ]
     },
     "execution_count": 16,
     "metadata": {},
     "output_type": "execute_result"
    }
   ],
   "execution_count": 16
  },
  {
   "metadata": {},
   "cell_type": "markdown",
   "source": "### Distance to hypervolume area, in domain"
  },
  {
   "metadata": {
    "ExecuteTime": {
     "end_time": "2024-11-11T09:25:13.750874Z",
     "start_time": "2024-11-11T09:25:13.712976Z"
    }
   },
   "cell_type": "code",
   "source": "moa.in_domain([3, 3, 3]), moa.distance_to_hypervolume_area([3, 3, 3])",
   "outputs": [
    {
     "data": {
      "text/plain": [
       "(True, 0.0)"
      ]
     },
     "execution_count": 17,
     "metadata": {},
     "output_type": "execute_result"
    }
   ],
   "execution_count": 17
  },
  {
   "metadata": {
    "ExecuteTime": {
     "end_time": "2024-11-11T09:25:13.792760Z",
     "start_time": "2024-11-11T09:25:13.775809Z"
    }
   },
   "cell_type": "code",
   "source": "moa.in_domain([5, 5, 5]), moa.distance_to_hypervolume_area([5, 5, 5])",
   "outputs": [
    {
     "data": {
      "text/plain": [
       "(False, 1.7320508075688772)"
      ]
     },
     "execution_count": 18,
     "metadata": {},
     "output_type": "execute_result"
    }
   ],
   "execution_count": 18
  },
  {
   "metadata": {
    "ExecuteTime": {
     "end_time": "2024-11-11T09:25:13.824674Z",
     "start_time": "2024-11-11T09:25:13.810711Z"
    }
   },
   "cell_type": "code",
   "source": "moa.in_domain([1, 1, 14]), moa.distance_to_hypervolume_area([1, 1, 14])",
   "outputs": [
    {
     "data": {
      "text/plain": [
       "(False, 10.0)"
      ]
     },
     "execution_count": 19,
     "metadata": {},
     "output_type": "execute_result"
    }
   ],
   "execution_count": 19
  },
  {
   "metadata": {},
   "cell_type": "markdown",
   "source": "### Copying an archive"
  },
  {
   "metadata": {
    "ExecuteTime": {
     "end_time": "2024-11-11T09:25:13.870565Z",
     "start_time": "2024-11-11T09:25:13.862577Z"
    }
   },
   "cell_type": "code",
   "source": [
    "moa_copy = moa.copy()\n",
    "print(\"moa\", moa.points)\n",
    "print(\"moa_copy\", moa_copy.points)"
   ],
   "outputs": [
    {
     "name": "stdout",
     "output_type": "stream",
     "text": [
      "moa [[3, 2, 0], [2, 2, 2], [1, 3, 2], [2, 1, 3], [1, 2, 3]]\n",
      "moa_copy [[3, 2, 0], [2, 2, 2], [1, 3, 2], [2, 1, 3], [1, 2, 3]]\n"
     ]
    }
   ],
   "execution_count": 20
  },
  {
   "metadata": {
    "ExecuteTime": {
     "end_time": "2024-11-11T09:25:13.947345Z",
     "start_time": "2024-11-11T09:25:13.935377Z"
    }
   },
   "cell_type": "code",
   "source": [
    "moa.add([1, 0, 2])\n",
    "print(\"moa\", moa.points)\n",
    "print(\"moa_copy\", moa_copy.points)"
   ],
   "outputs": [
    {
     "name": "stdout",
     "output_type": "stream",
     "text": [
      "moa [[3, 2, 0], [1, 0, 2]]\n",
      "moa_copy [[3, 2, 0], [2, 2, 2], [1, 3, 2], [2, 1, 3], [1, 2, 3]]\n"
     ]
    }
   ],
   "execution_count": 21
  },
  {
   "metadata": {
    "ExecuteTime": {
     "end_time": "2024-11-11T09:25:13.993224Z",
     "start_time": "2024-11-11T09:25:13.984247Z"
    }
   },
   "cell_type": "code",
   "source": [
    "moa_copy.remove([3, 2, 0])\n",
    "print(\"moa\", moa.points)\n",
    "print(\"moa_copy\", moa_copy.points)"
   ],
   "outputs": [
    {
     "name": "stdout",
     "output_type": "stream",
     "text": [
      "moa [[3, 2, 0], [1, 0, 2]]\n",
      "moa_copy [[2, 2, 2], [1, 3, 2], [2, 1, 3], [1, 2, 3]]\n"
     ]
    }
   ],
   "execution_count": 22
  },
  {
   "metadata": {},
   "cell_type": "markdown",
   "source": "### Turning fractions on and off"
  },
  {
   "metadata": {
    "ExecuteTime": {
     "end_time": "2024-11-11T09:25:14.040375Z",
     "start_time": "2024-11-11T09:25:14.026226Z"
    }
   },
   "cell_type": "code",
   "source": [
    "from moarchiving.moarchiving2d import BiobjectiveNondominatedSortedList\n",
    "import fractions \n",
    "\n",
    "BiobjectiveNondominatedSortedList.hypervolume_final_float_type = fractions.Fraction\n",
    "BiobjectiveNondominatedSortedList.hypervolume_computation_float_type = fractions.Fraction\n",
    "\n",
    "moa2_fr = BiobjectiveNondominatedSortedList([[1, 2], [2, 1], [3, 3], [1.3, 1.3], [1.7, 1.1]], reference_point=[4, 4])\n",
    "print(moa2_fr.hypervolume)\n",
    "\n",
    "BiobjectiveNondominatedSortedList.hypervolume_final_float_type = float\n",
    "BiobjectiveNondominatedSortedList.hypervolume_computation_float_type = float\n",
    "\n",
    "moa2_nofr = BiobjectiveNondominatedSortedList([[1, 2], [2, 1], [3, 3], [1.3, 1.3], [1.7, 1.1]], reference_point=[4, 4])\n",
    "print(moa2_nofr.hypervolume)"
   ],
   "outputs": [
    {
     "name": "stdout",
     "output_type": "stream",
     "text": [
      "77011553628035481/9007199254740992\n",
      "8.55\n"
     ]
    }
   ],
   "execution_count": 23
  },
  {
   "metadata": {
    "ExecuteTime": {
     "end_time": "2024-11-11T09:25:14.086230Z",
     "start_time": "2024-11-11T09:25:14.078249Z"
    }
   },
   "cell_type": "code",
   "source": [
    "get_archive.hypervolume_final_float_type = fractions.Fraction\n",
    "get_archive.hypervolume_computation_float_type = fractions.Fraction\n",
    "\n",
    "moa3_fr = get_archive([[1, 2, 3], [2, 1, 3], [3, 3, 1.32], [1.3, 1.3, 3], [1.7, 1.1, 2]], reference_point=[4, 4, 4])\n",
    "print(moa3_fr.hypervolume)\n",
    "\n",
    "get_archive.hypervolume_computation_float_type = float\n",
    "get_archive.hypervolume_final_float_type = float\n",
    "\n",
    "moa3_nofr = get_archive([[1, 2, 3], [2, 1, 3], [3, 3, 1.32], [1.3, 1.3, 3], [1.7, 1.1, 2]], reference_point=[4, 4, 4])\n",
    "print(moa3_nofr.hypervolume)"
   ],
   "outputs": [
    {
     "name": "stdout",
     "output_type": "stream",
     "text": [
      "161245156349030777798724819133399/10141204801825835211973625643008\n",
      "15.899999999999999\n"
     ]
    }
   ],
   "execution_count": 24
  },
  {
   "metadata": {},
   "cell_type": "markdown",
   "source": "### Hypervolume plus indicator"
  },
  {
   "metadata": {
    "ExecuteTime": {
     "end_time": "2024-11-11T09:25:15.643280Z",
     "start_time": "2024-11-11T09:25:14.096202Z"
    }
   },
   "cell_type": "code",
   "source": [
    "import matplotlib.pyplot as plt\n",
    "import random\n",
    "\n",
    "hv_plus = []\n",
    "hv = []\n",
    "n_obj = 3\n",
    "moa = get_archive(reference_point=[0.1] * n_obj, n_obj=n_obj)\n",
    "for _ in range(20000):\n",
    "    point = [random.random() for _ in range(n_obj)]\n",
    "    moa.add(point)\n",
    "    \n",
    "    hv_plus.append(moa.hypervolume_plus)\n",
    "    hv.append(moa.hypervolume)\n",
    "\n",
    "fig, axs = plt.subplots(1, 2, figsize=(10, 5))\n",
    "axs[0].plot(hv_plus)\n",
    "axs[0].set_title(\"hypervolume_plus\")\n",
    "axs[1].plot(hv)\n",
    "axs[1].set_title(\"hypervolume\")\n",
    "plt.show()"
   ],
   "outputs": [
    {
     "data": {
      "text/plain": [
       "<Figure size 1000x500 with 2 Axes>"
      ],
      "image/png": "[encoded data removed]"
     },
     "metadata": {},
     "output_type": "display_data"
    }
   ],
   "execution_count": 25
  }
 ],
 "metadata": {
  "kernelspec": {
   "display_name": "Python 3",
   "language": "python",
   "name": "python3"
  },
  "language_info": {
   "codemirror_mode": {
    "name": "ipython",
    "version": 3
   },
   "file_extension": ".py",
   "mimetype": "text/x-python",
   "name": "python",
   "nbconvert_exporter": "python",
   "pygments_lexer": "ipython3",
   "version": "3.7.3"
  }
 },
 "nbformat": 4,
 "nbformat_minor": 2
}
