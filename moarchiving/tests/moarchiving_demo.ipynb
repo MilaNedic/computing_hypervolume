{
 "cells": [
  {
   "cell_type": "markdown",
   "metadata": {},
   "source": [
    "# Introduction\n",
    "\n",
    "This library implements a multi-objective (2, 3 and 4 objectives are supported) non-dominated archive. It provides easy and fast access to the overall hypervolume, the contributing hypervolume of each element, and to the [uncrowded hypervolume improvement](https://arxiv.org/abs/1904.08823) of any given point in objective space.\n",
    "\n"
   ]
  },
  {
   "cell_type": "markdown",
   "metadata": {},
   "source": [
    "### Initialization of `MOArchive` for 2, 3 and 4 objectives\n",
    "MOArchive object can be created using `get_archive` function providing a list of objective values and the reference point. Additionally, a list of information strings can be provided for each point, which can store any information about the points (e.g. the x values used to generate the objective values). At any point you can get the nondominated points and their corresponding infos in the archive, by using points and infos attributes"
   ]
  },
  {
   "cell_type": "code",
   "metadata": {
    "ExecuteTime": {
     "end_time": "2024-11-19T10:37:54.148007Z",
     "start_time": "2024-11-19T10:37:54.128039Z"
    }
   },
   "source": [
    "from moarchiving.get_archive import get_archive"
   ],
   "outputs": [],
   "execution_count": 1
  },
  {
   "cell_type": "code",
   "metadata": {
    "ExecuteTime": {
     "end_time": "2024-11-19T10:37:54.163960Z",
     "start_time": "2024-11-19T10:37:54.149980Z"
    }
   },
   "source": [
    "# Creating a 2-objective archive\n",
    "moa2d = get_archive([[-0.749, -1.188], [-0.557, 1.1076], [0.2454, 0.4724], [-1.146, -0.110]], reference_point=[10, 10], infos=[\"a\", \"b\", \"c\", \"d\"])\n",
    "print(\"points in the archive:\", list(moa2d))\n",
    "print(\"infos of the corresponding points:\", moa2d.infos)"
   ],
   "outputs": [
    {
     "name": "stdout",
     "output_type": "stream",
     "text": [
      "points in the archive: [[-1.146, -0.11], [-0.749, -1.188]]\n",
      "infos of the corresponding points: ['d', 'a']\n"
     ]
    }
   ],
   "execution_count": 2
  },
  {
   "cell_type": "code",
   "metadata": {
    "ExecuteTime": {
     "end_time": "2024-11-19T10:37:54.179921Z",
     "start_time": "2024-11-19T10:37:54.164940Z"
    }
   },
   "source": [
    "# Creating a 3-objective archive\n",
    "moa3d = get_archive([[-0.749, -1.188, 0.341], [-0.557, 1.1076, 3.896], [0.2454, 0.4724, -0.234], [5.433, -1.146, -0.110]], [10, 10, 10], [\"a\", \"b\", \"c\", \"d\"])\n",
    "print(\"points in the archive:\", list(moa3d))\n",
    "print(\"infos of the corresponding points:\", moa3d.infos)"
   ],
   "outputs": [
    {
     "name": "stdout",
     "output_type": "stream",
     "text": [
      "points in the archive: [[0.2454, 0.4724, -0.234], [5.433, -1.146, -0.11], [-0.749, -1.188, 0.341]]\n",
      "infos of the corresponding points: ['c', 'd', 'a']\n"
     ]
    }
   ],
   "execution_count": 3
  },
  {
   "cell_type": "code",
   "metadata": {
    "ExecuteTime": {
     "end_time": "2024-11-19T10:37:54.195880Z",
     "start_time": "2024-11-19T10:37:54.181894Z"
    }
   },
   "source": [
    "moa4d = get_archive([[-0.749, -1.188, 0.341, 0.123], [-0.557, 1.1076, 3.896, 0.123], [0.2454, 0.4724, -0.234, 0.123], [5.433, -1.146, -0.110, 0.123]],\n",
    "                    [10, 10, 10, 10], [\"a\", \"b\", \"c\", \"d\"])\n",
    "print(\"points in the archive:\", list(moa4d))\n",
    "print(\"infos of the corresponding points:\", moa4d.infos)"
   ],
   "outputs": [
    {
     "name": "stdout",
     "output_type": "stream",
     "text": [
      "points in the archive: [[0.2454, 0.4724, -0.234, 0.123], [5.433, -1.146, -0.11, 0.123], [-0.749, -1.188, 0.341, 0.123]]\n",
      "infos of the corresponding points: ['c', 'd', 'a']\n"
     ]
    }
   ],
   "execution_count": 4
  },
  {
   "cell_type": "markdown",
   "metadata": {},
   "source": [
    "### Initializing empty archive and adding points\n",
    "MoArchive can also be initialized empty, but at minimum the reference point or the number of objectives should be provided."
   ]
  },
  {
   "cell_type": "code",
   "metadata": {
    "ExecuteTime": {
     "end_time": "2024-11-19T10:37:54.211827Z",
     "start_time": "2024-11-19T10:37:54.198850Z"
    }
   },
   "source": [
    "moa = get_archive(reference_point=[4, 4, 4])\n",
    "print(\"points in the archive:\", list(moa))\n",
    "print(\"infos of the corresponding points:\", moa.infos)"
   ],
   "outputs": [
    {
     "name": "stdout",
     "output_type": "stream",
     "text": [
      "points in the archive: []\n",
      "infos of the corresponding points: []\n"
     ]
    }
   ],
   "execution_count": 5
  },
  {
   "cell_type": "markdown",
   "metadata": {},
   "source": [
    "Points can alway be added to the archive using the `add` method (for adding one point) and `add_list` (for adding multiple points)."
   ]
  },
  {
   "cell_type": "code",
   "metadata": {
    "ExecuteTime": {
     "end_time": "2024-11-19T10:37:54.227771Z",
     "start_time": "2024-11-19T10:37:54.212813Z"
    }
   },
   "source": [
    "# add one point\n",
    "moa.add([1, 2, 3], \"a\")\n",
    "print(\"points:\", list(moa))\n",
    "print(\"infos:\", moa.infos)\n",
    "\n",
    "# add another point\n",
    "moa.add([3, 2, 1], \"b\")\n",
    "print(\"points:\", list(moa))\n",
    "print(\"infos:\", moa.infos)\n",
    "\n",
    "# add a dominated point (should not be added)\n",
    "moa.add([3, 3, 3], \"c\")\n",
    "print(\"points:\", list(moa))\n",
    "print(\"infos:\", moa.infos)\n",
    "\n",
    "moa.add_list([[2, 1, 3], [1, 3, 2], [3, 2, 0], [2, 2, 4]], [\"d\", \"e\", \"f\", \"g\"])\n",
    "print(\"points:\", list(moa))\n",
    "print(\"infos:\", moa.infos)"
   ],
   "outputs": [
    {
     "name": "stdout",
     "output_type": "stream",
     "text": [
      "points: [[1, 2, 3]]\n",
      "infos: ['a']\n",
      "points: [[3, 2, 1], [1, 2, 3]]\n",
      "infos: ['b', 'a']\n",
      "points: [[3, 2, 1], [1, 2, 3]]\n",
      "infos: ['b', 'a']\n",
      "points: [[3, 2, 0], [1, 3, 2], [2, 1, 3], [1, 2, 3]]\n",
      "infos: ['f', 'e', 'd', 'a']\n"
     ]
    }
   ],
   "execution_count": 6
  },
  {
   "cell_type": "markdown",
   "metadata": {},
   "source": [
    "### Length of the archive\n",
    "Can be accessed either using the `__len__` method or. This is faster than manually doing `len(list(moa))`."
   ]
  },
  {
   "cell_type": "code",
   "metadata": {
    "ExecuteTime": {
     "end_time": "2024-11-19T10:37:54.243753Z",
     "start_time": "2024-11-19T10:37:54.229818Z"
    }
   },
   "source": "len(moa)",
   "outputs": [
    {
     "data": {
      "text/plain": [
       "4"
      ]
     },
     "execution_count": 7,
     "metadata": {},
     "output_type": "execute_result"
    }
   ],
   "execution_count": 7
  },
  {
   "metadata": {},
   "cell_type": "markdown",
   "source": [
    "### Checking if point is in the archive\n",
    "Can be done using `in` keyword"
   ]
  },
  {
   "metadata": {
    "ExecuteTime": {
     "end_time": "2024-11-19T10:37:54.271657Z",
     "start_time": "2024-11-19T10:37:54.247733Z"
    }
   },
   "cell_type": "code",
   "source": "[2, 2, 2] in moa",
   "outputs": [
    {
     "data": {
      "text/plain": [
       "False"
      ]
     },
     "execution_count": 8,
     "metadata": {},
     "output_type": "execute_result"
    }
   ],
   "execution_count": 8
  },
  {
   "metadata": {
    "ExecuteTime": {
     "end_time": "2024-11-19T10:37:54.306583Z",
     "start_time": "2024-11-19T10:37:54.287612Z"
    }
   },
   "cell_type": "code",
   "source": "[3, 2, 0] in moa",
   "outputs": [
    {
     "data": {
      "text/plain": [
       "True"
      ]
     },
     "execution_count": 9,
     "metadata": {},
     "output_type": "execute_result"
    }
   ],
   "execution_count": 9
  },
  {
   "cell_type": "markdown",
   "metadata": {},
   "source": [
    "### Hypervolume computation\n",
    "At any point we can access the hypervolume of the archive using the `hypervolume` attribute."
   ]
  },
  {
   "cell_type": "code",
   "metadata": {
    "ExecuteTime": {
     "end_time": "2024-11-19T10:37:54.431144Z",
     "start_time": "2024-11-19T10:37:54.416184Z"
    }
   },
   "source": [
    "moa.hypervolume"
   ],
   "outputs": [
    {
     "data": {
      "text/plain": [
       "Fraction(16, 1)"
      ]
     },
     "execution_count": 10,
     "metadata": {},
     "output_type": "execute_result"
    }
   ],
   "execution_count": 10
  },
  {
   "cell_type": "markdown",
   "metadata": {},
   "source": [
    "### Dominates and dominators:\n",
    "Functions to check if the archive dominates a given point and to get all the points that dominate it"
   ]
  },
  {
   "cell_type": "code",
   "metadata": {
    "ExecuteTime": {
     "end_time": "2024-11-19T10:37:54.587132Z",
     "start_time": "2024-11-19T10:37:54.567185Z"
    }
   },
   "source": [
    "moa.dominates([2, 3, 3]), moa.dominators([2, 3, 3])"
   ],
   "outputs": [
    {
     "data": {
      "text/plain": [
       "(True, [[1, 3, 2], [2, 1, 3], [1, 2, 3]])"
      ]
     },
     "execution_count": 11,
     "metadata": {},
     "output_type": "execute_result"
    }
   ],
   "execution_count": 11
  },
  {
   "cell_type": "code",
   "metadata": {
    "ExecuteTime": {
     "end_time": "2024-11-19T10:37:54.633351Z",
     "start_time": "2024-11-19T10:37:54.614401Z"
    }
   },
   "source": [
    "moa.dominates([3, 1, 1]), moa.dominators([3, 1, 1])\n"
   ],
   "outputs": [
    {
     "data": {
      "text/plain": [
       "(False, [])"
      ]
     },
     "execution_count": 12,
     "metadata": {},
     "output_type": "execute_result"
    }
   ],
   "execution_count": 12
  },
  {
   "cell_type": "markdown",
   "metadata": {},
   "source": [
    "### Contributing hypervolumes\n",
    "Returns a list of contributions for each point of the archive. Alternatively can also be computed for a single point using `contributing_hypervolume(point)` method."
   ]
  },
  {
   "cell_type": "code",
   "metadata": {
    "ExecuteTime": {
     "end_time": "2024-11-19T10:37:54.742879Z",
     "start_time": "2024-11-19T10:37:54.719880Z"
    }
   },
   "source": [
    "moa.contributing_hypervolumes"
   ],
   "outputs": [
    {
     "data": {
      "text/plain": [
       "[Fraction(5, 1), Fraction(2, 1), Fraction(2, 1), Fraction(1, 1)]"
      ]
     },
     "execution_count": 13,
     "metadata": {},
     "output_type": "execute_result"
    }
   ],
   "execution_count": 13
  },
  {
   "cell_type": "code",
   "metadata": {
    "ExecuteTime": {
     "end_time": "2024-11-19T10:37:54.820925Z",
     "start_time": "2024-11-19T10:37:54.806930Z"
    }
   },
   "source": [
    "for i, point in enumerate(moa):\n",
    "    assert moa.contributing_hypervolume(point) == moa.contributing_hypervolumes[i]\n",
    "    print(\"contributing hv of point\", point, \"is\", moa.contributing_hypervolume(point))"
   ],
   "outputs": [
    {
     "name": "stdout",
     "output_type": "stream",
     "text": [
      "contributing hv of point [3, 2, 0] is 5\n",
      "contributing hv of point [1, 3, 2] is 2\n",
      "contributing hv of point [2, 1, 3] is 2\n",
      "contributing hv of point [1, 2, 3] is 1\n"
     ]
    }
   ],
   "execution_count": 14
  },
  {
   "cell_type": "markdown",
   "metadata": {},
   "source": [
    "### Hypervolume improvement\n",
    "Returns the improvement of the hypervolume if we would add the point to the archive."
   ]
  },
  {
   "cell_type": "code",
   "metadata": {
    "ExecuteTime": {
     "end_time": "2024-11-19T10:37:54.867796Z",
     "start_time": "2024-11-19T10:37:54.853806Z"
    }
   },
   "source": [
    "print(moa.dominates([3, 3, 3]))\n",
    "moa.hypervolume_improvement([3, 3, 3])"
   ],
   "outputs": [
    {
     "name": "stdout",
     "output_type": "stream",
     "text": [
      "True\n"
     ]
    },
    {
     "data": {
      "text/plain": [
       "-0.0"
      ]
     },
     "execution_count": 15,
     "metadata": {},
     "output_type": "execute_result"
    }
   ],
   "execution_count": 15
  },
  {
   "cell_type": "code",
   "metadata": {
    "ExecuteTime": {
     "end_time": "2024-11-19T10:37:54.962252Z",
     "start_time": "2024-11-19T10:37:54.947300Z"
    }
   },
   "source": [
    "print(\"hypervolume:\", moa.hypervolume)\n",
    "print(\"hv improvement of adding [2, 2, 2]:\", moa.hypervolume_improvement([2, 2, 2]))\n",
    "moa.add([2, 2, 2])\n",
    "print(\"new hypervolume\", moa.hypervolume)"
   ],
   "outputs": [
    {
     "name": "stdout",
     "output_type": "stream",
     "text": [
      "hypervolume: 16\n",
      "hv improvement of adding [2, 2, 2]: 1\n",
      "new hypervolume 17\n"
     ]
    }
   ],
   "execution_count": 16
  },
  {
   "cell_type": "markdown",
   "metadata": {},
   "source": [
    "### Distance to pareto front\n",
    "Returns the distance between a dominated point and the pareto front."
   ]
  },
  {
   "cell_type": "code",
   "metadata": {
    "ExecuteTime": {
     "end_time": "2024-11-19T10:37:54.994165Z",
     "start_time": "2024-11-19T10:37:54.976216Z"
    }
   },
   "source": [
    "moa.distance_to_pareto_front([3, 3, 2])"
   ],
   "outputs": [
    {
     "data": {
      "text/plain": [
       "0.0"
      ]
     },
     "execution_count": 17,
     "metadata": {},
     "output_type": "execute_result"
    }
   ],
   "execution_count": 17
  },
  {
   "cell_type": "code",
   "metadata": {
    "ExecuteTime": {
     "end_time": "2024-11-19T10:37:55.025083Z",
     "start_time": "2024-11-19T10:37:55.012118Z"
    }
   },
   "source": [
    "moa.distance_to_pareto_front([4, 3, 3])"
   ],
   "outputs": [
    {
     "data": {
      "text/plain": [
       "1.0"
      ]
     },
     "execution_count": 18,
     "metadata": {},
     "output_type": "execute_result"
    }
   ],
   "execution_count": 18
  },
  {
   "cell_type": "markdown",
   "metadata": {},
   "source": [
    "### Distance to hypervolume area, in domain\n",
    "Returns if the point is in domain the area dominat distance to the area dominated by the "
   ]
  },
  {
   "cell_type": "code",
   "metadata": {
    "ExecuteTime": {
     "end_time": "2024-11-19T10:37:55.101889Z",
     "start_time": "2024-11-19T10:37:55.091906Z"
    }
   },
   "source": [
    "moa.in_domain([3, 3, 3]), moa.distance_to_hypervolume_area([3, 3, 3])"
   ],
   "outputs": [
    {
     "data": {
      "text/plain": [
       "(True, 0.0)"
      ]
     },
     "execution_count": 19,
     "metadata": {},
     "output_type": "execute_result"
    }
   ],
   "execution_count": 19
  },
  {
   "cell_type": "code",
   "metadata": {
    "ExecuteTime": {
     "end_time": "2024-11-19T10:37:55.133793Z",
     "start_time": "2024-11-19T10:37:55.120826Z"
    }
   },
   "source": [
    "moa.in_domain([5, 5, 5]), moa.distance_to_hypervolume_area([5, 5, 5])"
   ],
   "outputs": [
    {
     "data": {
      "text/plain": [
       "(False, 1.7320508075688772)"
      ]
     },
     "execution_count": 20,
     "metadata": {},
     "output_type": "execute_result"
    }
   ],
   "execution_count": 20
  },
  {
   "cell_type": "code",
   "metadata": {
    "ExecuteTime": {
     "end_time": "2024-11-19T10:37:55.195698Z",
     "start_time": "2024-11-19T10:37:55.185750Z"
    }
   },
   "source": [
    "moa.in_domain([1, 1, 14]), moa.distance_to_hypervolume_area([1, 1, 14])"
   ],
   "outputs": [
    {
     "data": {
      "text/plain": [
       "(False, 10.0)"
      ]
     },
     "execution_count": 21,
     "metadata": {},
     "output_type": "execute_result"
    }
   ],
   "execution_count": 21
  },
  {
   "cell_type": "markdown",
   "metadata": {},
   "source": [
    "### Copying an archive"
   ]
  },
  {
   "cell_type": "code",
   "metadata": {
    "ExecuteTime": {
     "end_time": "2024-11-19T10:37:55.242398Z",
     "start_time": "2024-11-19T10:37:55.225618Z"
    }
   },
   "source": [
    "moa_copy = moa.copy()\n",
    "print(\"moa\", list(moa))\n",
    "print(\"moa_copy\", list(moa_copy))"
   ],
   "outputs": [
    {
     "name": "stdout",
     "output_type": "stream",
     "text": [
      "moa [[3, 2, 0], [2, 2, 2], [1, 3, 2], [2, 1, 3], [1, 2, 3]]\n",
      "moa_copy [[3, 2, 0], [2, 2, 2], [1, 3, 2], [2, 1, 3], [1, 2, 3]]\n"
     ]
    }
   ],
   "execution_count": 22
  },
  {
   "cell_type": "code",
   "metadata": {
    "ExecuteTime": {
     "end_time": "2024-11-19T10:37:55.306225Z",
     "start_time": "2024-11-19T10:37:55.289244Z"
    }
   },
   "source": [
    "moa.add([1, 0, 2])\n",
    "print(\"moa\", list(moa))\n",
    "print(\"moa_copy\", list(moa_copy))"
   ],
   "outputs": [
    {
     "name": "stdout",
     "output_type": "stream",
     "text": [
      "moa [[3, 2, 0], [1, 0, 2]]\n",
      "moa_copy [[3, 2, 0], [2, 2, 2], [1, 3, 2], [2, 1, 3], [1, 2, 3]]\n"
     ]
    }
   ],
   "execution_count": 23
  },
  {
   "cell_type": "code",
   "metadata": {
    "ExecuteTime": {
     "end_time": "2024-11-19T10:37:55.351899Z",
     "start_time": "2024-11-19T10:37:55.332129Z"
    }
   },
   "source": [
    "moa_copy.remove([3, 2, 0])\n",
    "print(\"moa\", list(moa))\n",
    "print(\"moa_copy\", list(moa_copy))"
   ],
   "outputs": [
    {
     "name": "stdout",
     "output_type": "stream",
     "text": [
      "moa [[3, 2, 0], [1, 0, 2]]\n",
      "moa_copy [[2, 2, 2], [1, 3, 2], [2, 1, 3], [1, 2, 3]]\n"
     ]
    }
   ],
   "execution_count": 24
  },
  {
   "cell_type": "markdown",
   "metadata": {},
   "source": [
    "### Turning fractions on and off\n",
    "To avoid the loss of precision, fractions are used by default. Changing this to float can be done by setting function attributes `hypervolume_final_float_type` and `hypervolume_computation_float_type`."
   ]
  },
  {
   "cell_type": "code",
   "metadata": {
    "ExecuteTime": {
     "end_time": "2024-11-19T10:37:55.397776Z",
     "start_time": "2024-11-19T10:37:55.382817Z"
    }
   },
   "source": [
    "moa3_fr = get_archive([[1, 2, 3], [2, 1, 3], [3, 3, 1.32], [1.3, 1.3, 3], [1.7, 1.1, 2]], reference_point=[4, 4, 4])\n",
    "print(moa3_fr.hypervolume)\n",
    "\n",
    "get_archive.hypervolume_computation_float_type = float\n",
    "get_archive.hypervolume_final_float_type = float\n",
    "\n",
    "moa3_nofr = get_archive([[1, 2, 3], [2, 1, 3], [3, 3, 1.32], [1.3, 1.3, 3], [1.7, 1.1, 2]], reference_point=[4, 4, 4])\n",
    "print(moa3_nofr.hypervolume)"
   ],
   "outputs": [
    {
     "name": "stdout",
     "output_type": "stream",
     "text": [
      "161245156349030777798724819133399/10141204801825835211973625643008\n",
      "15.899999999999999\n"
     ]
    }
   ],
   "execution_count": 25
  },
  {
   "cell_type": "markdown",
   "metadata": {},
   "source": [
    "### Hypervolume plus indicator\n",
    "At any point, also the hypervolume plus indicator can be returned from the archive. Here is an example of saving both hypervolume and hypervolume plus, to show the convergence of the algorithm."
   ]
  },
  {
   "cell_type": "code",
   "metadata": {
    "ExecuteTime": {
     "end_time": "2024-11-19T10:37:56.455742Z",
     "start_time": "2024-11-19T10:37:55.426709Z"
    }
   },
   "source": [
    "import matplotlib.pyplot as plt\n",
    "import random\n",
    "\n",
    "hv_plus = []\n",
    "hv = []\n",
    "n_obj = 3\n",
    "moa = get_archive(reference_point=[0.1] * n_obj, n_obj=n_obj)\n",
    "for _ in range(20000):\n",
    "    point = [random.random() for _ in range(n_obj)]\n",
    "    moa.add(point)\n",
    "    \n",
    "    hv_plus.append(moa.hypervolume_plus)\n",
    "    hv.append(moa.hypervolume)\n",
    "\n",
    "fig, axs = plt.subplots(1, 2, figsize=(10, 5))\n",
    "axs[0].plot(hv_plus)\n",
    "axs[0].set_title(\"hypervolume_plus\")\n",
    "axs[1].plot(hv)\n",
    "axs[1].set_title(\"hypervolume\")\n",
    "plt.show()"
   ],
   "outputs": [
    {
     "data": {
      "text/plain": [
       "<Figure size 1000x500 with 2 Axes>"
      ],
      "image/png": "[encoded data removed]"
     },
     "metadata": {},
     "output_type": "display_data"
    }
   ],
   "execution_count": 26
  }
 ],
 "metadata": {
  "kernelspec": {
   "display_name": "Python 3 (ipykernel)",
   "language": "python",
   "name": "python3"
  },
  "language_info": {
   "codemirror_mode": {
    "name": "ipython",
    "version": 3
   },
   "file_extension": ".py",
   "mimetype": "text/x-python",
   "name": "python",
   "nbconvert_exporter": "python",
   "pygments_lexer": "ipython3",
   "version": "3.10.14"
  }
 },
 "nbformat": 4,
 "nbformat_minor": 4
}
