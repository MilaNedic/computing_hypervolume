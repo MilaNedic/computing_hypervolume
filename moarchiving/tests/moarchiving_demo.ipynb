{
 "cells": [
  {
   "cell_type": "markdown",
   "metadata": {},
   "source": [
    "# Introduction\n",
    "\n",
    "The `class` `moarchiving.MOArchive` implements a multi-objective (2, 3 and 4 objectives are supported) non-dominated archive. It provides easy and fast access to the overall hypervolume, the contributing hypervolume of each element, and to the [uncrowded hypervolume improvement](https://arxiv.org/abs/1904.08823) of any given point in objective space.\n",
    "\n"
   ]
  },
  {
   "cell_type": "markdown",
   "metadata": {},
   "source": [
    "## Testing and timing of `moarchiving.BiobjectiveNondominatedSortedList`"
   ]
  },
  {
   "cell_type": "code",
   "metadata": {
    "ExecuteTime": {
     "end_time": "2024-10-28T10:25:04.902350Z",
     "start_time": "2024-10-28T10:25:04.869444Z"
    }
   },
   "source": "from moarchiving.moarchive import MOArchive",
   "outputs": [],
   "execution_count": 1
  },
  {
   "cell_type": "markdown",
   "metadata": {},
   "source": [
    "### Initialization of `MOArchive` for 2, 3 and 4 objectives\n",
    "MOArchive object can be created by providing the points and the reference point. "
   ]
  },
  {
   "cell_type": "code",
   "metadata": {
    "ExecuteTime": {
     "end_time": "2024-10-28T10:25:04.918308Z",
     "start_time": "2024-10-28T10:25:04.905345Z"
    }
   },
   "source": [
    "moa2d = MOArchive([[-0.749, -1.188], [-0.557, 1.1076], [0.2454, 0.4724], [-1.146, -0.110]], reference_point=[10, 10], infos=[\"a\", \"b\", \"c\", \"d\"])\n",
    "print(\"points in the archive:\", moa2d.points)\n",
    "print(\"infos of the corresponding points:\", moa2d.infos)"
   ],
   "outputs": [
    {
     "name": "stdout",
     "output_type": "stream",
     "text": [
      "points in the archive: [[-1.146, -0.11], [-0.749, -1.188]]\n",
      "infos of the corresponding points: ['d', 'a']\n"
     ]
    }
   ],
   "execution_count": 2
  },
  {
   "metadata": {
    "ExecuteTime": {
     "end_time": "2024-10-28T10:25:04.934265Z",
     "start_time": "2024-10-28T10:25:04.920306Z"
    }
   },
   "cell_type": "code",
   "source": [
    "moa3d = MOArchive([[-0.749, -1.188, 0.341], [-0.557, 1.1076, 3.896], [0.2454, 0.4724, -0.234], [5.433, -1.146, -0.110]], [10, 10, 10], [\"a\", \"b\", \"c\", \"d\"])\n",
    "print(\"points in the archive:\", moa3d.points)\n",
    "print(\"infos of the corresponding points:\", moa3d.infos)"
   ],
   "outputs": [
    {
     "name": "stdout",
     "output_type": "stream",
     "text": [
      "points in the archive: [[0.2454, 0.4724, -0.234], [5.433, -1.146, -0.11], [-0.749, -1.188, 0.341]]\n",
      "infos of the corresponding points: ['c', 'd', 'a']\n"
     ]
    }
   ],
   "execution_count": 3
  },
  {
   "metadata": {
    "ExecuteTime": {
     "end_time": "2024-10-28T10:25:04.949717Z",
     "start_time": "2024-10-28T10:25:04.935262Z"
    }
   },
   "cell_type": "code",
   "source": [
    "moa4d = MOArchive([[-0.749, -1.188, 0.341, 0.123], [-0.557, 1.1076, 3.896, 0.123], [0.2454, 0.4724, -0.234, 0.123], [5.433, -1.146, -0.110, 0.123]], \n",
    "                  [10, 10, 10, 10], [\"a\", \"b\", \"c\", \"d\"])\n",
    "print(\"points in the archive:\", moa4d.points)\n",
    "print(\"infos of the corresponding points:\", moa4d.infos)"
   ],
   "outputs": [
    {
     "name": "stdout",
     "output_type": "stream",
     "text": [
      "points in the archive: [[0.2454, 0.4724, -0.234, 0.123], [5.433, -1.146, -0.11, 0.123], [-0.749, -1.188, 0.341, 0.123]]\n",
      "infos of the corresponding points: ['c', 'd', 'a']\n"
     ]
    }
   ],
   "execution_count": 4
  },
  {
   "metadata": {},
   "cell_type": "markdown",
   "source": [
    "### Initializing empty archive and adding points\n",
    "MoArchive can also be initialized with no points, but then the number of objectives must be provided."
   ]
  },
  {
   "metadata": {
    "ExecuteTime": {
     "end_time": "2024-10-28T10:25:04.965675Z",
     "start_time": "2024-10-28T10:25:04.951712Z"
    }
   },
   "cell_type": "code",
   "source": [
    "moa = MOArchive(reference_point=[4, 4, 4], n_obj=3)\n",
    "print(\"points in the archive:\", moa.points)\n",
    "print(\"infos of the corresponding points:\", moa.infos)"
   ],
   "outputs": [
    {
     "name": "stdout",
     "output_type": "stream",
     "text": [
      "points in the archive: []\n",
      "infos of the corresponding points: []\n"
     ]
    }
   ],
   "execution_count": 5
  },
  {
   "metadata": {},
   "cell_type": "markdown",
   "source": "We can always add points to the archive using the `add` method."
  },
  {
   "metadata": {
    "ExecuteTime": {
     "end_time": "2024-10-28T10:25:04.981632Z",
     "start_time": "2024-10-28T10:25:04.967670Z"
    }
   },
   "cell_type": "code",
   "source": [
    "# add one point\n",
    "moa.add([1, 2, 3], \"a\")\n",
    "print(\"points:\", moa.points)\n",
    "print(\"infos:\", moa.infos)\n",
    "\n",
    "# add another point\n",
    "moa.add([3, 2, 1], \"b\")\n",
    "print(\"points:\", moa.points)\n",
    "print(\"infos:\", moa.infos)\n",
    "\n",
    "# add a dominated point (should not be added)\n",
    "moa.add([3, 3, 3], \"c\")\n",
    "print(\"points:\", moa.points)\n",
    "print(\"infos:\", moa.infos)"
   ],
   "outputs": [
    {
     "name": "stdout",
     "output_type": "stream",
     "text": [
      "points: [[1, 2, 3]]\n",
      "infos: ['a']\n",
      "points: [[3, 2, 1], [1, 2, 3]]\n",
      "infos: ['b', 'a']\n",
      "points: [[3, 2, 1], [1, 2, 3]]\n",
      "infos: ['b', 'a']\n"
     ]
    }
   ],
   "execution_count": 6
  },
  {
   "metadata": {},
   "cell_type": "markdown",
   "source": "We can also add multiple points at once using the `add_list` method."
  },
  {
   "metadata": {
    "ExecuteTime": {
     "end_time": "2024-10-28T10:25:04.997589Z",
     "start_time": "2024-10-28T10:25:04.983627Z"
    }
   },
   "cell_type": "code",
   "source": [
    "moa.add_list([[2, 1, 3], [1, 3, 2], [3, 2, 0], [2, 2, 4]], [\"d\", \"e\", \"f\", \"g\"])\n",
    "print(\"points:\", moa.points)\n",
    "print(\"infos:\", moa.infos)"
   ],
   "outputs": [
    {
     "name": "stdout",
     "output_type": "stream",
     "text": [
      "points: [[3, 2, 0], [1, 3, 2], [2, 1, 3], [1, 2, 3]]\n",
      "infos: ['f', 'e', 'd', 'a']\n"
     ]
    }
   ],
   "execution_count": 7
  },
  {
   "metadata": {},
   "cell_type": "markdown",
   "source": [
    "### Hypervolume computation\n",
    "At any point we can access the hypervolume of the archive using the `hypervolume` attribute."
   ]
  },
  {
   "metadata": {
    "ExecuteTime": {
     "end_time": "2024-10-28T10:25:05.012550Z",
     "start_time": "2024-10-28T10:25:04.999584Z"
    }
   },
   "cell_type": "code",
   "source": "moa.hypervolume",
   "outputs": [
    {
     "data": {
      "text/plain": [
       "16"
      ]
     },
     "execution_count": 8,
     "metadata": {},
     "output_type": "execute_result"
    }
   ],
   "execution_count": 8
  },
  {
   "metadata": {},
   "cell_type": "markdown",
   "source": "### Dominates and dominators:"
  },
  {
   "metadata": {
    "ExecuteTime": {
     "end_time": "2024-10-28T10:25:05.043831Z",
     "start_time": "2024-10-28T10:25:05.026513Z"
    }
   },
   "cell_type": "code",
   "source": "moa.dominates([2, 3, 3]), moa.dominators([2, 3, 3])\n",
   "outputs": [
    {
     "data": {
      "text/plain": [
       "(True, [[1, 3, 2], [2, 1, 3], [1, 2, 3]])"
      ]
     },
     "execution_count": 9,
     "metadata": {},
     "output_type": "execute_result"
    }
   ],
   "execution_count": 9
  },
  {
   "metadata": {
    "ExecuteTime": {
     "end_time": "2024-10-28T10:25:05.139562Z",
     "start_time": "2024-10-28T10:25:05.121607Z"
    }
   },
   "cell_type": "code",
   "source": "moa.dominates([3, 1, 1]), moa.dominators([3, 1, 1])\n",
   "outputs": [
    {
     "data": {
      "text/plain": [
       "(False, [])"
      ]
     },
     "execution_count": 10,
     "metadata": {},
     "output_type": "execute_result"
    }
   ],
   "execution_count": 10
  },
  {
   "metadata": {},
   "cell_type": "markdown",
   "source": "### Contributing hypervolumes"
  },
  {
   "metadata": {
    "ExecuteTime": {
     "end_time": "2024-10-28T10:25:05.200889Z",
     "start_time": "2024-10-28T10:25:05.179445Z"
    }
   },
   "cell_type": "code",
   "source": "moa.contributing_hypervolumes",
   "outputs": [
    {
     "data": {
      "text/plain": [
       "[5, 2, 2, 1]"
      ]
     },
     "execution_count": 11,
     "metadata": {},
     "output_type": "execute_result"
    }
   ],
   "execution_count": 11
  },
  {
   "cell_type": "code",
   "metadata": {
    "ExecuteTime": {
     "end_time": "2024-10-28T10:25:05.294468Z",
     "start_time": "2024-10-28T10:25:05.274521Z"
    }
   },
   "source": [
    "for i, point in enumerate(moa.points):\n",
    "    assert moa.contributing_hypervolume(point) == moa.contributing_hypervolumes[i]\n",
    "    print(\"contributing hv of point\", point, \"is\", moa.contributing_hypervolume(point))"
   ],
   "outputs": [
    {
     "name": "stdout",
     "output_type": "stream",
     "text": [
      "contributing hv of point [3, 2, 0] is 5\n",
      "contributing hv of point [1, 3, 2] is 2\n",
      "contributing hv of point [2, 1, 3] is 2\n",
      "contributing hv of point [1, 2, 3] is 1\n"
     ]
    }
   ],
   "execution_count": 12
  },
  {
   "metadata": {},
   "cell_type": "markdown",
   "source": [
    "### Hypervolume improvement\n",
    "hypervolume of a dominated point is 0"
   ]
  },
  {
   "metadata": {},
   "cell_type": "markdown",
   "source": ""
  },
  {
   "metadata": {
    "ExecuteTime": {
     "end_time": "2024-10-28T10:25:05.356330Z",
     "start_time": "2024-10-28T10:25:05.336355Z"
    }
   },
   "cell_type": "code",
   "source": [
    "print(moa.dominates([3, 3, 3]))\n",
    "moa.hypervolume_improvement([3, 3, 3])"
   ],
   "outputs": [
    {
     "name": "stdout",
     "output_type": "stream",
     "text": [
      "True\n"
     ]
    },
    {
     "data": {
      "text/plain": [
       "-0.0"
      ]
     },
     "execution_count": 13,
     "metadata": {},
     "output_type": "execute_result"
    }
   ],
   "execution_count": 13
  },
  {
   "cell_type": "code",
   "metadata": {
    "ExecuteTime": {
     "end_time": "2024-10-28T10:25:05.386992Z",
     "start_time": "2024-10-28T10:25:05.367272Z"
    }
   },
   "source": [
    "print(\"hypervolume:\", moa.hypervolume)\n",
    "print(\"hv improvement of adding [2, 2, 2]:\", moa.hypervolume_improvement([2, 2, 2]))\n",
    "moa.add([2, 2, 2])\n",
    "print(\"new hypervolume\", moa.hypervolume)"
   ],
   "outputs": [
    {
     "name": "stdout",
     "output_type": "stream",
     "text": [
      "hypervolume: 16\n",
      "hv improvement of adding [2, 2, 2]: 1\n",
      "new hypervolume 17\n"
     ]
    }
   ],
   "execution_count": 14
  },
  {
   "metadata": {},
   "cell_type": "markdown",
   "source": "### Distance to pareto front"
  },
  {
   "metadata": {
    "ExecuteTime": {
     "end_time": "2024-10-28T10:25:05.479777Z",
     "start_time": "2024-10-28T10:25:05.466783Z"
    }
   },
   "cell_type": "code",
   "source": "moa.distance_to_pareto_front([3, 3, 2])",
   "outputs": [
    {
     "data": {
      "text/plain": [
       "0.0"
      ]
     },
     "execution_count": 15,
     "metadata": {},
     "output_type": "execute_result"
    }
   ],
   "execution_count": 15
  },
  {
   "metadata": {
    "ExecuteTime": {
     "end_time": "2024-10-28T10:25:05.526623Z",
     "start_time": "2024-10-28T10:25:05.515652Z"
    }
   },
   "cell_type": "code",
   "source": "moa.distance_to_pareto_front([4, 3, 3])",
   "outputs": [
    {
     "data": {
      "text/plain": [
       "1.0"
      ]
     },
     "execution_count": 16,
     "metadata": {},
     "output_type": "execute_result"
    }
   ],
   "execution_count": 16
  },
  {
   "metadata": {},
   "cell_type": "markdown",
   "source": "### Distance to hypervolume area, in domain"
  },
  {
   "metadata": {
    "ExecuteTime": {
     "end_time": "2024-10-28T10:25:05.604742Z",
     "start_time": "2024-10-28T10:25:05.584766Z"
    }
   },
   "cell_type": "code",
   "source": "moa.in_domain([3, 3, 3]), moa.distance_to_hypervolume_area([3, 3, 3])",
   "outputs": [
    {
     "data": {
      "text/plain": [
       "(True, 0.0)"
      ]
     },
     "execution_count": 17,
     "metadata": {},
     "output_type": "execute_result"
    }
   ],
   "execution_count": 17
  },
  {
   "metadata": {
    "ExecuteTime": {
     "end_time": "2024-10-28T10:25:05.652276Z",
     "start_time": "2024-10-28T10:25:05.630646Z"
    }
   },
   "cell_type": "code",
   "source": "moa.in_domain([5, 5, 5]), moa.distance_to_hypervolume_area([5, 5, 5])",
   "outputs": [
    {
     "data": {
      "text/plain": [
       "(False, 1.7320508075688772)"
      ]
     },
     "execution_count": 18,
     "metadata": {},
     "output_type": "execute_result"
    }
   ],
   "execution_count": 18
  },
  {
   "metadata": {
    "ExecuteTime": {
     "end_time": "2024-10-28T10:25:05.668243Z",
     "start_time": "2024-10-28T10:25:05.662255Z"
    }
   },
   "cell_type": "code",
   "source": "moa.in_domain([1, 1, 14]), moa.distance_to_hypervolume_area([1, 1, 14])",
   "outputs": [
    {
     "data": {
      "text/plain": [
       "(False, 10.0)"
      ]
     },
     "execution_count": 19,
     "metadata": {},
     "output_type": "execute_result"
    }
   ],
   "execution_count": 19
  },
  {
   "metadata": {},
   "cell_type": "markdown",
   "source": "### Copying an archive"
  },
  {
   "metadata": {
    "ExecuteTime": {
     "end_time": "2024-10-28T10:25:05.745660Z",
     "start_time": "2024-10-28T10:25:05.737657Z"
    }
   },
   "cell_type": "code",
   "source": [
    "moa_copy = moa.copy()\n",
    "print(\"moa\", moa.points)\n",
    "print(\"moa_copy\", moa_copy.points)"
   ],
   "outputs": [
    {
     "name": "stdout",
     "output_type": "stream",
     "text": [
      "moa [[3, 2, 0], [2, 2, 2], [1, 3, 2], [2, 1, 3], [1, 2, 3]]\n",
      "moa_copy [[3, 2, 0], [2, 2, 2], [1, 3, 2], [2, 1, 3], [1, 2, 3]]\n"
     ]
    }
   ],
   "execution_count": 20
  },
  {
   "metadata": {
    "ExecuteTime": {
     "end_time": "2024-10-28T10:25:05.775643Z",
     "start_time": "2024-10-28T10:25:05.765584Z"
    }
   },
   "cell_type": "code",
   "source": [
    "moa.add([1, 0, 2])\n",
    "print(\"moa\", moa.points)\n",
    "print(\"moa_copy\", moa_copy.points)"
   ],
   "outputs": [
    {
     "name": "stdout",
     "output_type": "stream",
     "text": [
      "moa [[3, 2, 0], [1, 0, 2]]\n",
      "moa_copy [[3, 2, 0], [2, 2, 2], [1, 3, 2], [2, 1, 3], [1, 2, 3]]\n"
     ]
    }
   ],
   "execution_count": 21
  },
  {
   "metadata": {
    "ExecuteTime": {
     "end_time": "2024-10-28T10:25:05.837482Z",
     "start_time": "2024-10-28T10:25:05.823491Z"
    }
   },
   "cell_type": "code",
   "source": [
    "moa_copy.remove([3, 2, 0])\n",
    "print(\"moa\", moa.points)\n",
    "print(\"moa_copy\", moa_copy.points)"
   ],
   "outputs": [
    {
     "name": "stdout",
     "output_type": "stream",
     "text": [
      "moa [[3, 2, 0], [1, 0, 2]]\n",
      "moa_copy [[2, 2, 2], [1, 3, 2], [2, 1, 3], [1, 2, 3]]\n"
     ]
    }
   ],
   "execution_count": 22
  }
 ],
 "metadata": {
  "kernelspec": {
   "display_name": "Python 3",
   "language": "python",
   "name": "python3"
  },
  "language_info": {
   "codemirror_mode": {
    "name": "ipython",
    "version": 3
   },
   "file_extension": ".py",
   "mimetype": "text/x-python",
   "name": "python",
   "nbconvert_exporter": "python",
   "pygments_lexer": "ipython3",
   "version": "3.7.3"
  }
 },
 "nbformat": 4,
 "nbformat_minor": 2
}
