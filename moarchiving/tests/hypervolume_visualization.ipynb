{
 "cells": [
  {
   "cell_type": "code",
   "id": "initial_id",
   "metadata": {
    "collapsed": true,
    "ExecuteTime": {
     "end_time": "2024-10-24T14:09:35.254159Z",
     "start_time": "2024-10-24T14:09:34.801718Z"
    }
   },
   "source": [
    "import plotly.graph_objects as go\n",
    "from plotly.subplots import make_subplots\n",
    "import numpy as np\n",
    "from moarchiving.moarchiving3d import MOArchive3d\n",
    "from moarchiving.tests.test_moarchiving3d import get_non_dominated_points\n",
    "\n"
   ],
   "outputs": [],
   "execution_count": 1
  },
  {
   "metadata": {
    "ExecuteTime": {
     "end_time": "2024-10-24T14:15:08.138614Z",
     "start_time": "2024-10-24T14:15:08.118668Z"
    }
   },
   "cell_type": "code",
   "source": [
    "def draw_point(point, ref_point, fig):\n",
    "    # draw a cube with the point as one of the vertices and the ref_point as the opposite vertex\n",
    "    fig.add_trace(go.Mesh3d(\n",
    "        # 8 vertices of a cube\n",
    "        x=[point[0], point[0], ref_point[0], ref_point[0], point[0], point[0], ref_point[0], ref_point[0]],\n",
    "        y=[point[1], ref_point[1], ref_point[1], point[1], point[1], ref_point[1], ref_point[1], point[1]],\n",
    "        z=[point[2], point[2], point[2], point[2], ref_point[2], ref_point[2], ref_point[2], ref_point[2]],\n",
    "        # Intensity of each vertex, which will be interpolated and color-coded\n",
    "        # i, j and k give the vertices of triangles\n",
    "        i=[7, 0, 0, 0, 4, 4, 6, 6, 4, 0, 3, 2],\n",
    "        j=[3, 4, 1, 2, 5, 6, 5, 2, 0, 1, 6, 3],\n",
    "        k=[0, 7, 2, 3, 6, 7, 1, 1, 5, 5, 7, 6],\n",
    "        name='y',\n",
    "        showscale=True\n",
    "    ), row=1, col=1)\n",
    "\n",
    "\n",
    "def draw_hypervolume_with_kink_points(points, ref_point):\n",
    "    moa = MOArchive3d(points, ref_point)\n",
    "    points = moa.points\n",
    "\n",
    "    fig = make_subplots(rows=1, cols=1,\n",
    "                        specs=[[{'type': 'surface'}]])\n",
    "\n",
    "    # add a scatter plot to the figure\n",
    "    fig.add_trace(go.Scatter3d(\n",
    "        x=[ref_point[0]],\n",
    "        y=[ref_point[1]],\n",
    "        z=[ref_point[2]],\n",
    "        mode='markers',\n",
    "        marker=dict(\n",
    "            size=8,\n",
    "            color='rgb(160, 160, 160)',                # set color to black\n",
    "            symbol='circle',                    # set symbol to circle\n",
    "        ),\n",
    "        name=\"ref_point\"\n",
    "    ), row=1, col=1)\n",
    "\n",
    "    for p in points:\n",
    "        draw_point(p, ref_point, fig)\n",
    "        fig.add_trace(go.Scatter3d(\n",
    "            x=[p[0]],\n",
    "            y=[p[1]],\n",
    "            z=[p[2]],\n",
    "            mode='markers',\n",
    "            marker=dict(\n",
    "                size=4,\n",
    "                color='rgb(0, 0, 0)',                # set color to black\n",
    "                symbol='x',                    # set symbol to circle\n",
    "                line=dict(\n",
    "                    color='rgb(0, 0, 0)',            # set line color to black\n",
    "                    width=0.5\n",
    "                )\n",
    "            ),\n",
    "            name=str(p)\n",
    "        ), row=1, col=1)\n",
    "    eps = ref_point[0] / 100\n",
    "\n",
    "    kink_points = moa._get_kink_points()\n",
    "\n",
    "    for k in kink_points:\n",
    "        fig.add_trace(go.Scatter3d(\n",
    "            x=[k[0] - eps],\n",
    "            y=[k[1] - eps],\n",
    "            z=[k[2] - eps],\n",
    "            mode='markers',\n",
    "            marker=dict(\n",
    "                size=10,\n",
    "                color='rgb(0, 0, 0)',\n",
    "                symbol='circle',\n",
    "            ),\n",
    "            name=str(k)\n",
    "        ), row=1, col=1)\n",
    "\n",
    "    # set axis limits between 0 and ref_point\n",
    "    fig.update_layout(scene=dict(\n",
    "        xaxis=dict(range=[0, ref_point[0]]),\n",
    "        yaxis=dict(range=[0, ref_point[1]]),\n",
    "        zaxis=dict(range=[0, ref_point[2]]),\n",
    "        aspectmode='cube'\n",
    "    ))\n",
    "\n",
    "    fig.show()\n"
   ],
   "id": "1aa806e5d6528753",
   "outputs": [],
   "execution_count": 7
  },
  {
   "metadata": {
    "ExecuteTime": {
     "end_time": "2024-10-24T14:15:09.212992Z",
     "start_time": "2024-10-24T14:15:09.041097Z"
    }
   },
   "cell_type": "code",
   "source": [
    "n_points = 20\n",
    "points = np.random.rand(20, 3)\n",
    "non_dominated_points = get_non_dominated_points(20, 3)\n",
    "ref_point = [1, 1, 1]\n",
    "draw_hypervolume_with_kink_points(points, ref_point)\n",
    "draw_hypervolume_with_kink_points(non_dominated_points, ref_point)"
   ],
   "id": "a6cb7cdb3fab09cf",
   "outputs": [
    {
     "data": {
      "application/vnd.plotly.v1+json": {
       "data": [
        {
         "marker": {
          "color": "rgb(160, 160, 160)",
          "size": 8,
          "symbol": "circle"
         },
         "mode": "markers",
         "name": "ref_point",
         "x": [
          1
         ],
         "y": [
          1
         ],
         "z": [
          1
         ],
         "type": "scatter3d",
         "scene": "scene"
        },
        {
         "i": [
          7,
          0,
          0,
          0,
          4,
          4,
          6,
          6,
          4,
          0,
          3,
          2
         ],
         "j": [
          3,
          4,
          1,
          2,
          5,
          6,
          5,
          2,
          0,
          1,
          6,
          3
         ],
         "k": [
          0,
          7,
          2,
          3,
          6,
          7,
          1,
          1,
          5,
          5,
          7,
          6
         ],
         "name": "y",
         "showscale": true,
         "x": [
          0.8492000346323184,
          0.8492000346323184,
          1,
          1,
          0.8492000346323184,
          0.8492000346323184,
          1,
          1
         ],
         "y": [
          0.9518045600355136,
          1,
          1,
          0.9518045600355136,
          0.9518045600355136,
          1,
          1,
          0.9518045600355136
         ],
         "z": [
          0.034764598134870095,
          0.034764598134870095,
          0.034764598134870095,
          0.034764598134870095,
          1,
          1,
          1,
          1
         ],
         "type": "mesh3d",
         "scene": "scene"
        },
        {
         "marker": {
          "color": "rgb(0, 0, 0)",
          "line": {
           "color": "rgb(0, 0, 0)",
           "width": 0.5
          },
          "size": 4,
          "symbol": "x"
         },
         "mode": "markers",
         "name": "[0.8492000346323184, 0.9518045600355136, 0.034764598134870095]",
         "x": [
          0.8492000346323184
         ],
         "y": [
          0.9518045600355136
         ],
         "z": [
          0.034764598134870095
         ],
         "type": "scatter3d",
         "scene": "scene"
        },
        {
         "i": [
          7,
          0,
          0,
          0,
          4,
          4,
          6,
          6,
          4,
          0,
          3,
          2
         ],
         "j": [
          3,
          4,
          1,
          2,
          5,
          6,
          5,
          2,
          0,
          1,
          6,
          3
         ],
         "k": [
          0,
          7,
          2,
          3,
          6,
          7,
          1,
          1,
          5,
          5,
          7,
          6
         ],
         "name": "y",
         "showscale": true,
         "x": [
          0.8479600354573631,
          0.8479600354573631,
          1,
          1,
          0.8479600354573631,
          0.8479600354573631,
          1,
          1
         ],
         "y": [
          0.7739977405463551,
          1,
          1,
          0.7739977405463551,
          0.7739977405463551,
          1,
          1,
          0.7739977405463551
         ],
         "z": [
          0.03624923420233084,
          0.03624923420233084,
          0.03624923420233084,
          0.03624923420233084,
          1,
          1,
          1,
          1
         ],
         "type": "mesh3d",
         "scene": "scene"
        },
        {
         "marker": {
          "color": "rgb(0, 0, 0)",
          "line": {
           "color": "rgb(0, 0, 0)",
           "width": 0.5
          },
          "size": 4,
          "symbol": "x"
         },
         "mode": "markers",
         "name": "[0.8479600354573631, 0.7739977405463551, 0.03624923420233084]",
         "x": [
          0.8479600354573631
         ],
         "y": [
          0.7739977405463551
         ],
         "z": [
          0.03624923420233084
         ],
         "type": "scatter3d",
         "scene": "scene"
        },
        {
         "i": [
          7,
          0,
          0,
          0,
          4,
          4,
          6,
          6,
          4,
          0,
          3,
          2
         ],
         "j": [
          3,
          4,
          1,
          2,
          5,
          6,
          5,
          2,
          0,
          1,
          6,
          3
         ],
         "k": [
          0,
          7,
          2,
          3,
          6,
          7,
          1,
          1,
          5,
          5,
          7,
          6
         ],
         "name": "y",
         "showscale": true,
         "x": [
          0.2195747957912565,
          0.2195747957912565,
          1,
          1,
          0.2195747957912565,
          0.2195747957912565,
          1,
          1
         ],
         "y": [
          0.43043435468313096,
          1,
          1,
          0.43043435468313096,
          0.43043435468313096,
          1,
          1,
          0.43043435468313096
         ],
         "z": [
          0.07064183765121557,
          0.07064183765121557,
          0.07064183765121557,
          0.07064183765121557,
          1,
          1,
          1,
          1
         ],
         "type": "mesh3d",
         "scene": "scene"
        },
        {
         "marker": {
          "color": "rgb(0, 0, 0)",
          "line": {
           "color": "rgb(0, 0, 0)",
           "width": 0.5
          },
          "size": 4,
          "symbol": "x"
         },
         "mode": "markers",
         "name": "[0.2195747957912565, 0.43043435468313096, 0.07064183765121557]",
         "x": [
          0.2195747957912565
         ],
         "y": [
          0.43043435468313096
         ],
         "z": [
          0.07064183765121557
         ],
         "type": "scatter3d",
         "scene": "scene"
        },
        {
         "i": [
          7,
          0,
          0,
          0,
          4,
          4,
          6,
          6,
          4,
          0,
          3,
          2
         ],
         "j": [
          3,
          4,
          1,
          2,
          5,
          6,
          5,
          2,
          0,
          1,
          6,
          3
         ],
         "k": [
          0,
          7,
          2,
          3,
          6,
          7,
          1,
          1,
          5,
          5,
          7,
          6
         ],
         "name": "y",
         "showscale": true,
         "x": [
          0.7305866540338741,
          0.7305866540338741,
          1,
          1,
          0.7305866540338741,
          0.7305866540338741,
          1,
          1
         ],
         "y": [
          0.10436925923017282,
          1,
          1,
          0.10436925923017282,
          0.10436925923017282,
          1,
          1,
          0.10436925923017282
         ],
         "z": [
          0.2509402732819729,
          0.2509402732819729,
          0.2509402732819729,
          0.2509402732819729,
          1,
          1,
          1,
          1
         ],
         "type": "mesh3d",
         "scene": "scene"
        },
        {
         "marker": {
          "color": "rgb(0, 0, 0)",
          "line": {
           "color": "rgb(0, 0, 0)",
           "width": 0.5
          },
          "size": 4,
          "symbol": "x"
         },
         "mode": "markers",
         "name": "[0.7305866540338741, 0.10436925923017282, 0.2509402732819729]",
         "x": [
          0.7305866540338741
         ],
         "y": [
          0.10436925923017282
         ],
         "z": [
          0.2509402732819729
         ],
         "type": "scatter3d",
         "scene": "scene"
        },
        {
         "i": [
          7,
          0,
          0,
          0,
          4,
          4,
          6,
          6,
          4,
          0,
          3,
          2
         ],
         "j": [
          3,
          4,
          1,
          2,
          5,
          6,
          5,
          2,
          0,
          1,
          6,
          3
         ],
         "k": [
          0,
          7,
          2,
          3,
          6,
          7,
          1,
          1,
          5,
          5,
          7,
          6
         ],
         "name": "y",
         "showscale": true,
         "x": [
          0.1479939615263136,
          0.1479939615263136,
          1,
          1,
          0.1479939615263136,
          0.1479939615263136,
          1,
          1
         ],
         "y": [
          0.6531979279893879,
          1,
          1,
          0.6531979279893879,
          0.6531979279893879,
          1,
          1,
          0.6531979279893879
         ],
         "z": [
          0.2600446641637525,
          0.2600446641637525,
          0.2600446641637525,
          0.2600446641637525,
          1,
          1,
          1,
          1
         ],
         "type": "mesh3d",
         "scene": "scene"
        },
        {
         "marker": {
          "color": "rgb(0, 0, 0)",
          "line": {
           "color": "rgb(0, 0, 0)",
           "width": 0.5
          },
          "size": 4,
          "symbol": "x"
         },
         "mode": "markers",
         "name": "[0.1479939615263136, 0.6531979279893879, 0.2600446641637525]",
         "x": [
          0.1479939615263136
         ],
         "y": [
          0.6531979279893879
         ],
         "z": [
          0.2600446641637525
         ],
         "type": "scatter3d",
         "scene": "scene"
        },
        {
         "i": [
          7,
          0,
          0,
          0,
          4,
          4,
          6,
          6,
          4,
          0,
          3,
          2
         ],
         "j": [
          3,
          4,
          1,
          2,
          5,
          6,
          5,
          2,
          0,
          1,
          6,
          3
         ],
         "k": [
          0,
          7,
          2,
          3,
          6,
          7,
          1,
          1,
          5,
          5,
          7,
          6
         ],
         "name": "y",
         "showscale": true,
         "x": [
          0.1428709650162835,
          0.1428709650162835,
          1,
          1,
          0.1428709650162835,
          0.1428709650162835,
          1,
          1
         ],
         "y": [
          0.3860973376091744,
          1,
          1,
          0.3860973376091744,
          0.3860973376091744,
          1,
          1,
          0.3860973376091744
         ],
         "z": [
          0.3955793968531667,
          0.3955793968531667,
          0.3955793968531667,
          0.3955793968531667,
          1,
          1,
          1,
          1
         ],
         "type": "mesh3d",
         "scene": "scene"
        },
        {
         "marker": {
          "color": "rgb(0, 0, 0)",
          "line": {
           "color": "rgb(0, 0, 0)",
           "width": 0.5
          },
          "size": 4,
          "symbol": "x"
         },
         "mode": "markers",
         "name": "[0.1428709650162835, 0.3860973376091744, 0.3955793968531667]",
         "x": [
          0.1428709650162835
         ],
         "y": [
          0.3860973376091744
         ],
         "z": [
          0.3955793968531667
         ],
         "type": "scatter3d",
         "scene": "scene"
        },
        {
         "i": [
          7,
          0,
          0,
          0,
          4,
          4,
          6,
          6,
          4,
          0,
          3,
          2
         ],
         "j": [
          3,
          4,
          1,
          2,
          5,
          6,
          5,
          2,
          0,
          1,
          6,
          3
         ],
         "k": [
          0,
          7,
          2,
          3,
          6,
          7,
          1,
          1,
          5,
          5,
          7,
          6
         ],
         "name": "y",
         "showscale": true,
         "x": [
          0.45988364040704477,
          0.45988364040704477,
          1,
          1,
          0.45988364040704477,
          0.45988364040704477,
          1,
          1
         ],
         "y": [
          0.3137162089209936,
          1,
          1,
          0.3137162089209936,
          0.3137162089209936,
          1,
          1,
          0.3137162089209936
         ],
         "z": [
          0.7126068974699269,
          0.7126068974699269,
          0.7126068974699269,
          0.7126068974699269,
          1,
          1,
          1,
          1
         ],
         "type": "mesh3d",
         "scene": "scene"
        },
        {
         "marker": {
          "color": "rgb(0, 0, 0)",
          "line": {
           "color": "rgb(0, 0, 0)",
           "width": 0.5
          },
          "size": 4,
          "symbol": "x"
         },
         "mode": "markers",
         "name": "[0.45988364040704477, 0.3137162089209936, 0.7126068974699269]",
         "x": [
          0.45988364040704477
         ],
         "y": [
          0.3137162089209936
         ],
         "z": [
          0.7126068974699269
         ],
         "type": "scatter3d",
         "scene": "scene"
        },
        {
         "i": [
          7,
          0,
          0,
          0,
          4,
          4,
          6,
          6,
          4,
          0,
          3,
          2
         ],
         "j": [
          3,
          4,
          1,
          2,
          5,
          6,
          5,
          2,
          0,
          1,
          6,
          3
         ],
         "k": [
          0,
          7,
          2,
          3,
          6,
          7,
          1,
          1,
          5,
          5,
          7,
          6
         ],
         "name": "y",
         "showscale": true,
         "x": [
          0.7162847774749617,
          0.7162847774749617,
          1,
          1,
          0.7162847774749617,
          0.7162847774749617,
          1,
          1
         ],
         "y": [
          0.20275873511637288,
          1,
          1,
          0.20275873511637288,
          0.20275873511637288,
          1,
          1,
          0.20275873511637288
         ],
         "z": [
          0.7810440918863704,
          0.7810440918863704,
          0.7810440918863704,
          0.7810440918863704,
          1,
          1,
          1,
          1
         ],
         "type": "mesh3d",
         "scene": "scene"
        },
        {
         "marker": {
          "color": "rgb(0, 0, 0)",
          "line": {
           "color": "rgb(0, 0, 0)",
           "width": 0.5
          },
          "size": 4,
          "symbol": "x"
         },
         "mode": "markers",
         "name": "[0.7162847774749617, 0.20275873511637288, 0.7810440918863704]",
         "x": [
          0.7162847774749617
         ],
         "y": [
          0.20275873511637288
         ],
         "z": [
          0.7810440918863704
         ],
         "type": "scatter3d",
         "scene": "scene"
        },
        {
         "marker": {
          "color": "rgb(0, 0, 0)",
          "size": 10,
          "symbol": "circle"
         },
         "mode": "markers",
         "name": "[1, 1, 0.034764598134870095]",
         "x": [
          0.99
         ],
         "y": [
          0.99
         ],
         "z": [
          0.024764598134870093
         ],
         "type": "scatter3d",
         "scene": "scene"
        },
        {
         "marker": {
          "color": "rgb(0, 0, 0)",
          "size": 10,
          "symbol": "circle"
         },
         "mode": "markers",
         "name": "[0.8492000346323184, 1, 0.03624923420233084]",
         "x": [
          0.8392000346323184
         ],
         "y": [
          0.99
         ],
         "z": [
          0.026249234202330836
         ],
         "type": "scatter3d",
         "scene": "scene"
        },
        {
         "marker": {
          "color": "rgb(0, 0, 0)",
          "size": 10,
          "symbol": "circle"
         },
         "mode": "markers",
         "name": "[1, 0.9518045600355136, 0.03624923420233084]",
         "x": [
          0.99
         ],
         "y": [
          0.9418045600355136
         ],
         "z": [
          0.026249234202330836
         ],
         "type": "scatter3d",
         "scene": "scene"
        },
        {
         "marker": {
          "color": "rgb(0, 0, 0)",
          "size": 10,
          "symbol": "circle"
         },
         "mode": "markers",
         "name": "[0.8479600354573631, 1, 0.07064183765121557]",
         "x": [
          0.8379600354573631
         ],
         "y": [
          0.99
         ],
         "z": [
          0.060641837651215565
         ],
         "type": "scatter3d",
         "scene": "scene"
        },
        {
         "marker": {
          "color": "rgb(0, 0, 0)",
          "size": 10,
          "symbol": "circle"
         },
         "mode": "markers",
         "name": "[1, 0.7739977405463551, 0.07064183765121557]",
         "x": [
          0.99
         ],
         "y": [
          0.763997740546355
         ],
         "z": [
          0.060641837651215565
         ],
         "type": "scatter3d",
         "scene": "scene"
        },
        {
         "marker": {
          "color": "rgb(0, 0, 0)",
          "size": 10,
          "symbol": "circle"
         },
         "mode": "markers",
         "name": "[1, 0.43043435468313096, 0.2509402732819729]",
         "x": [
          0.99
         ],
         "y": [
          0.42043435468313095
         ],
         "z": [
          0.24094027328197287
         ],
         "type": "scatter3d",
         "scene": "scene"
        },
        {
         "marker": {
          "color": "rgb(0, 0, 0)",
          "size": 10,
          "symbol": "circle"
         },
         "mode": "markers",
         "name": "[0.2195747957912565, 1, 0.2600446641637525]",
         "x": [
          0.20957479579125649
         ],
         "y": [
          0.99
         ],
         "z": [
          0.2500446641637525
         ],
         "type": "scatter3d",
         "scene": "scene"
        },
        {
         "marker": {
          "color": "rgb(0, 0, 0)",
          "size": 10,
          "symbol": "circle"
         },
         "mode": "markers",
         "name": "[0.1479939615263136, 1, 0.3955793968531667]",
         "x": [
          0.1379939615263136
         ],
         "y": [
          0.99
         ],
         "z": [
          0.38557939685316667
         ],
         "type": "scatter3d",
         "scene": "scene"
        },
        {
         "marker": {
          "color": "rgb(0, 0, 0)",
          "size": 10,
          "symbol": "circle"
         },
         "mode": "markers",
         "name": "[0.2195747957912565, 0.6531979279893879, 0.3955793968531667]",
         "x": [
          0.20957479579125649
         ],
         "y": [
          0.6431979279893879
         ],
         "z": [
          0.38557939685316667
         ],
         "type": "scatter3d",
         "scene": "scene"
        },
        {
         "marker": {
          "color": "rgb(0, 0, 0)",
          "size": 10,
          "symbol": "circle"
         },
         "mode": "markers",
         "name": "[0.7305866540338741, 0.43043435468313096, 0.3955793968531667]",
         "x": [
          0.7205866540338741
         ],
         "y": [
          0.42043435468313095
         ],
         "z": [
          0.38557939685316667
         ],
         "type": "scatter3d",
         "scene": "scene"
        },
        {
         "marker": {
          "color": "rgb(0, 0, 0)",
          "size": 10,
          "symbol": "circle"
         },
         "mode": "markers",
         "name": "[0.7305866540338741, 0.3860973376091744, 0.7126068974699269]",
         "x": [
          0.7205866540338741
         ],
         "y": [
          0.3760973376091744
         ],
         "z": [
          0.7026068974699269
         ],
         "type": "scatter3d",
         "scene": "scene"
        },
        {
         "marker": {
          "color": "rgb(0, 0, 0)",
          "size": 10,
          "symbol": "circle"
         },
         "mode": "markers",
         "name": "[0.7305866540338741, 0.3137162089209936, 0.7810440918863704]",
         "x": [
          0.7205866540338741
         ],
         "y": [
          0.3037162089209936
         ],
         "z": [
          0.7710440918863704
         ],
         "type": "scatter3d",
         "scene": "scene"
        },
        {
         "marker": {
          "color": "rgb(0, 0, 0)",
          "size": 10,
          "symbol": "circle"
         },
         "mode": "markers",
         "name": "[0.1428709650162835, 1, 1]",
         "x": [
          0.13287096501628348
         ],
         "y": [
          0.99
         ],
         "z": [
          0.99
         ],
         "type": "scatter3d",
         "scene": "scene"
        },
        {
         "marker": {
          "color": "rgb(0, 0, 0)",
          "size": 10,
          "symbol": "circle"
         },
         "mode": "markers",
         "name": "[0.45988364040704477, 0.3860973376091744, 1]",
         "x": [
          0.44988364040704476
         ],
         "y": [
          0.3760973376091744
         ],
         "z": [
          0.99
         ],
         "type": "scatter3d",
         "scene": "scene"
        },
        {
         "marker": {
          "color": "rgb(0, 0, 0)",
          "size": 10,
          "symbol": "circle"
         },
         "mode": "markers",
         "name": "[0.7162847774749617, 0.3137162089209936, 1]",
         "x": [
          0.7062847774749617
         ],
         "y": [
          0.3037162089209936
         ],
         "z": [
          0.99
         ],
         "type": "scatter3d",
         "scene": "scene"
        },
        {
         "marker": {
          "color": "rgb(0, 0, 0)",
          "size": 10,
          "symbol": "circle"
         },
         "mode": "markers",
         "name": "[0.7305866540338741, 0.20275873511637288, 1]",
         "x": [
          0.7205866540338741
         ],
         "y": [
          0.19275873511637287
         ],
         "z": [
          0.99
         ],
         "type": "scatter3d",
         "scene": "scene"
        },
        {
         "marker": {
          "color": "rgb(0, 0, 0)",
          "size": 10,
          "symbol": "circle"
         },
         "mode": "markers",
         "name": "[1, 0.10436925923017282, 1]",
         "x": [
          0.99
         ],
         "y": [
          0.09436925923017282
         ],
         "z": [
          0.99
         ],
         "type": "scatter3d",
         "scene": "scene"
        }
       ],
       "layout": {
        "template": {
         "data": {
          "histogram2dcontour": [
           {
            "type": "histogram2dcontour",
            "colorbar": {
             "outlinewidth": 0,
             "ticks": ""
            },
            "colorscale": [
             [
              0.0,
              "#0d0887"
             ],
             [
              0.1111111111111111,
              "#46039f"
             ],
             [
              0.2222222222222222,
              "#7201a8"
             ],
             [
              0.3333333333333333,
              "#9c179e"
             ],
             [
              0.4444444444444444,
              "#bd3786"
             ],
             [
              0.5555555555555556,
              "#d8576b"
             ],
             [
              0.6666666666666666,
              "#ed7953"
             ],
             [
              0.7777777777777778,
              "#fb9f3a"
             ],
             [
              0.8888888888888888,
              "#fdca26"
             ],
             [
              1.0,
              "#f0f921"
             ]
            ]
           }
          ],
          "choropleth": [
           {
            "type": "choropleth",
            "colorbar": {
             "outlinewidth": 0,
             "ticks": ""
            }
           }
          ],
          "histogram2d": [
           {
            "type": "histogram2d",
            "colorbar": {
             "outlinewidth": 0,
             "ticks": ""
            },
            "colorscale": [
             [
              0.0,
              "#0d0887"
             ],
             [
              0.1111111111111111,
              "#46039f"
             ],
             [
              0.2222222222222222,
              "#7201a8"
             ],
             [
              0.3333333333333333,
              "#9c179e"
             ],
             [
              0.4444444444444444,
              "#bd3786"
             ],
             [
              0.5555555555555556,
              "#d8576b"
             ],
             [
              0.6666666666666666,
              "#ed7953"
             ],
             [
              0.7777777777777778,
              "#fb9f3a"
             ],
             [
              0.8888888888888888,
              "#fdca26"
             ],
             [
              1.0,
              "#f0f921"
             ]
            ]
           }
          ],
          "heatmap": [
           {
            "type": "heatmap",
            "colorbar": {
             "outlinewidth": 0,
             "ticks": ""
            },
            "colorscale": [
             [
              0.0,
              "#0d0887"
             ],
             [
              0.1111111111111111,
              "#46039f"
             ],
             [
              0.2222222222222222,
              "#7201a8"
             ],
             [
              0.3333333333333333,
              "#9c179e"
             ],
             [
              0.4444444444444444,
              "#bd3786"
             ],
             [
              0.5555555555555556,
              "#d8576b"
             ],
             [
              0.6666666666666666,
              "#ed7953"
             ],
             [
              0.7777777777777778,
              "#fb9f3a"
             ],
             [
              0.8888888888888888,
              "#fdca26"
             ],
             [
              1.0,
              "#f0f921"
             ]
            ]
           }
          ],
          "heatmapgl": [
           {
            "type": "heatmapgl",
            "colorbar": {
             "outlinewidth": 0,
             "ticks": ""
            },
            "colorscale": [
             [
              0.0,
              "#0d0887"
             ],
             [
              0.1111111111111111,
              "#46039f"
             ],
             [
              0.2222222222222222,
              "#7201a8"
             ],
             [
              0.3333333333333333,
              "#9c179e"
             ],
             [
              0.4444444444444444,
              "#bd3786"
             ],
             [
              0.5555555555555556,
              "#d8576b"
             ],
             [
              0.6666666666666666,
              "#ed7953"
             ],
             [
              0.7777777777777778,
              "#fb9f3a"
             ],
             [
              0.8888888888888888,
              "#fdca26"
             ],
             [
              1.0,
              "#f0f921"
             ]
            ]
           }
          ],
          "contourcarpet": [
           {
            "type": "contourcarpet",
            "colorbar": {
             "outlinewidth": 0,
             "ticks": ""
            }
           }
          ],
          "contour": [
           {
            "type": "contour",
            "colorbar": {
             "outlinewidth": 0,
             "ticks": ""
            },
            "colorscale": [
             [
              0.0,
              "#0d0887"
             ],
             [
              0.1111111111111111,
              "#46039f"
             ],
             [
              0.2222222222222222,
              "#7201a8"
             ],
             [
              0.3333333333333333,
              "#9c179e"
             ],
             [
              0.4444444444444444,
              "#bd3786"
             ],
             [
              0.5555555555555556,
              "#d8576b"
             ],
             [
              0.6666666666666666,
              "#ed7953"
             ],
             [
              0.7777777777777778,
              "#fb9f3a"
             ],
             [
              0.8888888888888888,
              "#fdca26"
             ],
             [
              1.0,
              "#f0f921"
             ]
            ]
           }
          ],
          "surface": [
           {
            "type": "surface",
            "colorbar": {
             "outlinewidth": 0,
             "ticks": ""
            },
            "colorscale": [
             [
              0.0,
              "#0d0887"
             ],
             [
              0.1111111111111111,
              "#46039f"
             ],
             [
              0.2222222222222222,
              "#7201a8"
             ],
             [
              0.3333333333333333,
              "#9c179e"
             ],
             [
              0.4444444444444444,
              "#bd3786"
             ],
             [
              0.5555555555555556,
              "#d8576b"
             ],
             [
              0.6666666666666666,
              "#ed7953"
             ],
             [
              0.7777777777777778,
              "#fb9f3a"
             ],
             [
              0.8888888888888888,
              "#fdca26"
             ],
             [
              1.0,
              "#f0f921"
             ]
            ]
           }
          ],
          "mesh3d": [
           {
            "type": "mesh3d",
            "colorbar": {
             "outlinewidth": 0,
             "ticks": ""
            }
           }
          ],
          "scatter": [
           {
            "marker": {
             "line": {
              "color": "#283442"
             }
            },
            "type": "scatter"
           }
          ],
          "parcoords": [
           {
            "type": "parcoords",
            "line": {
             "colorbar": {
              "outlinewidth": 0,
              "ticks": ""
             }
            }
           }
          ],
          "scatterpolargl": [
           {
            "type": "scatterpolargl",
            "marker": {
             "colorbar": {
              "outlinewidth": 0,
              "ticks": ""
             }
            }
           }
          ],
          "bar": [
           {
            "error_x": {
             "color": "#f2f5fa"
            },
            "error_y": {
             "color": "#f2f5fa"
            },
            "marker": {
             "line": {
              "color": "rgb(17,17,17)",
              "width": 0.5
             },
             "pattern": {
              "fillmode": "overlay",
              "size": 10,
              "solidity": 0.2
             }
            },
            "type": "bar"
           }
          ],
          "scattergeo": [
           {
            "type": "scattergeo",
            "marker": {
             "colorbar": {
              "outlinewidth": 0,
              "ticks": ""
             }
            }
           }
          ],
          "scatterpolar": [
           {
            "type": "scatterpolar",
            "marker": {
             "colorbar": {
              "outlinewidth": 0,
              "ticks": ""
             }
            }
           }
          ],
          "histogram": [
           {
            "marker": {
             "pattern": {
              "fillmode": "overlay",
              "size": 10,
              "solidity": 0.2
             }
            },
            "type": "histogram"
           }
          ],
          "scattergl": [
           {
            "marker": {
             "line": {
              "color": "#283442"
             }
            },
            "type": "scattergl"
           }
          ],
          "scatter3d": [
           {
            "type": "scatter3d",
            "line": {
             "colorbar": {
              "outlinewidth": 0,
              "ticks": ""
             }
            },
            "marker": {
             "colorbar": {
              "outlinewidth": 0,
              "ticks": ""
             }
            }
           }
          ],
          "scattermapbox": [
           {
            "type": "scattermapbox",
            "marker": {
             "colorbar": {
              "outlinewidth": 0,
              "ticks": ""
             }
            }
           }
          ],
          "scatterternary": [
           {
            "type": "scatterternary",
            "marker": {
             "colorbar": {
              "outlinewidth": 0,
              "ticks": ""
             }
            }
           }
          ],
          "scattercarpet": [
           {
            "type": "scattercarpet",
            "marker": {
             "colorbar": {
              "outlinewidth": 0,
              "ticks": ""
             }
            }
           }
          ],
          "carpet": [
           {
            "aaxis": {
             "endlinecolor": "#A2B1C6",
             "gridcolor": "#506784",
             "linecolor": "#506784",
             "minorgridcolor": "#506784",
             "startlinecolor": "#A2B1C6"
            },
            "baxis": {
             "endlinecolor": "#A2B1C6",
             "gridcolor": "#506784",
             "linecolor": "#506784",
             "minorgridcolor": "#506784",
             "startlinecolor": "#A2B1C6"
            },
            "type": "carpet"
           }
          ],
          "table": [
           {
            "cells": {
             "fill": {
              "color": "#506784"
             },
             "line": {
              "color": "rgb(17,17,17)"
             }
            },
            "header": {
             "fill": {
              "color": "#2a3f5f"
             },
             "line": {
              "color": "rgb(17,17,17)"
             }
            },
            "type": "table"
           }
          ],
          "barpolar": [
           {
            "marker": {
             "line": {
              "color": "rgb(17,17,17)",
              "width": 0.5
             },
             "pattern": {
              "fillmode": "overlay",
              "size": 10,
              "solidity": 0.2
             }
            },
            "type": "barpolar"
           }
          ],
          "pie": [
           {
            "automargin": true,
            "type": "pie"
           }
          ]
         },
         "layout": {
          "autotypenumbers": "strict",
          "colorway": [
           "#636efa",
           "#EF553B",
           "#00cc96",
           "#ab63fa",
           "#FFA15A",
           "#19d3f3",
           "#FF6692",
           "#B6E880",
           "#FF97FF",
           "#FECB52"
          ],
          "font": {
           "color": "#f2f5fa"
          },
          "hovermode": "closest",
          "hoverlabel": {
           "align": "left"
          },
          "paper_bgcolor": "rgb(17,17,17)",
          "plot_bgcolor": "rgb(17,17,17)",
          "polar": {
           "bgcolor": "rgb(17,17,17)",
           "angularaxis": {
            "gridcolor": "#506784",
            "linecolor": "#506784",
            "ticks": ""
           },
           "radialaxis": {
            "gridcolor": "#506784",
            "linecolor": "#506784",
            "ticks": ""
           }
          },
          "ternary": {
           "bgcolor": "rgb(17,17,17)",
           "aaxis": {
            "gridcolor": "#506784",
            "linecolor": "#506784",
            "ticks": ""
           },
           "baxis": {
            "gridcolor": "#506784",
            "linecolor": "#506784",
            "ticks": ""
           },
           "caxis": {
            "gridcolor": "#506784",
            "linecolor": "#506784",
            "ticks": ""
           }
          },
          "coloraxis": {
           "colorbar": {
            "outlinewidth": 0,
            "ticks": ""
           }
          },
          "colorscale": {
           "sequential": [
            [
             0.0,
             "#0d0887"
            ],
            [
             0.1111111111111111,
             "#46039f"
            ],
            [
             0.2222222222222222,
             "#7201a8"
            ],
            [
             0.3333333333333333,
             "#9c179e"
            ],
            [
             0.4444444444444444,
             "#bd3786"
            ],
            [
             0.5555555555555556,
             "#d8576b"
            ],
            [
             0.6666666666666666,
             "#ed7953"
            ],
            [
             0.7777777777777778,
             "#fb9f3a"
            ],
            [
             0.8888888888888888,
             "#fdca26"
            ],
            [
             1.0,
             "#f0f921"
            ]
           ],
           "sequentialminus": [
            [
             0.0,
             "#0d0887"
            ],
            [
             0.1111111111111111,
             "#46039f"
            ],
            [
             0.2222222222222222,
             "#7201a8"
            ],
            [
             0.3333333333333333,
             "#9c179e"
            ],
            [
             0.4444444444444444,
             "#bd3786"
            ],
            [
             0.5555555555555556,
             "#d8576b"
            ],
            [
             0.6666666666666666,
             "#ed7953"
            ],
            [
             0.7777777777777778,
             "#fb9f3a"
            ],
            [
             0.8888888888888888,
             "#fdca26"
            ],
            [
             1.0,
             "#f0f921"
            ]
           ],
           "diverging": [
            [
             0,
             "#8e0152"
            ],
            [
             0.1,
             "#c51b7d"
            ],
            [
             0.2,
             "#de77ae"
            ],
            [
             0.3,
             "#f1b6da"
            ],
            [
             0.4,
             "#fde0ef"
            ],
            [
             0.5,
             "#f7f7f7"
            ],
            [
             0.6,
             "#e6f5d0"
            ],
            [
             0.7,
             "#b8e186"
            ],
            [
             0.8,
             "#7fbc41"
            ],
            [
             0.9,
             "#4d9221"
            ],
            [
             1,
             "#276419"
            ]
           ]
          },
          "xaxis": {
           "gridcolor": "#283442",
           "linecolor": "#506784",
           "ticks": "",
           "title": {
            "standoff": 15
           },
           "zerolinecolor": "#283442",
           "automargin": true,
           "zerolinewidth": 2
          },
          "yaxis": {
           "gridcolor": "#283442",
           "linecolor": "#506784",
           "ticks": "",
           "title": {
            "standoff": 15
           },
           "zerolinecolor": "#283442",
           "automargin": true,
           "zerolinewidth": 2
          },
          "scene": {
           "xaxis": {
            "backgroundcolor": "rgb(17,17,17)",
            "gridcolor": "#506784",
            "linecolor": "#506784",
            "showbackground": true,
            "ticks": "",
            "zerolinecolor": "#C8D4E3",
            "gridwidth": 2
           },
           "yaxis": {
            "backgroundcolor": "rgb(17,17,17)",
            "gridcolor": "#506784",
            "linecolor": "#506784",
            "showbackground": true,
            "ticks": "",
            "zerolinecolor": "#C8D4E3",
            "gridwidth": 2
           },
           "zaxis": {
            "backgroundcolor": "rgb(17,17,17)",
            "gridcolor": "#506784",
            "linecolor": "#506784",
            "showbackground": true,
            "ticks": "",
            "zerolinecolor": "#C8D4E3",
            "gridwidth": 2
           }
          },
          "shapedefaults": {
           "line": {
            "color": "#f2f5fa"
           }
          },
          "annotationdefaults": {
           "arrowcolor": "#f2f5fa",
           "arrowhead": 0,
           "arrowwidth": 1
          },
          "geo": {
           "bgcolor": "rgb(17,17,17)",
           "landcolor": "rgb(17,17,17)",
           "subunitcolor": "#506784",
           "showland": true,
           "showlakes": true,
           "lakecolor": "rgb(17,17,17)"
          },
          "title": {
           "x": 0.05
          },
          "updatemenudefaults": {
           "bgcolor": "#506784",
           "borderwidth": 0
          },
          "sliderdefaults": {
           "bgcolor": "#C8D4E3",
           "borderwidth": 1,
           "bordercolor": "rgb(17,17,17)",
           "tickwidth": 0
          },
          "mapbox": {
           "style": "dark"
          }
         }
        },
        "scene": {
         "domain": {
          "x": [
           0.0,
           1.0
          ],
          "y": [
           0.0,
           1.0
          ]
         },
         "xaxis": {
          "range": [
           0,
           1
          ]
         },
         "yaxis": {
          "range": [
           0,
           1
          ]
         },
         "zaxis": {
          "range": [
           0,
           1
          ]
         },
         "aspectmode": "cube"
        }
       },
       "config": {
        "plotlyServerURL": "https://plot.ly"
       }
      },
      "text/html": [
       "<div>                            <div id=\"1e72d87b-10c7-40bd-8ab1-d6d02e51bf31\" class=\"plotly-graph-div\" style=\"height:525px; width:100%;\"></div>            <script type=\"text/javascript\">                require([\"plotly\"], function(Plotly) {                    window.PLOTLYENV=window.PLOTLYENV || {};                                    if (document.getElementById(\"1e72d87b-10c7-40bd-8ab1-d6d02e51bf31\")) {                    Plotly.newPlot(                        \"1e72d87b-10c7-40bd-8ab1-d6d02e51bf31\",                        [{\"marker\":{\"color\":\"rgb(160, 160, 160)\",\"size\":8,\"symbol\":\"circle\"},\"mode\":\"markers\",\"name\":\"ref_point\",\"x\":[1],\"y\":[1],\"z\":[1],\"type\":\"scatter3d\",\"scene\":\"scene\"},{\"i\":[7,0,0,0,4,4,6,6,4,0,3,2],\"j\":[3,4,1,2,5,6,5,2,0,1,6,3],\"k\":[0,7,2,3,6,7,1,1,5,5,7,6],\"name\":\"y\",\"showscale\":true,\"x\":[0.8492000346323184,0.8492000346323184,1,1,0.8492000346323184,0.8492000346323184,1,1],\"y\":[0.9518045600355136,1,1,0.9518045600355136,0.9518045600355136,1,1,0.9518045600355136],\"z\":[0.034764598134870095,0.034764598134870095,0.034764598134870095,0.034764598134870095,1,1,1,1],\"type\":\"mesh3d\",\"scene\":\"scene\"},{\"marker\":{\"color\":\"rgb(0, 0, 0)\",\"line\":{\"color\":\"rgb(0, 0, 0)\",\"width\":0.5},\"size\":4,\"symbol\":\"x\"},\"mode\":\"markers\",\"name\":\"[0.8492000346323184, 0.9518045600355136, 0.034764598134870095]\",\"x\":[0.8492000346323184],\"y\":[0.9518045600355136],\"z\":[0.034764598134870095],\"type\":\"scatter3d\",\"scene\":\"scene\"},{\"i\":[7,0,0,0,4,4,6,6,4,0,3,2],\"j\":[3,4,1,2,5,6,5,2,0,1,6,3],\"k\":[0,7,2,3,6,7,1,1,5,5,7,6],\"name\":\"y\",\"showscale\":true,\"x\":[0.8479600354573631,0.8479600354573631,1,1,0.8479600354573631,0.8479600354573631,1,1],\"y\":[0.7739977405463551,1,1,0.7739977405463551,0.7739977405463551,1,1,0.7739977405463551],\"z\":[0.03624923420233084,0.03624923420233084,0.03624923420233084,0.03624923420233084,1,1,1,1],\"type\":\"mesh3d\",\"scene\":\"scene\"},{\"marker\":{\"color\":\"rgb(0, 0, 0)\",\"line\":{\"color\":\"rgb(0, 0, 0)\",\"width\":0.5},\"size\":4,\"symbol\":\"x\"},\"mode\":\"markers\",\"name\":\"[0.8479600354573631, 0.7739977405463551, 0.03624923420233084]\",\"x\":[0.8479600354573631],\"y\":[0.7739977405463551],\"z\":[0.03624923420233084],\"type\":\"scatter3d\",\"scene\":\"scene\"},{\"i\":[7,0,0,0,4,4,6,6,4,0,3,2],\"j\":[3,4,1,2,5,6,5,2,0,1,6,3],\"k\":[0,7,2,3,6,7,1,1,5,5,7,6],\"name\":\"y\",\"showscale\":true,\"x\":[0.2195747957912565,0.2195747957912565,1,1,0.2195747957912565,0.2195747957912565,1,1],\"y\":[0.43043435468313096,1,1,0.43043435468313096,0.43043435468313096,1,1,0.43043435468313096],\"z\":[0.07064183765121557,0.07064183765121557,0.07064183765121557,0.07064183765121557,1,1,1,1],\"type\":\"mesh3d\",\"scene\":\"scene\"},{\"marker\":{\"color\":\"rgb(0, 0, 0)\",\"line\":{\"color\":\"rgb(0, 0, 0)\",\"width\":0.5},\"size\":4,\"symbol\":\"x\"},\"mode\":\"markers\",\"name\":\"[0.2195747957912565, 0.43043435468313096, 0.07064183765121557]\",\"x\":[0.2195747957912565],\"y\":[0.43043435468313096],\"z\":[0.07064183765121557],\"type\":\"scatter3d\",\"scene\":\"scene\"},{\"i\":[7,0,0,0,4,4,6,6,4,0,3,2],\"j\":[3,4,1,2,5,6,5,2,0,1,6,3],\"k\":[0,7,2,3,6,7,1,1,5,5,7,6],\"name\":\"y\",\"showscale\":true,\"x\":[0.7305866540338741,0.7305866540338741,1,1,0.7305866540338741,0.7305866540338741,1,1],\"y\":[0.10436925923017282,1,1,0.10436925923017282,0.10436925923017282,1,1,0.10436925923017282],\"z\":[0.2509402732819729,0.2509402732819729,0.2509402732819729,0.2509402732819729,1,1,1,1],\"type\":\"mesh3d\",\"scene\":\"scene\"},{\"marker\":{\"color\":\"rgb(0, 0, 0)\",\"line\":{\"color\":\"rgb(0, 0, 0)\",\"width\":0.5},\"size\":4,\"symbol\":\"x\"},\"mode\":\"markers\",\"name\":\"[0.7305866540338741, 0.10436925923017282, 0.2509402732819729]\",\"x\":[0.7305866540338741],\"y\":[0.10436925923017282],\"z\":[0.2509402732819729],\"type\":\"scatter3d\",\"scene\":\"scene\"},{\"i\":[7,0,0,0,4,4,6,6,4,0,3,2],\"j\":[3,4,1,2,5,6,5,2,0,1,6,3],\"k\":[0,7,2,3,6,7,1,1,5,5,7,6],\"name\":\"y\",\"showscale\":true,\"x\":[0.1479939615263136,0.1479939615263136,1,1,0.1479939615263136,0.1479939615263136,1,1],\"y\":[0.6531979279893879,1,1,0.6531979279893879,0.6531979279893879,1,1,0.6531979279893879],\"z\":[0.2600446641637525,0.2600446641637525,0.2600446641637525,0.2600446641637525,1,1,1,1],\"type\":\"mesh3d\",\"scene\":\"scene\"},{\"marker\":{\"color\":\"rgb(0, 0, 0)\",\"line\":{\"color\":\"rgb(0, 0, 0)\",\"width\":0.5},\"size\":4,\"symbol\":\"x\"},\"mode\":\"markers\",\"name\":\"[0.1479939615263136, 0.6531979279893879, 0.2600446641637525]\",\"x\":[0.1479939615263136],\"y\":[0.6531979279893879],\"z\":[0.2600446641637525],\"type\":\"scatter3d\",\"scene\":\"scene\"},{\"i\":[7,0,0,0,4,4,6,6,4,0,3,2],\"j\":[3,4,1,2,5,6,5,2,0,1,6,3],\"k\":[0,7,2,3,6,7,1,1,5,5,7,6],\"name\":\"y\",\"showscale\":true,\"x\":[0.1428709650162835,0.1428709650162835,1,1,0.1428709650162835,0.1428709650162835,1,1],\"y\":[0.3860973376091744,1,1,0.3860973376091744,0.3860973376091744,1,1,0.3860973376091744],\"z\":[0.3955793968531667,0.3955793968531667,0.3955793968531667,0.3955793968531667,1,1,1,1],\"type\":\"mesh3d\",\"scene\":\"scene\"},{\"marker\":{\"color\":\"rgb(0, 0, 0)\",\"line\":{\"color\":\"rgb(0, 0, 0)\",\"width\":0.5},\"size\":4,\"symbol\":\"x\"},\"mode\":\"markers\",\"name\":\"[0.1428709650162835, 0.3860973376091744, 0.3955793968531667]\",\"x\":[0.1428709650162835],\"y\":[0.3860973376091744],\"z\":[0.3955793968531667],\"type\":\"scatter3d\",\"scene\":\"scene\"},{\"i\":[7,0,0,0,4,4,6,6,4,0,3,2],\"j\":[3,4,1,2,5,6,5,2,0,1,6,3],\"k\":[0,7,2,3,6,7,1,1,5,5,7,6],\"name\":\"y\",\"showscale\":true,\"x\":[0.45988364040704477,0.45988364040704477,1,1,0.45988364040704477,0.45988364040704477,1,1],\"y\":[0.3137162089209936,1,1,0.3137162089209936,0.3137162089209936,1,1,0.3137162089209936],\"z\":[0.7126068974699269,0.7126068974699269,0.7126068974699269,0.7126068974699269,1,1,1,1],\"type\":\"mesh3d\",\"scene\":\"scene\"},{\"marker\":{\"color\":\"rgb(0, 0, 0)\",\"line\":{\"color\":\"rgb(0, 0, 0)\",\"width\":0.5},\"size\":4,\"symbol\":\"x\"},\"mode\":\"markers\",\"name\":\"[0.45988364040704477, 0.3137162089209936, 0.7126068974699269]\",\"x\":[0.45988364040704477],\"y\":[0.3137162089209936],\"z\":[0.7126068974699269],\"type\":\"scatter3d\",\"scene\":\"scene\"},{\"i\":[7,0,0,0,4,4,6,6,4,0,3,2],\"j\":[3,4,1,2,5,6,5,2,0,1,6,3],\"k\":[0,7,2,3,6,7,1,1,5,5,7,6],\"name\":\"y\",\"showscale\":true,\"x\":[0.7162847774749617,0.7162847774749617,1,1,0.7162847774749617,0.7162847774749617,1,1],\"y\":[0.20275873511637288,1,1,0.20275873511637288,0.20275873511637288,1,1,0.20275873511637288],\"z\":[0.7810440918863704,0.7810440918863704,0.7810440918863704,0.7810440918863704,1,1,1,1],\"type\":\"mesh3d\",\"scene\":\"scene\"},{\"marker\":{\"color\":\"rgb(0, 0, 0)\",\"line\":{\"color\":\"rgb(0, 0, 0)\",\"width\":0.5},\"size\":4,\"symbol\":\"x\"},\"mode\":\"markers\",\"name\":\"[0.7162847774749617, 0.20275873511637288, 0.7810440918863704]\",\"x\":[0.7162847774749617],\"y\":[0.20275873511637288],\"z\":[0.7810440918863704],\"type\":\"scatter3d\",\"scene\":\"scene\"},{\"marker\":{\"color\":\"rgb(0, 0, 0)\",\"size\":10,\"symbol\":\"circle\"},\"mode\":\"markers\",\"name\":\"[1, 1, 0.034764598134870095]\",\"x\":[0.99],\"y\":[0.99],\"z\":[0.024764598134870093],\"type\":\"scatter3d\",\"scene\":\"scene\"},{\"marker\":{\"color\":\"rgb(0, 0, 0)\",\"size\":10,\"symbol\":\"circle\"},\"mode\":\"markers\",\"name\":\"[0.8492000346323184, 1, 0.03624923420233084]\",\"x\":[0.8392000346323184],\"y\":[0.99],\"z\":[0.026249234202330836],\"type\":\"scatter3d\",\"scene\":\"scene\"},{\"marker\":{\"color\":\"rgb(0, 0, 0)\",\"size\":10,\"symbol\":\"circle\"},\"mode\":\"markers\",\"name\":\"[1, 0.9518045600355136, 0.03624923420233084]\",\"x\":[0.99],\"y\":[0.9418045600355136],\"z\":[0.026249234202330836],\"type\":\"scatter3d\",\"scene\":\"scene\"},{\"marker\":{\"color\":\"rgb(0, 0, 0)\",\"size\":10,\"symbol\":\"circle\"},\"mode\":\"markers\",\"name\":\"[0.8479600354573631, 1, 0.07064183765121557]\",\"x\":[0.8379600354573631],\"y\":[0.99],\"z\":[0.060641837651215565],\"type\":\"scatter3d\",\"scene\":\"scene\"},{\"marker\":{\"color\":\"rgb(0, 0, 0)\",\"size\":10,\"symbol\":\"circle\"},\"mode\":\"markers\",\"name\":\"[1, 0.7739977405463551, 0.07064183765121557]\",\"x\":[0.99],\"y\":[0.763997740546355],\"z\":[0.060641837651215565],\"type\":\"scatter3d\",\"scene\":\"scene\"},{\"marker\":{\"color\":\"rgb(0, 0, 0)\",\"size\":10,\"symbol\":\"circle\"},\"mode\":\"markers\",\"name\":\"[1, 0.43043435468313096, 0.2509402732819729]\",\"x\":[0.99],\"y\":[0.42043435468313095],\"z\":[0.24094027328197287],\"type\":\"scatter3d\",\"scene\":\"scene\"},{\"marker\":{\"color\":\"rgb(0, 0, 0)\",\"size\":10,\"symbol\":\"circle\"},\"mode\":\"markers\",\"name\":\"[0.2195747957912565, 1, 0.2600446641637525]\",\"x\":[0.20957479579125649],\"y\":[0.99],\"z\":[0.2500446641637525],\"type\":\"scatter3d\",\"scene\":\"scene\"},{\"marker\":{\"color\":\"rgb(0, 0, 0)\",\"size\":10,\"symbol\":\"circle\"},\"mode\":\"markers\",\"name\":\"[0.1479939615263136, 1, 0.3955793968531667]\",\"x\":[0.1379939615263136],\"y\":[0.99],\"z\":[0.38557939685316667],\"type\":\"scatter3d\",\"scene\":\"scene\"},{\"marker\":{\"color\":\"rgb(0, 0, 0)\",\"size\":10,\"symbol\":\"circle\"},\"mode\":\"markers\",\"name\":\"[0.2195747957912565, 0.6531979279893879, 0.3955793968531667]\",\"x\":[0.20957479579125649],\"y\":[0.6431979279893879],\"z\":[0.38557939685316667],\"type\":\"scatter3d\",\"scene\":\"scene\"},{\"marker\":{\"color\":\"rgb(0, 0, 0)\",\"size\":10,\"symbol\":\"circle\"},\"mode\":\"markers\",\"name\":\"[0.7305866540338741, 0.43043435468313096, 0.3955793968531667]\",\"x\":[0.7205866540338741],\"y\":[0.42043435468313095],\"z\":[0.38557939685316667],\"type\":\"scatter3d\",\"scene\":\"scene\"},{\"marker\":{\"color\":\"rgb(0, 0, 0)\",\"size\":10,\"symbol\":\"circle\"},\"mode\":\"markers\",\"name\":\"[0.7305866540338741, 0.3860973376091744, 0.7126068974699269]\",\"x\":[0.7205866540338741],\"y\":[0.3760973376091744],\"z\":[0.7026068974699269],\"type\":\"scatter3d\",\"scene\":\"scene\"},{\"marker\":{\"color\":\"rgb(0, 0, 0)\",\"size\":10,\"symbol\":\"circle\"},\"mode\":\"markers\",\"name\":\"[0.7305866540338741, 0.3137162089209936, 0.7810440918863704]\",\"x\":[0.7205866540338741],\"y\":[0.3037162089209936],\"z\":[0.7710440918863704],\"type\":\"scatter3d\",\"scene\":\"scene\"},{\"marker\":{\"color\":\"rgb(0, 0, 0)\",\"size\":10,\"symbol\":\"circle\"},\"mode\":\"markers\",\"name\":\"[0.1428709650162835, 1, 1]\",\"x\":[0.13287096501628348],\"y\":[0.99],\"z\":[0.99],\"type\":\"scatter3d\",\"scene\":\"scene\"},{\"marker\":{\"color\":\"rgb(0, 0, 0)\",\"size\":10,\"symbol\":\"circle\"},\"mode\":\"markers\",\"name\":\"[0.45988364040704477, 0.3860973376091744, 1]\",\"x\":[0.44988364040704476],\"y\":[0.3760973376091744],\"z\":[0.99],\"type\":\"scatter3d\",\"scene\":\"scene\"},{\"marker\":{\"color\":\"rgb(0, 0, 0)\",\"size\":10,\"symbol\":\"circle\"},\"mode\":\"markers\",\"name\":\"[0.7162847774749617, 0.3137162089209936, 1]\",\"x\":[0.7062847774749617],\"y\":[0.3037162089209936],\"z\":[0.99],\"type\":\"scatter3d\",\"scene\":\"scene\"},{\"marker\":{\"color\":\"rgb(0, 0, 0)\",\"size\":10,\"symbol\":\"circle\"},\"mode\":\"markers\",\"name\":\"[0.7305866540338741, 0.20275873511637288, 1]\",\"x\":[0.7205866540338741],\"y\":[0.19275873511637287],\"z\":[0.99],\"type\":\"scatter3d\",\"scene\":\"scene\"},{\"marker\":{\"color\":\"rgb(0, 0, 0)\",\"size\":10,\"symbol\":\"circle\"},\"mode\":\"markers\",\"name\":\"[1, 0.10436925923017282, 1]\",\"x\":[0.99],\"y\":[0.09436925923017282],\"z\":[0.99],\"type\":\"scatter3d\",\"scene\":\"scene\"}],                        {\"template\":{\"data\":{\"histogram2dcontour\":[{\"type\":\"histogram2dcontour\",\"colorbar\":{\"outlinewidth\":0,\"ticks\":\"\"},\"colorscale\":[[0.0,\"#0d0887\"],[0.1111111111111111,\"#46039f\"],[0.2222222222222222,\"#7201a8\"],[0.3333333333333333,\"#9c179e\"],[0.4444444444444444,\"#bd3786\"],[0.5555555555555556,\"#d8576b\"],[0.6666666666666666,\"#ed7953\"],[0.7777777777777778,\"#fb9f3a\"],[0.8888888888888888,\"#fdca26\"],[1.0,\"#f0f921\"]]}],\"choropleth\":[{\"type\":\"choropleth\",\"colorbar\":{\"outlinewidth\":0,\"ticks\":\"\"}}],\"histogram2d\":[{\"type\":\"histogram2d\",\"colorbar\":{\"outlinewidth\":0,\"ticks\":\"\"},\"colorscale\":[[0.0,\"#0d0887\"],[0.1111111111111111,\"#46039f\"],[0.2222222222222222,\"#7201a8\"],[0.3333333333333333,\"#9c179e\"],[0.4444444444444444,\"#bd3786\"],[0.5555555555555556,\"#d8576b\"],[0.6666666666666666,\"#ed7953\"],[0.7777777777777778,\"#fb9f3a\"],[0.8888888888888888,\"#fdca26\"],[1.0,\"#f0f921\"]]}],\"heatmap\":[{\"type\":\"heatmap\",\"colorbar\":{\"outlinewidth\":0,\"ticks\":\"\"},\"colorscale\":[[0.0,\"#0d0887\"],[0.1111111111111111,\"#46039f\"],[0.2222222222222222,\"#7201a8\"],[0.3333333333333333,\"#9c179e\"],[0.4444444444444444,\"#bd3786\"],[0.5555555555555556,\"#d8576b\"],[0.6666666666666666,\"#ed7953\"],[0.7777777777777778,\"#fb9f3a\"],[0.8888888888888888,\"#fdca26\"],[1.0,\"#f0f921\"]]}],\"heatmapgl\":[{\"type\":\"heatmapgl\",\"colorbar\":{\"outlinewidth\":0,\"ticks\":\"\"},\"colorscale\":[[0.0,\"#0d0887\"],[0.1111111111111111,\"#46039f\"],[0.2222222222222222,\"#7201a8\"],[0.3333333333333333,\"#9c179e\"],[0.4444444444444444,\"#bd3786\"],[0.5555555555555556,\"#d8576b\"],[0.6666666666666666,\"#ed7953\"],[0.7777777777777778,\"#fb9f3a\"],[0.8888888888888888,\"#fdca26\"],[1.0,\"#f0f921\"]]}],\"contourcarpet\":[{\"type\":\"contourcarpet\",\"colorbar\":{\"outlinewidth\":0,\"ticks\":\"\"}}],\"contour\":[{\"type\":\"contour\",\"colorbar\":{\"outlinewidth\":0,\"ticks\":\"\"},\"colorscale\":[[0.0,\"#0d0887\"],[0.1111111111111111,\"#46039f\"],[0.2222222222222222,\"#7201a8\"],[0.3333333333333333,\"#9c179e\"],[0.4444444444444444,\"#bd3786\"],[0.5555555555555556,\"#d8576b\"],[0.6666666666666666,\"#ed7953\"],[0.7777777777777778,\"#fb9f3a\"],[0.8888888888888888,\"#fdca26\"],[1.0,\"#f0f921\"]]}],\"surface\":[{\"type\":\"surface\",\"colorbar\":{\"outlinewidth\":0,\"ticks\":\"\"},\"colorscale\":[[0.0,\"#0d0887\"],[0.1111111111111111,\"#46039f\"],[0.2222222222222222,\"#7201a8\"],[0.3333333333333333,\"#9c179e\"],[0.4444444444444444,\"#bd3786\"],[0.5555555555555556,\"#d8576b\"],[0.6666666666666666,\"#ed7953\"],[0.7777777777777778,\"#fb9f3a\"],[0.8888888888888888,\"#fdca26\"],[1.0,\"#f0f921\"]]}],\"mesh3d\":[{\"type\":\"mesh3d\",\"colorbar\":{\"outlinewidth\":0,\"ticks\":\"\"}}],\"scatter\":[{\"marker\":{\"line\":{\"color\":\"#283442\"}},\"type\":\"scatter\"}],\"parcoords\":[{\"type\":\"parcoords\",\"line\":{\"colorbar\":{\"outlinewidth\":0,\"ticks\":\"\"}}}],\"scatterpolargl\":[{\"type\":\"scatterpolargl\",\"marker\":{\"colorbar\":{\"outlinewidth\":0,\"ticks\":\"\"}}}],\"bar\":[{\"error_x\":{\"color\":\"#f2f5fa\"},\"error_y\":{\"color\":\"#f2f5fa\"},\"marker\":{\"line\":{\"color\":\"rgb(17,17,17)\",\"width\":0.5},\"pattern\":{\"fillmode\":\"overlay\",\"size\":10,\"solidity\":0.2}},\"type\":\"bar\"}],\"scattergeo\":[{\"type\":\"scattergeo\",\"marker\":{\"colorbar\":{\"outlinewidth\":0,\"ticks\":\"\"}}}],\"scatterpolar\":[{\"type\":\"scatterpolar\",\"marker\":{\"colorbar\":{\"outlinewidth\":0,\"ticks\":\"\"}}}],\"histogram\":[{\"marker\":{\"pattern\":{\"fillmode\":\"overlay\",\"size\":10,\"solidity\":0.2}},\"type\":\"histogram\"}],\"scattergl\":[{\"marker\":{\"line\":{\"color\":\"#283442\"}},\"type\":\"scattergl\"}],\"scatter3d\":[{\"type\":\"scatter3d\",\"line\":{\"colorbar\":{\"outlinewidth\":0,\"ticks\":\"\"}},\"marker\":{\"colorbar\":{\"outlinewidth\":0,\"ticks\":\"\"}}}],\"scattermapbox\":[{\"type\":\"scattermapbox\",\"marker\":{\"colorbar\":{\"outlinewidth\":0,\"ticks\":\"\"}}}],\"scatterternary\":[{\"type\":\"scatterternary\",\"marker\":{\"colorbar\":{\"outlinewidth\":0,\"ticks\":\"\"}}}],\"scattercarpet\":[{\"type\":\"scattercarpet\",\"marker\":{\"colorbar\":{\"outlinewidth\":0,\"ticks\":\"\"}}}],\"carpet\":[{\"aaxis\":{\"endlinecolor\":\"#A2B1C6\",\"gridcolor\":\"#506784\",\"linecolor\":\"#506784\",\"minorgridcolor\":\"#506784\",\"startlinecolor\":\"#A2B1C6\"},\"baxis\":{\"endlinecolor\":\"#A2B1C6\",\"gridcolor\":\"#506784\",\"linecolor\":\"#506784\",\"minorgridcolor\":\"#506784\",\"startlinecolor\":\"#A2B1C6\"},\"type\":\"carpet\"}],\"table\":[{\"cells\":{\"fill\":{\"color\":\"#506784\"},\"line\":{\"color\":\"rgb(17,17,17)\"}},\"header\":{\"fill\":{\"color\":\"#2a3f5f\"},\"line\":{\"color\":\"rgb(17,17,17)\"}},\"type\":\"table\"}],\"barpolar\":[{\"marker\":{\"line\":{\"color\":\"rgb(17,17,17)\",\"width\":0.5},\"pattern\":{\"fillmode\":\"overlay\",\"size\":10,\"solidity\":0.2}},\"type\":\"barpolar\"}],\"pie\":[{\"automargin\":true,\"type\":\"pie\"}]},\"layout\":{\"autotypenumbers\":\"strict\",\"colorway\":[\"#636efa\",\"#EF553B\",\"#00cc96\",\"#ab63fa\",\"#FFA15A\",\"#19d3f3\",\"#FF6692\",\"#B6E880\",\"#FF97FF\",\"#FECB52\"],\"font\":{\"color\":\"#f2f5fa\"},\"hovermode\":\"closest\",\"hoverlabel\":{\"align\":\"left\"},\"paper_bgcolor\":\"rgb(17,17,17)\",\"plot_bgcolor\":\"rgb(17,17,17)\",\"polar\":{\"bgcolor\":\"rgb(17,17,17)\",\"angularaxis\":{\"gridcolor\":\"#506784\",\"linecolor\":\"#506784\",\"ticks\":\"\"},\"radialaxis\":{\"gridcolor\":\"#506784\",\"linecolor\":\"#506784\",\"ticks\":\"\"}},\"ternary\":{\"bgcolor\":\"rgb(17,17,17)\",\"aaxis\":{\"gridcolor\":\"#506784\",\"linecolor\":\"#506784\",\"ticks\":\"\"},\"baxis\":{\"gridcolor\":\"#506784\",\"linecolor\":\"#506784\",\"ticks\":\"\"},\"caxis\":{\"gridcolor\":\"#506784\",\"linecolor\":\"#506784\",\"ticks\":\"\"}},\"coloraxis\":{\"colorbar\":{\"outlinewidth\":0,\"ticks\":\"\"}},\"colorscale\":{\"sequential\":[[0.0,\"#0d0887\"],[0.1111111111111111,\"#46039f\"],[0.2222222222222222,\"#7201a8\"],[0.3333333333333333,\"#9c179e\"],[0.4444444444444444,\"#bd3786\"],[0.5555555555555556,\"#d8576b\"],[0.6666666666666666,\"#ed7953\"],[0.7777777777777778,\"#fb9f3a\"],[0.8888888888888888,\"#fdca26\"],[1.0,\"#f0f921\"]],\"sequentialminus\":[[0.0,\"#0d0887\"],[0.1111111111111111,\"#46039f\"],[0.2222222222222222,\"#7201a8\"],[0.3333333333333333,\"#9c179e\"],[0.4444444444444444,\"#bd3786\"],[0.5555555555555556,\"#d8576b\"],[0.6666666666666666,\"#ed7953\"],[0.7777777777777778,\"#fb9f3a\"],[0.8888888888888888,\"#fdca26\"],[1.0,\"#f0f921\"]],\"diverging\":[[0,\"#8e0152\"],[0.1,\"#c51b7d\"],[0.2,\"#de77ae\"],[0.3,\"#f1b6da\"],[0.4,\"#fde0ef\"],[0.5,\"#f7f7f7\"],[0.6,\"#e6f5d0\"],[0.7,\"#b8e186\"],[0.8,\"#7fbc41\"],[0.9,\"#4d9221\"],[1,\"#276419\"]]},\"xaxis\":{\"gridcolor\":\"#283442\",\"linecolor\":\"#506784\",\"ticks\":\"\",\"title\":{\"standoff\":15},\"zerolinecolor\":\"#283442\",\"automargin\":true,\"zerolinewidth\":2},\"yaxis\":{\"gridcolor\":\"#283442\",\"linecolor\":\"#506784\",\"ticks\":\"\",\"title\":{\"standoff\":15},\"zerolinecolor\":\"#283442\",\"automargin\":true,\"zerolinewidth\":2},\"scene\":{\"xaxis\":{\"backgroundcolor\":\"rgb(17,17,17)\",\"gridcolor\":\"#506784\",\"linecolor\":\"#506784\",\"showbackground\":true,\"ticks\":\"\",\"zerolinecolor\":\"#C8D4E3\",\"gridwidth\":2},\"yaxis\":{\"backgroundcolor\":\"rgb(17,17,17)\",\"gridcolor\":\"#506784\",\"linecolor\":\"#506784\",\"showbackground\":true,\"ticks\":\"\",\"zerolinecolor\":\"#C8D4E3\",\"gridwidth\":2},\"zaxis\":{\"backgroundcolor\":\"rgb(17,17,17)\",\"gridcolor\":\"#506784\",\"linecolor\":\"#506784\",\"showbackground\":true,\"ticks\":\"\",\"zerolinecolor\":\"#C8D4E3\",\"gridwidth\":2}},\"shapedefaults\":{\"line\":{\"color\":\"#f2f5fa\"}},\"annotationdefaults\":{\"arrowcolor\":\"#f2f5fa\",\"arrowhead\":0,\"arrowwidth\":1},\"geo\":{\"bgcolor\":\"rgb(17,17,17)\",\"landcolor\":\"rgb(17,17,17)\",\"subunitcolor\":\"#506784\",\"showland\":true,\"showlakes\":true,\"lakecolor\":\"rgb(17,17,17)\"},\"title\":{\"x\":0.05},\"updatemenudefaults\":{\"bgcolor\":\"#506784\",\"borderwidth\":0},\"sliderdefaults\":{\"bgcolor\":\"#C8D4E3\",\"borderwidth\":1,\"bordercolor\":\"rgb(17,17,17)\",\"tickwidth\":0},\"mapbox\":{\"style\":\"dark\"}}},\"scene\":{\"domain\":{\"x\":[0.0,1.0],\"y\":[0.0,1.0]},\"xaxis\":{\"range\":[0,1]},\"yaxis\":{\"range\":[0,1]},\"zaxis\":{\"range\":[0,1]},\"aspectmode\":\"cube\"}},                        {\"responsive\": true}                    ).then(function(){\n",
       "                            \n",
       "var gd = document.getElementById('1e72d87b-10c7-40bd-8ab1-d6d02e51bf31');\n",
       "var x = new MutationObserver(function (mutations, observer) {{\n",
       "        var display = window.getComputedStyle(gd).display;\n",
       "        if (!display || display === 'none') {{\n",
       "            console.log([gd, 'removed!']);\n",
       "            Plotly.purge(gd);\n",
       "            observer.disconnect();\n",
       "        }}\n",
       "}});\n",
       "\n",
       "// Listen for the removal of the full notebook cells\n",
       "var notebookContainer = gd.closest('#notebook-container');\n",
       "if (notebookContainer) {{\n",
       "    x.observe(notebookContainer, {childList: true});\n",
       "}}\n",
       "\n",
       "// Listen for the clearing of the current output cell\n",
       "var outputEl = gd.closest('.output');\n",
       "if (outputEl) {{\n",
       "    x.observe(outputEl, {childList: true});\n",
       "}}\n",
       "\n",
       "                        })                };                });            </script>        </div>"
      ]
     },
     "metadata": {},
     "output_type": "display_data"
    },
    {
     "data": {
      "application/vnd.plotly.v1+json": {
       "data": [
        {
         "marker": {
          "color": "rgb(160, 160, 160)",
          "size": 8,
          "symbol": "circle"
         },
         "mode": "markers",
         "name": "ref_point",
         "x": [
          1
         ],
         "y": [
          1
         ],
         "z": [
          1
         ],
         "type": "scatter3d",
         "scene": "scene"
        },
        {
         "i": [
          7,
          0,
          0,
          0,
          4,
          4,
          6,
          6,
          4,
          0,
          3,
          2
         ],
         "j": [
          3,
          4,
          1,
          2,
          5,
          6,
          5,
          2,
          0,
          1,
          6,
          3
         ],
         "k": [
          0,
          7,
          2,
          3,
          6,
          7,
          1,
          1,
          5,
          5,
          7,
          6
         ],
         "name": "y",
         "showscale": true,
         "x": [
          0.998782029571577,
          0.998782029571577,
          1,
          1,
          0.998782029571577,
          0.998782029571577,
          1,
          1
         ],
         "y": [
          0.04671462931924938,
          1,
          1,
          0.04671462931924938,
          0.04671462931924938,
          1,
          1,
          0.04671462931924938
         ],
         "z": [
          0.015880831604381918,
          0.015880831604381918,
          0.015880831604381918,
          0.015880831604381918,
          1,
          1,
          1,
          1
         ],
         "type": "mesh3d",
         "scene": "scene"
        },
        {
         "marker": {
          "color": "rgb(0, 0, 0)",
          "line": {
           "color": "rgb(0, 0, 0)",
           "width": 0.5
          },
          "size": 4,
          "symbol": "x"
         },
         "mode": "markers",
         "name": "[0.998782029571577, 0.04671462931924938, 0.015880831604381918]",
         "x": [
          0.998782029571577
         ],
         "y": [
          0.04671462931924938
         ],
         "z": [
          0.015880831604381918
         ],
         "type": "scatter3d",
         "scene": "scene"
        },
        {
         "i": [
          7,
          0,
          0,
          0,
          4,
          4,
          6,
          6,
          4,
          0,
          3,
          2
         ],
         "j": [
          3,
          4,
          1,
          2,
          5,
          6,
          5,
          2,
          0,
          1,
          6,
          3
         ],
         "k": [
          0,
          7,
          2,
          3,
          6,
          7,
          1,
          1,
          5,
          5,
          7,
          6
         ],
         "name": "y",
         "showscale": true,
         "x": [
          0.005685896681142274,
          0.005685896681142274,
          1,
          1,
          0.005685896681142274,
          0.005685896681142274,
          1,
          1
         ],
         "y": [
          0.9996293354608031,
          1,
          1,
          0.9996293354608031,
          0.9996293354608031,
          1,
          1,
          0.9996293354608031
         ],
         "z": [
          0.026624467414852443,
          0.026624467414852443,
          0.026624467414852443,
          0.026624467414852443,
          1,
          1,
          1,
          1
         ],
         "type": "mesh3d",
         "scene": "scene"
        },
        {
         "marker": {
          "color": "rgb(0, 0, 0)",
          "line": {
           "color": "rgb(0, 0, 0)",
           "width": 0.5
          },
          "size": 4,
          "symbol": "x"
         },
         "mode": "markers",
         "name": "[0.005685896681142274, 0.9996293354608031, 0.026624467414852443]",
         "x": [
          0.005685896681142274
         ],
         "y": [
          0.9996293354608031
         ],
         "z": [
          0.026624467414852443
         ],
         "type": "scatter3d",
         "scene": "scene"
        },
        {
         "i": [
          7,
          0,
          0,
          0,
          4,
          4,
          6,
          6,
          4,
          0,
          3,
          2
         ],
         "j": [
          3,
          4,
          1,
          2,
          5,
          6,
          5,
          2,
          0,
          1,
          6,
          3
         ],
         "k": [
          0,
          7,
          2,
          3,
          6,
          7,
          1,
          1,
          5,
          5,
          7,
          6
         ],
         "name": "y",
         "showscale": true,
         "x": [
          0.6188402553866635,
          0.6188402553866635,
          1,
          1,
          0.6188402553866635,
          0.6188402553866635,
          1,
          1
         ],
         "y": [
          0.7831993360073112,
          1,
          1,
          0.7831993360073112,
          0.7831993360073112,
          1,
          1,
          0.7831993360073112
         ],
         "z": [
          0.060295425951525455,
          0.060295425951525455,
          0.060295425951525455,
          0.060295425951525455,
          1,
          1,
          1,
          1
         ],
         "type": "mesh3d",
         "scene": "scene"
        },
        {
         "marker": {
          "color": "rgb(0, 0, 0)",
          "line": {
           "color": "rgb(0, 0, 0)",
           "width": 0.5
          },
          "size": 4,
          "symbol": "x"
         },
         "mode": "markers",
         "name": "[0.6188402553866635, 0.7831993360073112, 0.060295425951525455]",
         "x": [
          0.6188402553866635
         ],
         "y": [
          0.7831993360073112
         ],
         "z": [
          0.060295425951525455
         ],
         "type": "scatter3d",
         "scene": "scene"
        },
        {
         "i": [
          7,
          0,
          0,
          0,
          4,
          4,
          6,
          6,
          4,
          0,
          3,
          2
         ],
         "j": [
          3,
          4,
          1,
          2,
          5,
          6,
          5,
          2,
          0,
          1,
          6,
          3
         ],
         "k": [
          0,
          7,
          2,
          3,
          6,
          7,
          1,
          1,
          5,
          5,
          7,
          6
         ],
         "name": "y",
         "showscale": true,
         "x": [
          0.9752076272117975,
          0.9752076272117975,
          1,
          1,
          0.9752076272117975,
          0.9752076272117975,
          1,
          1
         ],
         "y": [
          0.20145358552135334,
          1,
          1,
          0.20145358552135334,
          0.20145358552135334,
          1,
          1,
          0.20145358552135334
         ],
         "z": [
          0.09157803616875941,
          0.09157803616875941,
          0.09157803616875941,
          0.09157803616875941,
          1,
          1,
          1,
          1
         ],
         "type": "mesh3d",
         "scene": "scene"
        },
        {
         "marker": {
          "color": "rgb(0, 0, 0)",
          "line": {
           "color": "rgb(0, 0, 0)",
           "width": 0.5
          },
          "size": 4,
          "symbol": "x"
         },
         "mode": "markers",
         "name": "[0.9752076272117975, 0.20145358552135334, 0.09157803616875941]",
         "x": [
          0.9752076272117975
         ],
         "y": [
          0.20145358552135334
         ],
         "z": [
          0.09157803616875941
         ],
         "type": "scatter3d",
         "scene": "scene"
        },
        {
         "i": [
          7,
          0,
          0,
          0,
          4,
          4,
          6,
          6,
          4,
          0,
          3,
          2
         ],
         "j": [
          3,
          4,
          1,
          2,
          5,
          6,
          5,
          2,
          0,
          1,
          6,
          3
         ],
         "k": [
          0,
          7,
          2,
          3,
          6,
          7,
          1,
          1,
          5,
          5,
          7,
          6
         ],
         "name": "y",
         "showscale": true,
         "x": [
          0.974699005060523,
          0.974699005060523,
          1,
          1,
          0.974699005060523,
          0.974699005060523,
          1,
          1
         ],
         "y": [
          0.18775205396506878,
          1,
          1,
          0.18775205396506878,
          0.18775205396506878,
          1,
          1,
          0.18775205396506878
         ],
         "z": [
          0.1212889762753583,
          0.1212889762753583,
          0.1212889762753583,
          0.1212889762753583,
          1,
          1,
          1,
          1
         ],
         "type": "mesh3d",
         "scene": "scene"
        },
        {
         "marker": {
          "color": "rgb(0, 0, 0)",
          "line": {
           "color": "rgb(0, 0, 0)",
           "width": 0.5
          },
          "size": 4,
          "symbol": "x"
         },
         "mode": "markers",
         "name": "[0.974699005060523, 0.18775205396506878, 0.1212889762753583]",
         "x": [
          0.974699005060523
         ],
         "y": [
          0.18775205396506878
         ],
         "z": [
          0.1212889762753583
         ],
         "type": "scatter3d",
         "scene": "scene"
        },
        {
         "i": [
          7,
          0,
          0,
          0,
          4,
          4,
          6,
          6,
          4,
          0,
          3,
          2
         ],
         "j": [
          3,
          4,
          1,
          2,
          5,
          6,
          5,
          2,
          0,
          1,
          6,
          3
         ],
         "k": [
          0,
          7,
          2,
          3,
          6,
          7,
          1,
          1,
          5,
          5,
          7,
          6
         ],
         "name": "y",
         "showscale": true,
         "x": [
          0.2291751293600498,
          0.2291751293600498,
          1,
          1,
          0.2291751293600498,
          0.2291751293600498,
          1,
          1
         ],
         "y": [
          0.963256120830984,
          1,
          1,
          0.963256120830984,
          0.963256120830984,
          1,
          1,
          0.963256120830984
         ],
         "z": [
          0.14005857976021782,
          0.14005857976021782,
          0.14005857976021782,
          0.14005857976021782,
          1,
          1,
          1,
          1
         ],
         "type": "mesh3d",
         "scene": "scene"
        },
        {
         "marker": {
          "color": "rgb(0, 0, 0)",
          "line": {
           "color": "rgb(0, 0, 0)",
           "width": 0.5
          },
          "size": 4,
          "symbol": "x"
         },
         "mode": "markers",
         "name": "[0.2291751293600498, 0.963256120830984, 0.14005857976021782]",
         "x": [
          0.2291751293600498
         ],
         "y": [
          0.963256120830984
         ],
         "z": [
          0.14005857976021782
         ],
         "type": "scatter3d",
         "scene": "scene"
        },
        {
         "i": [
          7,
          0,
          0,
          0,
          4,
          4,
          6,
          6,
          4,
          0,
          3,
          2
         ],
         "j": [
          3,
          4,
          1,
          2,
          5,
          6,
          5,
          2,
          0,
          1,
          6,
          3
         ],
         "k": [
          0,
          7,
          2,
          3,
          6,
          7,
          1,
          1,
          5,
          5,
          7,
          6
         ],
         "name": "y",
         "showscale": true,
         "x": [
          0.9824455141873623,
          0.9824455141873623,
          1,
          1,
          0.9824455141873623,
          0.9824455141873623,
          1,
          1
         ],
         "y": [
          0.11545642229902676,
          1,
          1,
          0.11545642229902676,
          0.11545642229902676,
          1,
          1,
          0.11545642229902676
         ],
         "z": [
          0.14652858493494783,
          0.14652858493494783,
          0.14652858493494783,
          0.14652858493494783,
          1,
          1,
          1,
          1
         ],
         "type": "mesh3d",
         "scene": "scene"
        },
        {
         "marker": {
          "color": "rgb(0, 0, 0)",
          "line": {
           "color": "rgb(0, 0, 0)",
           "width": 0.5
          },
          "size": 4,
          "symbol": "x"
         },
         "mode": "markers",
         "name": "[0.9824455141873623, 0.11545642229902676, 0.14652858493494783]",
         "x": [
          0.9824455141873623
         ],
         "y": [
          0.11545642229902676
         ],
         "z": [
          0.14652858493494783
         ],
         "type": "scatter3d",
         "scene": "scene"
        },
        {
         "i": [
          7,
          0,
          0,
          0,
          4,
          4,
          6,
          6,
          4,
          0,
          3,
          2
         ],
         "j": [
          3,
          4,
          1,
          2,
          5,
          6,
          5,
          2,
          0,
          1,
          6,
          3
         ],
         "k": [
          0,
          7,
          2,
          3,
          6,
          7,
          1,
          1,
          5,
          5,
          7,
          6
         ],
         "name": "y",
         "showscale": true,
         "x": [
          0.03653365333761906,
          0.03653365333761906,
          1,
          1,
          0.03653365333761906,
          0.03653365333761906,
          1,
          1
         ],
         "y": [
          0.9816592203826657,
          1,
          1,
          0.9816592203826657,
          0.9816592203826657,
          1,
          1,
          0.9816592203826657
         ],
         "z": [
          0.18711084204690995,
          0.18711084204690995,
          0.18711084204690995,
          0.18711084204690995,
          1,
          1,
          1,
          1
         ],
         "type": "mesh3d",
         "scene": "scene"
        },
        {
         "marker": {
          "color": "rgb(0, 0, 0)",
          "line": {
           "color": "rgb(0, 0, 0)",
           "width": 0.5
          },
          "size": 4,
          "symbol": "x"
         },
         "mode": "markers",
         "name": "[0.03653365333761906, 0.9816592203826657, 0.18711084204690995]",
         "x": [
          0.03653365333761906
         ],
         "y": [
          0.9816592203826657
         ],
         "z": [
          0.18711084204690995
         ],
         "type": "scatter3d",
         "scene": "scene"
        },
        {
         "i": [
          7,
          0,
          0,
          0,
          4,
          4,
          6,
          6,
          4,
          0,
          3,
          2
         ],
         "j": [
          3,
          4,
          1,
          2,
          5,
          6,
          5,
          2,
          0,
          1,
          6,
          3
         ],
         "k": [
          0,
          7,
          2,
          3,
          6,
          7,
          1,
          1,
          5,
          5,
          7,
          6
         ],
         "name": "y",
         "showscale": true,
         "x": [
          0.4379189206520114,
          0.4379189206520114,
          1,
          1,
          0.4379189206520114,
          0.4379189206520114,
          1,
          1
         ],
         "y": [
          0.8607877935521043,
          1,
          1,
          0.8607877935521043,
          0.8607877935521043,
          1,
          1,
          0.8607877935521043
         ],
         "z": [
          0.25936729440443584,
          0.25936729440443584,
          0.25936729440443584,
          0.25936729440443584,
          1,
          1,
          1,
          1
         ],
         "type": "mesh3d",
         "scene": "scene"
        },
        {
         "marker": {
          "color": "rgb(0, 0, 0)",
          "line": {
           "color": "rgb(0, 0, 0)",
           "width": 0.5
          },
          "size": 4,
          "symbol": "x"
         },
         "mode": "markers",
         "name": "[0.4379189206520114, 0.8607877935521043, 0.25936729440443584]",
         "x": [
          0.4379189206520114
         ],
         "y": [
          0.8607877935521043
         ],
         "z": [
          0.25936729440443584
         ],
         "type": "scatter3d",
         "scene": "scene"
        },
        {
         "i": [
          7,
          0,
          0,
          0,
          4,
          4,
          6,
          6,
          4,
          0,
          3,
          2
         ],
         "j": [
          3,
          4,
          1,
          2,
          5,
          6,
          5,
          2,
          0,
          1,
          6,
          3
         ],
         "k": [
          0,
          7,
          2,
          3,
          6,
          7,
          1,
          1,
          5,
          5,
          7,
          6
         ],
         "name": "y",
         "showscale": true,
         "x": [
          0.9439495702557661,
          0.9439495702557661,
          1,
          1,
          0.9439495702557661,
          0.9439495702557661,
          1,
          1
         ],
         "y": [
          0.01704928173105443,
          1,
          1,
          0.01704928173105443,
          0.01704928173105443,
          1,
          1,
          0.01704928173105443
         ],
         "z": [
          0.32964910254148966,
          0.32964910254148966,
          0.32964910254148966,
          0.32964910254148966,
          1,
          1,
          1,
          1
         ],
         "type": "mesh3d",
         "scene": "scene"
        },
        {
         "marker": {
          "color": "rgb(0, 0, 0)",
          "line": {
           "color": "rgb(0, 0, 0)",
           "width": 0.5
          },
          "size": 4,
          "symbol": "x"
         },
         "mode": "markers",
         "name": "[0.9439495702557661, 0.01704928173105443, 0.32964910254148966]",
         "x": [
          0.9439495702557661
         ],
         "y": [
          0.01704928173105443
         ],
         "z": [
          0.32964910254148966
         ],
         "type": "scatter3d",
         "scene": "scene"
        },
        {
         "i": [
          7,
          0,
          0,
          0,
          4,
          4,
          6,
          6,
          4,
          0,
          3,
          2
         ],
         "j": [
          3,
          4,
          1,
          2,
          5,
          6,
          5,
          2,
          0,
          1,
          6,
          3
         ],
         "k": [
          0,
          7,
          2,
          3,
          6,
          7,
          1,
          1,
          5,
          5,
          7,
          6
         ],
         "name": "y",
         "showscale": true,
         "x": [
          0.9203964279855451,
          0.9203964279855451,
          1,
          1,
          0.9203964279855451,
          0.9203964279855451,
          1,
          1
         ],
         "y": [
          0.0676621342114628,
          1,
          1,
          0.0676621342114628,
          0.0676621342114628,
          1,
          1,
          0.0676621342114628
         ],
         "z": [
          0.3850873289857758,
          0.3850873289857758,
          0.3850873289857758,
          0.3850873289857758,
          1,
          1,
          1,
          1
         ],
         "type": "mesh3d",
         "scene": "scene"
        },
        {
         "marker": {
          "color": "rgb(0, 0, 0)",
          "line": {
           "color": "rgb(0, 0, 0)",
           "width": 0.5
          },
          "size": 4,
          "symbol": "x"
         },
         "mode": "markers",
         "name": "[0.9203964279855451, 0.0676621342114628, 0.3850873289857758]",
         "x": [
          0.9203964279855451
         ],
         "y": [
          0.0676621342114628
         ],
         "z": [
          0.3850873289857758
         ],
         "type": "scatter3d",
         "scene": "scene"
        },
        {
         "i": [
          7,
          0,
          0,
          0,
          4,
          4,
          6,
          6,
          4,
          0,
          3,
          2
         ],
         "j": [
          3,
          4,
          1,
          2,
          5,
          6,
          5,
          2,
          0,
          1,
          6,
          3
         ],
         "k": [
          0,
          7,
          2,
          3,
          6,
          7,
          1,
          1,
          5,
          5,
          7,
          6
         ],
         "name": "y",
         "showscale": true,
         "x": [
          0.7539789538921144,
          0.7539789538921144,
          1,
          1,
          0.7539789538921144,
          0.7539789538921144,
          1,
          1
         ],
         "y": [
          0.06348803339242506,
          1,
          1,
          0.06348803339242506,
          0.06348803339242506,
          1,
          1,
          0.06348803339242506
         ],
         "z": [
          0.6538233757703338,
          0.6538233757703338,
          0.6538233757703338,
          0.6538233757703338,
          1,
          1,
          1,
          1
         ],
         "type": "mesh3d",
         "scene": "scene"
        },
        {
         "marker": {
          "color": "rgb(0, 0, 0)",
          "line": {
           "color": "rgb(0, 0, 0)",
           "width": 0.5
          },
          "size": 4,
          "symbol": "x"
         },
         "mode": "markers",
         "name": "[0.7539789538921144, 0.06348803339242506, 0.6538233757703338]",
         "x": [
          0.7539789538921144
         ],
         "y": [
          0.06348803339242506
         ],
         "z": [
          0.6538233757703338
         ],
         "type": "scatter3d",
         "scene": "scene"
        },
        {
         "i": [
          7,
          0,
          0,
          0,
          4,
          4,
          6,
          6,
          4,
          0,
          3,
          2
         ],
         "j": [
          3,
          4,
          1,
          2,
          5,
          6,
          5,
          2,
          0,
          1,
          6,
          3
         ],
         "k": [
          0,
          7,
          2,
          3,
          6,
          7,
          1,
          1,
          5,
          5,
          7,
          6
         ],
         "name": "y",
         "showscale": true,
         "x": [
          0.5784393854745765,
          0.5784393854745765,
          1,
          1,
          0.5784393854745765,
          0.5784393854745765,
          1,
          1
         ],
         "y": [
          0.087707713118824,
          1,
          1,
          0.087707713118824,
          0.087707713118824,
          1,
          1,
          0.087707713118824
         ],
         "z": [
          0.8109964453629007,
          0.8109964453629007,
          0.8109964453629007,
          0.8109964453629007,
          1,
          1,
          1,
          1
         ],
         "type": "mesh3d",
         "scene": "scene"
        },
        {
         "marker": {
          "color": "rgb(0, 0, 0)",
          "line": {
           "color": "rgb(0, 0, 0)",
           "width": 0.5
          },
          "size": 4,
          "symbol": "x"
         },
         "mode": "markers",
         "name": "[0.5784393854745765, 0.087707713118824, 0.8109964453629007]",
         "x": [
          0.5784393854745765
         ],
         "y": [
          0.087707713118824
         ],
         "z": [
          0.8109964453629007
         ],
         "type": "scatter3d",
         "scene": "scene"
        },
        {
         "i": [
          7,
          0,
          0,
          0,
          4,
          4,
          6,
          6,
          4,
          0,
          3,
          2
         ],
         "j": [
          3,
          4,
          1,
          2,
          5,
          6,
          5,
          2,
          0,
          1,
          6,
          3
         ],
         "k": [
          0,
          7,
          2,
          3,
          6,
          7,
          1,
          1,
          5,
          5,
          7,
          6
         ],
         "name": "y",
         "showscale": true,
         "x": [
          0.41905703521369375,
          0.41905703521369375,
          1,
          1,
          0.41905703521369375,
          0.41905703521369375,
          1,
          1
         ],
         "y": [
          0.21555726402251063,
          1,
          1,
          0.21555726402251063,
          0.21555726402251063,
          1,
          1,
          0.21555726402251063
         ],
         "z": [
          0.8820012852400152,
          0.8820012852400152,
          0.8820012852400152,
          0.8820012852400152,
          1,
          1,
          1,
          1
         ],
         "type": "mesh3d",
         "scene": "scene"
        },
        {
         "marker": {
          "color": "rgb(0, 0, 0)",
          "line": {
           "color": "rgb(0, 0, 0)",
           "width": 0.5
          },
          "size": 4,
          "symbol": "x"
         },
         "mode": "markers",
         "name": "[0.41905703521369375, 0.21555726402251063, 0.8820012852400152]",
         "x": [
          0.41905703521369375
         ],
         "y": [
          0.21555726402251063
         ],
         "z": [
          0.8820012852400152
         ],
         "type": "scatter3d",
         "scene": "scene"
        },
        {
         "i": [
          7,
          0,
          0,
          0,
          4,
          4,
          6,
          6,
          4,
          0,
          3,
          2
         ],
         "j": [
          3,
          4,
          1,
          2,
          5,
          6,
          5,
          2,
          0,
          1,
          6,
          3
         ],
         "k": [
          0,
          7,
          2,
          3,
          6,
          7,
          1,
          1,
          5,
          5,
          7,
          6
         ],
         "name": "y",
         "showscale": true,
         "x": [
          0.3137042628876169,
          0.3137042628876169,
          1,
          1,
          0.3137042628876169,
          0.3137042628876169,
          1,
          1
         ],
         "y": [
          0.3347984706332082,
          1,
          1,
          0.3347984706332082,
          0.3347984706332082,
          1,
          1,
          0.3347984706332082
         ],
         "z": [
          0.8885379111258009,
          0.8885379111258009,
          0.8885379111258009,
          0.8885379111258009,
          1,
          1,
          1,
          1
         ],
         "type": "mesh3d",
         "scene": "scene"
        },
        {
         "marker": {
          "color": "rgb(0, 0, 0)",
          "line": {
           "color": "rgb(0, 0, 0)",
           "width": 0.5
          },
          "size": 4,
          "symbol": "x"
         },
         "mode": "markers",
         "name": "[0.3137042628876169, 0.3347984706332082, 0.8885379111258009]",
         "x": [
          0.3137042628876169
         ],
         "y": [
          0.3347984706332082
         ],
         "z": [
          0.8885379111258009
         ],
         "type": "scatter3d",
         "scene": "scene"
        },
        {
         "i": [
          7,
          0,
          0,
          0,
          4,
          4,
          6,
          6,
          4,
          0,
          3,
          2
         ],
         "j": [
          3,
          4,
          1,
          2,
          5,
          6,
          5,
          2,
          0,
          1,
          6,
          3
         ],
         "k": [
          0,
          7,
          2,
          3,
          6,
          7,
          1,
          1,
          5,
          5,
          7,
          6
         ],
         "name": "y",
         "showscale": true,
         "x": [
          0.26623279973318276,
          0.26623279973318276,
          1,
          1,
          0.26623279973318276,
          0.26623279973318276,
          1,
          1
         ],
         "y": [
          0.3527227945433481,
          1,
          1,
          0.3527227945433481,
          0.3527227945433481,
          1,
          1,
          0.3527227945433481
         ],
         "z": [
          0.8970544724573654,
          0.8970544724573654,
          0.8970544724573654,
          0.8970544724573654,
          1,
          1,
          1,
          1
         ],
         "type": "mesh3d",
         "scene": "scene"
        },
        {
         "marker": {
          "color": "rgb(0, 0, 0)",
          "line": {
           "color": "rgb(0, 0, 0)",
           "width": 0.5
          },
          "size": 4,
          "symbol": "x"
         },
         "mode": "markers",
         "name": "[0.26623279973318276, 0.3527227945433481, 0.8970544724573654]",
         "x": [
          0.26623279973318276
         ],
         "y": [
          0.3527227945433481
         ],
         "z": [
          0.8970544724573654
         ],
         "type": "scatter3d",
         "scene": "scene"
        },
        {
         "i": [
          7,
          0,
          0,
          0,
          4,
          4,
          6,
          6,
          4,
          0,
          3,
          2
         ],
         "j": [
          3,
          4,
          1,
          2,
          5,
          6,
          5,
          2,
          0,
          1,
          6,
          3
         ],
         "k": [
          0,
          7,
          2,
          3,
          6,
          7,
          1,
          1,
          5,
          5,
          7,
          6
         ],
         "name": "y",
         "showscale": true,
         "x": [
          0.1969938249858662,
          0.1969938249858662,
          1,
          1,
          0.1969938249858662,
          0.1969938249858662,
          1,
          1
         ],
         "y": [
          0.3607090406104981,
          1,
          1,
          0.3607090406104981,
          0.3607090406104981,
          1,
          1,
          0.3607090406104981
         ],
         "z": [
          0.9116372200274032,
          0.9116372200274032,
          0.9116372200274032,
          0.9116372200274032,
          1,
          1,
          1,
          1
         ],
         "type": "mesh3d",
         "scene": "scene"
        },
        {
         "marker": {
          "color": "rgb(0, 0, 0)",
          "line": {
           "color": "rgb(0, 0, 0)",
           "width": 0.5
          },
          "size": 4,
          "symbol": "x"
         },
         "mode": "markers",
         "name": "[0.1969938249858662, 0.3607090406104981, 0.9116372200274032]",
         "x": [
          0.1969938249858662
         ],
         "y": [
          0.3607090406104981
         ],
         "z": [
          0.9116372200274032
         ],
         "type": "scatter3d",
         "scene": "scene"
        },
        {
         "i": [
          7,
          0,
          0,
          0,
          4,
          4,
          6,
          6,
          4,
          0,
          3,
          2
         ],
         "j": [
          3,
          4,
          1,
          2,
          5,
          6,
          5,
          2,
          0,
          1,
          6,
          3
         ],
         "k": [
          0,
          7,
          2,
          3,
          6,
          7,
          1,
          1,
          5,
          5,
          7,
          6
         ],
         "name": "y",
         "showscale": true,
         "x": [
          0.09538581659393344,
          0.09538581659393344,
          1,
          1,
          0.09538581659393344,
          0.09538581659393344,
          1,
          1
         ],
         "y": [
          0.12534053033850753,
          1,
          1,
          0.12534053033850753,
          0.12534053033850753,
          1,
          1,
          0.12534053033850753
         ],
         "z": [
          0.9875177453834286,
          0.9875177453834286,
          0.9875177453834286,
          0.9875177453834286,
          1,
          1,
          1,
          1
         ],
         "type": "mesh3d",
         "scene": "scene"
        },
        {
         "marker": {
          "color": "rgb(0, 0, 0)",
          "line": {
           "color": "rgb(0, 0, 0)",
           "width": 0.5
          },
          "size": 4,
          "symbol": "x"
         },
         "mode": "markers",
         "name": "[0.09538581659393344, 0.12534053033850753, 0.9875177453834286]",
         "x": [
          0.09538581659393344
         ],
         "y": [
          0.12534053033850753
         ],
         "z": [
          0.9875177453834286
         ],
         "type": "scatter3d",
         "scene": "scene"
        },
        {
         "i": [
          7,
          0,
          0,
          0,
          4,
          4,
          6,
          6,
          4,
          0,
          3,
          2
         ],
         "j": [
          3,
          4,
          1,
          2,
          5,
          6,
          5,
          2,
          0,
          1,
          6,
          3
         ],
         "k": [
          0,
          7,
          2,
          3,
          6,
          7,
          1,
          1,
          5,
          5,
          7,
          6
         ],
         "name": "y",
         "showscale": true,
         "x": [
          0.09582049411634574,
          0.09582049411634574,
          1,
          1,
          0.09582049411634574,
          0.09582049411634574,
          1,
          1
         ],
         "y": [
          0.10650269256485358,
          1,
          1,
          0.10650269256485358,
          0.10650269256485358,
          1,
          1,
          0.10650269256485358
         ],
         "z": [
          0.9896846009632239,
          0.9896846009632239,
          0.9896846009632239,
          0.9896846009632239,
          1,
          1,
          1,
          1
         ],
         "type": "mesh3d",
         "scene": "scene"
        },
        {
         "marker": {
          "color": "rgb(0, 0, 0)",
          "line": {
           "color": "rgb(0, 0, 0)",
           "width": 0.5
          },
          "size": 4,
          "symbol": "x"
         },
         "mode": "markers",
         "name": "[0.09582049411634574, 0.10650269256485358, 0.9896846009632239]",
         "x": [
          0.09582049411634574
         ],
         "y": [
          0.10650269256485358
         ],
         "z": [
          0.9896846009632239
         ],
         "type": "scatter3d",
         "scene": "scene"
        },
        {
         "i": [
          7,
          0,
          0,
          0,
          4,
          4,
          6,
          6,
          4,
          0,
          3,
          2
         ],
         "j": [
          3,
          4,
          1,
          2,
          5,
          6,
          5,
          2,
          0,
          1,
          6,
          3
         ],
         "k": [
          0,
          7,
          2,
          3,
          6,
          7,
          1,
          1,
          5,
          5,
          7,
          6
         ],
         "name": "y",
         "showscale": true,
         "x": [
          5.129691118989799E-4,
          5.129691118989799E-4,
          1,
          1,
          5.129691118989799E-4,
          5.129691118989799E-4,
          1,
          1
         ],
         "y": [
          0.06993552414511198,
          1,
          1,
          0.06993552414511198,
          0.06993552414511198,
          1,
          1,
          0.06993552414511198
         ],
         "z": [
          0.9975513817970675,
          0.9975513817970675,
          0.9975513817970675,
          0.9975513817970675,
          1,
          1,
          1,
          1
         ],
         "type": "mesh3d",
         "scene": "scene"
        },
        {
         "marker": {
          "color": "rgb(0, 0, 0)",
          "line": {
           "color": "rgb(0, 0, 0)",
           "width": 0.5
          },
          "size": 4,
          "symbol": "x"
         },
         "mode": "markers",
         "name": "[0.0005129691118989799, 0.06993552414511198, 0.9975513817970675]",
         "x": [
          5.129691118989799E-4
         ],
         "y": [
          0.06993552414511198
         ],
         "z": [
          0.9975513817970675
         ],
         "type": "scatter3d",
         "scene": "scene"
        },
        {
         "marker": {
          "color": "rgb(0, 0, 0)",
          "size": 10,
          "symbol": "circle"
         },
         "mode": "markers",
         "name": "[1, 1, 0.015880831604381918]",
         "x": [
          0.99
         ],
         "y": [
          0.99
         ],
         "z": [
          0.005880831604381917
         ],
         "type": "scatter3d",
         "scene": "scene"
        },
        {
         "marker": {
          "color": "rgb(0, 0, 0)",
          "size": 10,
          "symbol": "circle"
         },
         "mode": "markers",
         "name": "[0.998782029571577, 1, 0.026624467414852443]",
         "x": [
          0.988782029571577
         ],
         "y": [
          0.99
         ],
         "z": [
          0.01662446741485244
         ],
         "type": "scatter3d",
         "scene": "scene"
        },
        {
         "marker": {
          "color": "rgb(0, 0, 0)",
          "size": 10,
          "symbol": "circle"
         },
         "mode": "markers",
         "name": "[0.998782029571577, 0.9996293354608031, 0.060295425951525455]",
         "x": [
          0.988782029571577
         ],
         "y": [
          0.9896293354608031
         ],
         "z": [
          0.05029542595152545
         ],
         "type": "scatter3d",
         "scene": "scene"
        },
        {
         "marker": {
          "color": "rgb(0, 0, 0)",
          "size": 10,
          "symbol": "circle"
         },
         "mode": "markers",
         "name": "[0.998782029571577, 0.7831993360073112, 0.09157803616875941]",
         "x": [
          0.988782029571577
         ],
         "y": [
          0.7731993360073112
         ],
         "z": [
          0.08157803616875942
         ],
         "type": "scatter3d",
         "scene": "scene"
        },
        {
         "marker": {
          "color": "rgb(0, 0, 0)",
          "size": 10,
          "symbol": "circle"
         },
         "mode": "markers",
         "name": "[0.9752076272117975, 0.7831993360073112, 0.1212889762753583]",
         "x": [
          0.9652076272117975
         ],
         "y": [
          0.7731993360073112
         ],
         "z": [
          0.1112889762753583
         ],
         "type": "scatter3d",
         "scene": "scene"
        },
        {
         "marker": {
          "color": "rgb(0, 0, 0)",
          "size": 10,
          "symbol": "circle"
         },
         "mode": "markers",
         "name": "[0.998782029571577, 0.20145358552135334, 0.1212889762753583]",
         "x": [
          0.988782029571577
         ],
         "y": [
          0.19145358552135333
         ],
         "z": [
          0.1112889762753583
         ],
         "type": "scatter3d",
         "scene": "scene"
        },
        {
         "marker": {
          "color": "rgb(0, 0, 0)",
          "size": 10,
          "symbol": "circle"
         },
         "mode": "markers",
         "name": "[0.6188402553866635, 0.9996293354608031, 0.14005857976021782]",
         "x": [
          0.6088402553866635
         ],
         "y": [
          0.9896293354608031
         ],
         "z": [
          0.1300585797602178
         ],
         "type": "scatter3d",
         "scene": "scene"
        },
        {
         "marker": {
          "color": "rgb(0, 0, 0)",
          "size": 10,
          "symbol": "circle"
         },
         "mode": "markers",
         "name": "[0.998782029571577, 0.18775205396506878, 0.14652858493494783]",
         "x": [
          0.988782029571577
         ],
         "y": [
          0.17775205396506877
         ],
         "z": [
          0.13652858493494782
         ],
         "type": "scatter3d",
         "scene": "scene"
        },
        {
         "marker": {
          "color": "rgb(0, 0, 0)",
          "size": 10,
          "symbol": "circle"
         },
         "mode": "markers",
         "name": "[0.2291751293600498, 0.9996293354608031, 0.18711084204690995]",
         "x": [
          0.2191751293600498
         ],
         "y": [
          0.9896293354608031
         ],
         "z": [
          0.17711084204690994
         ],
         "type": "scatter3d",
         "scene": "scene"
        },
        {
         "marker": {
          "color": "rgb(0, 0, 0)",
          "size": 10,
          "symbol": "circle"
         },
         "mode": "markers",
         "name": "[0.6188402553866635, 0.963256120830984, 0.25936729440443584]",
         "x": [
          0.6088402553866635
         ],
         "y": [
          0.953256120830984
         ],
         "z": [
          0.24936729440443584
         ],
         "type": "scatter3d",
         "scene": "scene"
        },
        {
         "marker": {
          "color": "rgb(0, 0, 0)",
          "size": 10,
          "symbol": "circle"
         },
         "mode": "markers",
         "name": "[0.974699005060523, 0.7831993360073112, 0.32964910254148966]",
         "x": [
          0.964699005060523
         ],
         "y": [
          0.7731993360073112
         ],
         "z": [
          0.31964910254148965
         ],
         "type": "scatter3d",
         "scene": "scene"
        },
        {
         "marker": {
          "color": "rgb(0, 0, 0)",
          "size": 10,
          "symbol": "circle"
         },
         "mode": "markers",
         "name": "[0.9824455141873623, 0.18775205396506878, 0.32964910254148966]",
         "x": [
          0.9724455141873622
         ],
         "y": [
          0.17775205396506877
         ],
         "z": [
          0.31964910254148965
         ],
         "type": "scatter3d",
         "scene": "scene"
        },
        {
         "marker": {
          "color": "rgb(0, 0, 0)",
          "size": 10,
          "symbol": "circle"
         },
         "mode": "markers",
         "name": "[0.998782029571577, 0.11545642229902676, 0.32964910254148966]",
         "x": [
          0.988782029571577
         ],
         "y": [
          0.10545642229902677
         ],
         "z": [
          0.31964910254148965
         ],
         "type": "scatter3d",
         "scene": "scene"
        },
        {
         "marker": {
          "color": "rgb(0, 0, 0)",
          "size": 10,
          "symbol": "circle"
         },
         "mode": "markers",
         "name": "[1, 0.04671462931924938, 0.32964910254148966]",
         "x": [
          0.99
         ],
         "y": [
          0.036714629319249376
         ],
         "z": [
          0.31964910254148965
         ],
         "type": "scatter3d",
         "scene": "scene"
        },
        {
         "marker": {
          "color": "rgb(0, 0, 0)",
          "size": 10,
          "symbol": "circle"
         },
         "mode": "markers",
         "name": "[0.9439495702557661, 0.7831993360073112, 0.3850873289857758]",
         "x": [
          0.9339495702557661
         ],
         "y": [
          0.7731993360073112
         ],
         "z": [
          0.3750873289857758
         ],
         "type": "scatter3d",
         "scene": "scene"
        },
        {
         "marker": {
          "color": "rgb(0, 0, 0)",
          "size": 10,
          "symbol": "circle"
         },
         "mode": "markers",
         "name": "[0.9203964279855451, 0.7831993360073112, 0.6538233757703338]",
         "x": [
          0.9103964279855451
         ],
         "y": [
          0.7731993360073112
         ],
         "z": [
          0.6438233757703338
         ],
         "type": "scatter3d",
         "scene": "scene"
        },
        {
         "marker": {
          "color": "rgb(0, 0, 0)",
          "size": 10,
          "symbol": "circle"
         },
         "mode": "markers",
         "name": "[0.9439495702557661, 0.0676621342114628, 0.6538233757703338]",
         "x": [
          0.9339495702557661
         ],
         "y": [
          0.0576621342114628
         ],
         "z": [
          0.6438233757703338
         ],
         "type": "scatter3d",
         "scene": "scene"
        },
        {
         "marker": {
          "color": "rgb(0, 0, 0)",
          "size": 10,
          "symbol": "circle"
         },
         "mode": "markers",
         "name": "[0.6188402553866635, 0.8607877935521043, 0.8109964453629007]",
         "x": [
          0.6088402553866635
         ],
         "y": [
          0.8507877935521043
         ],
         "z": [
          0.8009964453629007
         ],
         "type": "scatter3d",
         "scene": "scene"
        },
        {
         "marker": {
          "color": "rgb(0, 0, 0)",
          "size": 10,
          "symbol": "circle"
         },
         "mode": "markers",
         "name": "[0.7539789538921144, 0.7831993360073112, 0.8109964453629007]",
         "x": [
          0.7439789538921144
         ],
         "y": [
          0.7731993360073112
         ],
         "z": [
          0.8009964453629007
         ],
         "type": "scatter3d",
         "scene": "scene"
        },
        {
         "marker": {
          "color": "rgb(0, 0, 0)",
          "size": 10,
          "symbol": "circle"
         },
         "mode": "markers",
         "name": "[0.4379189206520114, 0.963256120830984, 0.8820012852400152]",
         "x": [
          0.42791892065201137
         ],
         "y": [
          0.953256120830984
         ],
         "z": [
          0.8720012852400152
         ],
         "type": "scatter3d",
         "scene": "scene"
        },
        {
         "marker": {
          "color": "rgb(0, 0, 0)",
          "size": 10,
          "symbol": "circle"
         },
         "mode": "markers",
         "name": "[0.5784393854745765, 0.8607877935521043, 0.8820012852400152]",
         "x": [
          0.5684393854745765
         ],
         "y": [
          0.8507877935521043
         ],
         "z": [
          0.8720012852400152
         ],
         "type": "scatter3d",
         "scene": "scene"
        },
        {
         "marker": {
          "color": "rgb(0, 0, 0)",
          "size": 10,
          "symbol": "circle"
         },
         "mode": "markers",
         "name": "[0.41905703521369375, 0.963256120830984, 0.8885379111258009]",
         "x": [
          0.40905703521369374
         ],
         "y": [
          0.953256120830984
         ],
         "z": [
          0.8785379111258009
         ],
         "type": "scatter3d",
         "scene": "scene"
        },
        {
         "marker": {
          "color": "rgb(0, 0, 0)",
          "size": 10,
          "symbol": "circle"
         },
         "mode": "markers",
         "name": "[0.3137042628876169, 0.963256120830984, 0.8970544724573654]",
         "x": [
          0.30370426288761687
         ],
         "y": [
          0.953256120830984
         ],
         "z": [
          0.8870544724573654
         ],
         "type": "scatter3d",
         "scene": "scene"
        },
        {
         "marker": {
          "color": "rgb(0, 0, 0)",
          "size": 10,
          "symbol": "circle"
         },
         "mode": "markers",
         "name": "[0.2291751293600498, 0.9816592203826657, 0.9116372200274032]",
         "x": [
          0.2191751293600498
         ],
         "y": [
          0.9716592203826657
         ],
         "z": [
          0.9016372200274032
         ],
         "type": "scatter3d",
         "scene": "scene"
        },
        {
         "marker": {
          "color": "rgb(0, 0, 0)",
          "size": 10,
          "symbol": "circle"
         },
         "mode": "markers",
         "name": "[0.26623279973318276, 0.963256120830984, 0.9116372200274032]",
         "x": [
          0.25623279973318275
         ],
         "y": [
          0.953256120830984
         ],
         "z": [
          0.9016372200274032
         ],
         "type": "scatter3d",
         "scene": "scene"
        },
        {
         "marker": {
          "color": "rgb(0, 0, 0)",
          "size": 10,
          "symbol": "circle"
         },
         "mode": "markers",
         "name": "[0.1969938249858662, 0.9816592203826657, 0.9875177453834286]",
         "x": [
          0.1869938249858662
         ],
         "y": [
          0.9716592203826657
         ],
         "z": [
          0.9775177453834286
         ],
         "type": "scatter3d",
         "scene": "scene"
        },
        {
         "marker": {
          "color": "rgb(0, 0, 0)",
          "size": 10,
          "symbol": "circle"
         },
         "mode": "markers",
         "name": "[0.26623279973318276, 0.3607090406104981, 0.9875177453834286]",
         "x": [
          0.25623279973318275
         ],
         "y": [
          0.35070904061049807
         ],
         "z": [
          0.9775177453834286
         ],
         "type": "scatter3d",
         "scene": "scene"
        },
        {
         "marker": {
          "color": "rgb(0, 0, 0)",
          "size": 10,
          "symbol": "circle"
         },
         "mode": "markers",
         "name": "[0.3137042628876169, 0.3527227945433481, 0.9875177453834286]",
         "x": [
          0.30370426288761687
         ],
         "y": [
          0.3427227945433481
         ],
         "z": [
          0.9775177453834286
         ],
         "type": "scatter3d",
         "scene": "scene"
        },
        {
         "marker": {
          "color": "rgb(0, 0, 0)",
          "size": 10,
          "symbol": "circle"
         },
         "mode": "markers",
         "name": "[0.41905703521369375, 0.3347984706332082, 0.9875177453834286]",
         "x": [
          0.40905703521369374
         ],
         "y": [
          0.3247984706332082
         ],
         "z": [
          0.9775177453834286
         ],
         "type": "scatter3d",
         "scene": "scene"
        },
        {
         "marker": {
          "color": "rgb(0, 0, 0)",
          "size": 10,
          "symbol": "circle"
         },
         "mode": "markers",
         "name": "[0.5784393854745765, 0.21555726402251063, 0.9875177453834286]",
         "x": [
          0.5684393854745765
         ],
         "y": [
          0.20555726402251062
         ],
         "z": [
          0.9775177453834286
         ],
         "type": "scatter3d",
         "scene": "scene"
        },
        {
         "marker": {
          "color": "rgb(0, 0, 0)",
          "size": 10,
          "symbol": "circle"
         },
         "mode": "markers",
         "name": "[0.5784393854745765, 0.12534053033850753, 0.9896846009632239]",
         "x": [
          0.5684393854745765
         ],
         "y": [
          0.11534053033850754
         ],
         "z": [
          0.9796846009632239
         ],
         "type": "scatter3d",
         "scene": "scene"
        },
        {
         "marker": {
          "color": "rgb(0, 0, 0)",
          "size": 10,
          "symbol": "circle"
         },
         "mode": "markers",
         "name": "[0.005685896681142274, 1, 0.9975513817970675]",
         "x": [
          -0.004314103318857726
         ],
         "y": [
          0.99
         ],
         "z": [
          0.9875513817970675
         ],
         "type": "scatter3d",
         "scene": "scene"
        },
        {
         "marker": {
          "color": "rgb(0, 0, 0)",
          "size": 10,
          "symbol": "circle"
         },
         "mode": "markers",
         "name": "[0.03653365333761906, 0.9996293354608031, 0.9975513817970675]",
         "x": [
          0.026533653337619055
         ],
         "y": [
          0.9896293354608031
         ],
         "z": [
          0.9875513817970675
         ],
         "type": "scatter3d",
         "scene": "scene"
        },
        {
         "marker": {
          "color": "rgb(0, 0, 0)",
          "size": 10,
          "symbol": "circle"
         },
         "mode": "markers",
         "name": "[0.09538581659393344, 0.9816592203826657, 0.9975513817970675]",
         "x": [
          0.08538581659393345
         ],
         "y": [
          0.9716592203826657
         ],
         "z": [
          0.9875513817970675
         ],
         "type": "scatter3d",
         "scene": "scene"
        },
        {
         "marker": {
          "color": "rgb(0, 0, 0)",
          "size": 10,
          "symbol": "circle"
         },
         "mode": "markers",
         "name": "[0.09582049411634574, 0.12534053033850753, 0.9975513817970675]",
         "x": [
          0.08582049411634575
         ],
         "y": [
          0.11534053033850754
         ],
         "z": [
          0.9875513817970675
         ],
         "type": "scatter3d",
         "scene": "scene"
        },
        {
         "marker": {
          "color": "rgb(0, 0, 0)",
          "size": 10,
          "symbol": "circle"
         },
         "mode": "markers",
         "name": "[0.5784393854745765, 0.10650269256485358, 0.9975513817970675]",
         "x": [
          0.5684393854745765
         ],
         "y": [
          0.09650269256485358
         ],
         "z": [
          0.9875513817970675
         ],
         "type": "scatter3d",
         "scene": "scene"
        },
        {
         "marker": {
          "color": "rgb(0, 0, 0)",
          "size": 10,
          "symbol": "circle"
         },
         "mode": "markers",
         "name": "[0.7539789538921144, 0.087707713118824, 0.9975513817970675]",
         "x": [
          0.7439789538921144
         ],
         "y": [
          0.077707713118824
         ],
         "z": [
          0.9875513817970675
         ],
         "type": "scatter3d",
         "scene": "scene"
        },
        {
         "marker": {
          "color": "rgb(0, 0, 0)",
          "size": 10,
          "symbol": "circle"
         },
         "mode": "markers",
         "name": "[0.0005129691118989799, 1, 1]",
         "x": [
          -0.00948703088810102
         ],
         "y": [
          0.99
         ],
         "z": [
          0.99
         ],
         "type": "scatter3d",
         "scene": "scene"
        },
        {
         "marker": {
          "color": "rgb(0, 0, 0)",
          "size": 10,
          "symbol": "circle"
         },
         "mode": "markers",
         "name": "[0.7539789538921144, 0.06993552414511198, 1]",
         "x": [
          0.7439789538921144
         ],
         "y": [
          0.059935524145111975
         ],
         "z": [
          0.99
         ],
         "type": "scatter3d",
         "scene": "scene"
        },
        {
         "marker": {
          "color": "rgb(0, 0, 0)",
          "size": 10,
          "symbol": "circle"
         },
         "mode": "markers",
         "name": "[0.9439495702557661, 0.06348803339242506, 1]",
         "x": [
          0.9339495702557661
         ],
         "y": [
          0.05348803339242506
         ],
         "z": [
          0.99
         ],
         "type": "scatter3d",
         "scene": "scene"
        },
        {
         "marker": {
          "color": "rgb(0, 0, 0)",
          "size": 10,
          "symbol": "circle"
         },
         "mode": "markers",
         "name": "[1, 0.01704928173105443, 1]",
         "x": [
          0.99
         ],
         "y": [
          0.0070492817310544315
         ],
         "z": [
          0.99
         ],
         "type": "scatter3d",
         "scene": "scene"
        }
       ],
       "layout": {
        "template": {
         "data": {
          "histogram2dcontour": [
           {
            "type": "histogram2dcontour",
            "colorbar": {
             "outlinewidth": 0,
             "ticks": ""
            },
            "colorscale": [
             [
              0.0,
              "#0d0887"
             ],
             [
              0.1111111111111111,
              "#46039f"
             ],
             [
              0.2222222222222222,
              "#7201a8"
             ],
             [
              0.3333333333333333,
              "#9c179e"
             ],
             [
              0.4444444444444444,
              "#bd3786"
             ],
             [
              0.5555555555555556,
              "#d8576b"
             ],
             [
              0.6666666666666666,
              "#ed7953"
             ],
             [
              0.7777777777777778,
              "#fb9f3a"
             ],
             [
              0.8888888888888888,
              "#fdca26"
             ],
             [
              1.0,
              "#f0f921"
             ]
            ]
           }
          ],
          "choropleth": [
           {
            "type": "choropleth",
            "colorbar": {
             "outlinewidth": 0,
             "ticks": ""
            }
           }
          ],
          "histogram2d": [
           {
            "type": "histogram2d",
            "colorbar": {
             "outlinewidth": 0,
             "ticks": ""
            },
            "colorscale": [
             [
              0.0,
              "#0d0887"
             ],
             [
              0.1111111111111111,
              "#46039f"
             ],
             [
              0.2222222222222222,
              "#7201a8"
             ],
             [
              0.3333333333333333,
              "#9c179e"
             ],
             [
              0.4444444444444444,
              "#bd3786"
             ],
             [
              0.5555555555555556,
              "#d8576b"
             ],
             [
              0.6666666666666666,
              "#ed7953"
             ],
             [
              0.7777777777777778,
              "#fb9f3a"
             ],
             [
              0.8888888888888888,
              "#fdca26"
             ],
             [
              1.0,
              "#f0f921"
             ]
            ]
           }
          ],
          "heatmap": [
           {
            "type": "heatmap",
            "colorbar": {
             "outlinewidth": 0,
             "ticks": ""
            },
            "colorscale": [
             [
              0.0,
              "#0d0887"
             ],
             [
              0.1111111111111111,
              "#46039f"
             ],
             [
              0.2222222222222222,
              "#7201a8"
             ],
             [
              0.3333333333333333,
              "#9c179e"
             ],
             [
              0.4444444444444444,
              "#bd3786"
             ],
             [
              0.5555555555555556,
              "#d8576b"
             ],
             [
              0.6666666666666666,
              "#ed7953"
             ],
             [
              0.7777777777777778,
              "#fb9f3a"
             ],
             [
              0.8888888888888888,
              "#fdca26"
             ],
             [
              1.0,
              "#f0f921"
             ]
            ]
           }
          ],
          "heatmapgl": [
           {
            "type": "heatmapgl",
            "colorbar": {
             "outlinewidth": 0,
             "ticks": ""
            },
            "colorscale": [
             [
              0.0,
              "#0d0887"
             ],
             [
              0.1111111111111111,
              "#46039f"
             ],
             [
              0.2222222222222222,
              "#7201a8"
             ],
             [
              0.3333333333333333,
              "#9c179e"
             ],
             [
              0.4444444444444444,
              "#bd3786"
             ],
             [
              0.5555555555555556,
              "#d8576b"
             ],
             [
              0.6666666666666666,
              "#ed7953"
             ],
             [
              0.7777777777777778,
              "#fb9f3a"
             ],
             [
              0.8888888888888888,
              "#fdca26"
             ],
             [
              1.0,
              "#f0f921"
             ]
            ]
           }
          ],
          "contourcarpet": [
           {
            "type": "contourcarpet",
            "colorbar": {
             "outlinewidth": 0,
             "ticks": ""
            }
           }
          ],
          "contour": [
           {
            "type": "contour",
            "colorbar": {
             "outlinewidth": 0,
             "ticks": ""
            },
            "colorscale": [
             [
              0.0,
              "#0d0887"
             ],
             [
              0.1111111111111111,
              "#46039f"
             ],
             [
              0.2222222222222222,
              "#7201a8"
             ],
             [
              0.3333333333333333,
              "#9c179e"
             ],
             [
              0.4444444444444444,
              "#bd3786"
             ],
             [
              0.5555555555555556,
              "#d8576b"
             ],
             [
              0.6666666666666666,
              "#ed7953"
             ],
             [
              0.7777777777777778,
              "#fb9f3a"
             ],
             [
              0.8888888888888888,
              "#fdca26"
             ],
             [
              1.0,
              "#f0f921"
             ]
            ]
           }
          ],
          "surface": [
           {
            "type": "surface",
            "colorbar": {
             "outlinewidth": 0,
             "ticks": ""
            },
            "colorscale": [
             [
              0.0,
              "#0d0887"
             ],
             [
              0.1111111111111111,
              "#46039f"
             ],
             [
              0.2222222222222222,
              "#7201a8"
             ],
             [
              0.3333333333333333,
              "#9c179e"
             ],
             [
              0.4444444444444444,
              "#bd3786"
             ],
             [
              0.5555555555555556,
              "#d8576b"
             ],
             [
              0.6666666666666666,
              "#ed7953"
             ],
             [
              0.7777777777777778,
              "#fb9f3a"
             ],
             [
              0.8888888888888888,
              "#fdca26"
             ],
             [
              1.0,
              "#f0f921"
             ]
            ]
           }
          ],
          "mesh3d": [
           {
            "type": "mesh3d",
            "colorbar": {
             "outlinewidth": 0,
             "ticks": ""
            }
           }
          ],
          "scatter": [
           {
            "marker": {
             "line": {
              "color": "#283442"
             }
            },
            "type": "scatter"
           }
          ],
          "parcoords": [
           {
            "type": "parcoords",
            "line": {
             "colorbar": {
              "outlinewidth": 0,
              "ticks": ""
             }
            }
           }
          ],
          "scatterpolargl": [
           {
            "type": "scatterpolargl",
            "marker": {
             "colorbar": {
              "outlinewidth": 0,
              "ticks": ""
             }
            }
           }
          ],
          "bar": [
           {
            "error_x": {
             "color": "#f2f5fa"
            },
            "error_y": {
             "color": "#f2f5fa"
            },
            "marker": {
             "line": {
              "color": "rgb(17,17,17)",
              "width": 0.5
             },
             "pattern": {
              "fillmode": "overlay",
              "size": 10,
              "solidity": 0.2
             }
            },
            "type": "bar"
           }
          ],
          "scattergeo": [
           {
            "type": "scattergeo",
            "marker": {
             "colorbar": {
              "outlinewidth": 0,
              "ticks": ""
             }
            }
           }
          ],
          "scatterpolar": [
           {
            "type": "scatterpolar",
            "marker": {
             "colorbar": {
              "outlinewidth": 0,
              "ticks": ""
             }
            }
           }
          ],
          "histogram": [
           {
            "marker": {
             "pattern": {
              "fillmode": "overlay",
              "size": 10,
              "solidity": 0.2
             }
            },
            "type": "histogram"
           }
          ],
          "scattergl": [
           {
            "marker": {
             "line": {
              "color": "#283442"
             }
            },
            "type": "scattergl"
           }
          ],
          "scatter3d": [
           {
            "type": "scatter3d",
            "line": {
             "colorbar": {
              "outlinewidth": 0,
              "ticks": ""
             }
            },
            "marker": {
             "colorbar": {
              "outlinewidth": 0,
              "ticks": ""
             }
            }
           }
          ],
          "scattermapbox": [
           {
            "type": "scattermapbox",
            "marker": {
             "colorbar": {
              "outlinewidth": 0,
              "ticks": ""
             }
            }
           }
          ],
          "scatterternary": [
           {
            "type": "scatterternary",
            "marker": {
             "colorbar": {
              "outlinewidth": 0,
              "ticks": ""
             }
            }
           }
          ],
          "scattercarpet": [
           {
            "type": "scattercarpet",
            "marker": {
             "colorbar": {
              "outlinewidth": 0,
              "ticks": ""
             }
            }
           }
          ],
          "carpet": [
           {
            "aaxis": {
             "endlinecolor": "#A2B1C6",
             "gridcolor": "#506784",
             "linecolor": "#506784",
             "minorgridcolor": "#506784",
             "startlinecolor": "#A2B1C6"
            },
            "baxis": {
             "endlinecolor": "#A2B1C6",
             "gridcolor": "#506784",
             "linecolor": "#506784",
             "minorgridcolor": "#506784",
             "startlinecolor": "#A2B1C6"
            },
            "type": "carpet"
           }
          ],
          "table": [
           {
            "cells": {
             "fill": {
              "color": "#506784"
             },
             "line": {
              "color": "rgb(17,17,17)"
             }
            },
            "header": {
             "fill": {
              "color": "#2a3f5f"
             },
             "line": {
              "color": "rgb(17,17,17)"
             }
            },
            "type": "table"
           }
          ],
          "barpolar": [
           {
            "marker": {
             "line": {
              "color": "rgb(17,17,17)",
              "width": 0.5
             },
             "pattern": {
              "fillmode": "overlay",
              "size": 10,
              "solidity": 0.2
             }
            },
            "type": "barpolar"
           }
          ],
          "pie": [
           {
            "automargin": true,
            "type": "pie"
           }
          ]
         },
         "layout": {
          "autotypenumbers": "strict",
          "colorway": [
           "#636efa",
           "#EF553B",
           "#00cc96",
           "#ab63fa",
           "#FFA15A",
           "#19d3f3",
           "#FF6692",
           "#B6E880",
           "#FF97FF",
           "#FECB52"
          ],
          "font": {
           "color": "#f2f5fa"
          },
          "hovermode": "closest",
          "hoverlabel": {
           "align": "left"
          },
          "paper_bgcolor": "rgb(17,17,17)",
          "plot_bgcolor": "rgb(17,17,17)",
          "polar": {
           "bgcolor": "rgb(17,17,17)",
           "angularaxis": {
            "gridcolor": "#506784",
            "linecolor": "#506784",
            "ticks": ""
           },
           "radialaxis": {
            "gridcolor": "#506784",
            "linecolor": "#506784",
            "ticks": ""
           }
          },
          "ternary": {
           "bgcolor": "rgb(17,17,17)",
           "aaxis": {
            "gridcolor": "#506784",
            "linecolor": "#506784",
            "ticks": ""
           },
           "baxis": {
            "gridcolor": "#506784",
            "linecolor": "#506784",
            "ticks": ""
           },
           "caxis": {
            "gridcolor": "#506784",
            "linecolor": "#506784",
            "ticks": ""
           }
          },
          "coloraxis": {
           "colorbar": {
            "outlinewidth": 0,
            "ticks": ""
           }
          },
          "colorscale": {
           "sequential": [
            [
             0.0,
             "#0d0887"
            ],
            [
             0.1111111111111111,
             "#46039f"
            ],
            [
             0.2222222222222222,
             "#7201a8"
            ],
            [
             0.3333333333333333,
             "#9c179e"
            ],
            [
             0.4444444444444444,
             "#bd3786"
            ],
            [
             0.5555555555555556,
             "#d8576b"
            ],
            [
             0.6666666666666666,
             "#ed7953"
            ],
            [
             0.7777777777777778,
             "#fb9f3a"
            ],
            [
             0.8888888888888888,
             "#fdca26"
            ],
            [
             1.0,
             "#f0f921"
            ]
           ],
           "sequentialminus": [
            [
             0.0,
             "#0d0887"
            ],
            [
             0.1111111111111111,
             "#46039f"
            ],
            [
             0.2222222222222222,
             "#7201a8"
            ],
            [
             0.3333333333333333,
             "#9c179e"
            ],
            [
             0.4444444444444444,
             "#bd3786"
            ],
            [
             0.5555555555555556,
             "#d8576b"
            ],
            [
             0.6666666666666666,
             "#ed7953"
            ],
            [
             0.7777777777777778,
             "#fb9f3a"
            ],
            [
             0.8888888888888888,
             "#fdca26"
            ],
            [
             1.0,
             "#f0f921"
            ]
           ],
           "diverging": [
            [
             0,
             "#8e0152"
            ],
            [
             0.1,
             "#c51b7d"
            ],
            [
             0.2,
             "#de77ae"
            ],
            [
             0.3,
             "#f1b6da"
            ],
            [
             0.4,
             "#fde0ef"
            ],
            [
             0.5,
             "#f7f7f7"
            ],
            [
             0.6,
             "#e6f5d0"
            ],
            [
             0.7,
             "#b8e186"
            ],
            [
             0.8,
             "#7fbc41"
            ],
            [
             0.9,
             "#4d9221"
            ],
            [
             1,
             "#276419"
            ]
           ]
          },
          "xaxis": {
           "gridcolor": "#283442",
           "linecolor": "#506784",
           "ticks": "",
           "title": {
            "standoff": 15
           },
           "zerolinecolor": "#283442",
           "automargin": true,
           "zerolinewidth": 2
          },
          "yaxis": {
           "gridcolor": "#283442",
           "linecolor": "#506784",
           "ticks": "",
           "title": {
            "standoff": 15
           },
           "zerolinecolor": "#283442",
           "automargin": true,
           "zerolinewidth": 2
          },
          "scene": {
           "xaxis": {
            "backgroundcolor": "rgb(17,17,17)",
            "gridcolor": "#506784",
            "linecolor": "#506784",
            "showbackground": true,
            "ticks": "",
            "zerolinecolor": "#C8D4E3",
            "gridwidth": 2
           },
           "yaxis": {
            "backgroundcolor": "rgb(17,17,17)",
            "gridcolor": "#506784",
            "linecolor": "#506784",
            "showbackground": true,
            "ticks": "",
            "zerolinecolor": "#C8D4E3",
            "gridwidth": 2
           },
           "zaxis": {
            "backgroundcolor": "rgb(17,17,17)",
            "gridcolor": "#506784",
            "linecolor": "#506784",
            "showbackground": true,
            "ticks": "",
            "zerolinecolor": "#C8D4E3",
            "gridwidth": 2
           }
          },
          "shapedefaults": {
           "line": {
            "color": "#f2f5fa"
           }
          },
          "annotationdefaults": {
           "arrowcolor": "#f2f5fa",
           "arrowhead": 0,
           "arrowwidth": 1
          },
          "geo": {
           "bgcolor": "rgb(17,17,17)",
           "landcolor": "rgb(17,17,17)",
           "subunitcolor": "#506784",
           "showland": true,
           "showlakes": true,
           "lakecolor": "rgb(17,17,17)"
          },
          "title": {
           "x": 0.05
          },
          "updatemenudefaults": {
           "bgcolor": "#506784",
           "borderwidth": 0
          },
          "sliderdefaults": {
           "bgcolor": "#C8D4E3",
           "borderwidth": 1,
           "bordercolor": "rgb(17,17,17)",
           "tickwidth": 0
          },
          "mapbox": {
           "style": "dark"
          }
         }
        },
        "scene": {
         "domain": {
          "x": [
           0.0,
           1.0
          ],
          "y": [
           0.0,
           1.0
          ]
         },
         "xaxis": {
          "range": [
           0,
           1
          ]
         },
         "yaxis": {
          "range": [
           0,
           1
          ]
         },
         "zaxis": {
          "range": [
           0,
           1
          ]
         },
         "aspectmode": "cube"
        }
       },
       "config": {
        "plotlyServerURL": "https://plot.ly"
       }
      },
      "text/html": [
       "<div>                            <div id=\"19ddbca8-cb31-437c-a7a0-75df5a9d9148\" class=\"plotly-graph-div\" style=\"height:525px; width:100%;\"></div>            <script type=\"text/javascript\">                require([\"plotly\"], function(Plotly) {                    window.PLOTLYENV=window.PLOTLYENV || {};                                    if (document.getElementById(\"19ddbca8-cb31-437c-a7a0-75df5a9d9148\")) {                    Plotly.newPlot(                        \"19ddbca8-cb31-437c-a7a0-75df5a9d9148\",                        [{\"marker\":{\"color\":\"rgb(160, 160, 160)\",\"size\":8,\"symbol\":\"circle\"},\"mode\":\"markers\",\"name\":\"ref_point\",\"x\":[1],\"y\":[1],\"z\":[1],\"type\":\"scatter3d\",\"scene\":\"scene\"},{\"i\":[7,0,0,0,4,4,6,6,4,0,3,2],\"j\":[3,4,1,2,5,6,5,2,0,1,6,3],\"k\":[0,7,2,3,6,7,1,1,5,5,7,6],\"name\":\"y\",\"showscale\":true,\"x\":[0.998782029571577,0.998782029571577,1,1,0.998782029571577,0.998782029571577,1,1],\"y\":[0.04671462931924938,1,1,0.04671462931924938,0.04671462931924938,1,1,0.04671462931924938],\"z\":[0.015880831604381918,0.015880831604381918,0.015880831604381918,0.015880831604381918,1,1,1,1],\"type\":\"mesh3d\",\"scene\":\"scene\"},{\"marker\":{\"color\":\"rgb(0, 0, 0)\",\"line\":{\"color\":\"rgb(0, 0, 0)\",\"width\":0.5},\"size\":4,\"symbol\":\"x\"},\"mode\":\"markers\",\"name\":\"[0.998782029571577, 0.04671462931924938, 0.015880831604381918]\",\"x\":[0.998782029571577],\"y\":[0.04671462931924938],\"z\":[0.015880831604381918],\"type\":\"scatter3d\",\"scene\":\"scene\"},{\"i\":[7,0,0,0,4,4,6,6,4,0,3,2],\"j\":[3,4,1,2,5,6,5,2,0,1,6,3],\"k\":[0,7,2,3,6,7,1,1,5,5,7,6],\"name\":\"y\",\"showscale\":true,\"x\":[0.005685896681142274,0.005685896681142274,1,1,0.005685896681142274,0.005685896681142274,1,1],\"y\":[0.9996293354608031,1,1,0.9996293354608031,0.9996293354608031,1,1,0.9996293354608031],\"z\":[0.026624467414852443,0.026624467414852443,0.026624467414852443,0.026624467414852443,1,1,1,1],\"type\":\"mesh3d\",\"scene\":\"scene\"},{\"marker\":{\"color\":\"rgb(0, 0, 0)\",\"line\":{\"color\":\"rgb(0, 0, 0)\",\"width\":0.5},\"size\":4,\"symbol\":\"x\"},\"mode\":\"markers\",\"name\":\"[0.005685896681142274, 0.9996293354608031, 0.026624467414852443]\",\"x\":[0.005685896681142274],\"y\":[0.9996293354608031],\"z\":[0.026624467414852443],\"type\":\"scatter3d\",\"scene\":\"scene\"},{\"i\":[7,0,0,0,4,4,6,6,4,0,3,2],\"j\":[3,4,1,2,5,6,5,2,0,1,6,3],\"k\":[0,7,2,3,6,7,1,1,5,5,7,6],\"name\":\"y\",\"showscale\":true,\"x\":[0.6188402553866635,0.6188402553866635,1,1,0.6188402553866635,0.6188402553866635,1,1],\"y\":[0.7831993360073112,1,1,0.7831993360073112,0.7831993360073112,1,1,0.7831993360073112],\"z\":[0.060295425951525455,0.060295425951525455,0.060295425951525455,0.060295425951525455,1,1,1,1],\"type\":\"mesh3d\",\"scene\":\"scene\"},{\"marker\":{\"color\":\"rgb(0, 0, 0)\",\"line\":{\"color\":\"rgb(0, 0, 0)\",\"width\":0.5},\"size\":4,\"symbol\":\"x\"},\"mode\":\"markers\",\"name\":\"[0.6188402553866635, 0.7831993360073112, 0.060295425951525455]\",\"x\":[0.6188402553866635],\"y\":[0.7831993360073112],\"z\":[0.060295425951525455],\"type\":\"scatter3d\",\"scene\":\"scene\"},{\"i\":[7,0,0,0,4,4,6,6,4,0,3,2],\"j\":[3,4,1,2,5,6,5,2,0,1,6,3],\"k\":[0,7,2,3,6,7,1,1,5,5,7,6],\"name\":\"y\",\"showscale\":true,\"x\":[0.9752076272117975,0.9752076272117975,1,1,0.9752076272117975,0.9752076272117975,1,1],\"y\":[0.20145358552135334,1,1,0.20145358552135334,0.20145358552135334,1,1,0.20145358552135334],\"z\":[0.09157803616875941,0.09157803616875941,0.09157803616875941,0.09157803616875941,1,1,1,1],\"type\":\"mesh3d\",\"scene\":\"scene\"},{\"marker\":{\"color\":\"rgb(0, 0, 0)\",\"line\":{\"color\":\"rgb(0, 0, 0)\",\"width\":0.5},\"size\":4,\"symbol\":\"x\"},\"mode\":\"markers\",\"name\":\"[0.9752076272117975, 0.20145358552135334, 0.09157803616875941]\",\"x\":[0.9752076272117975],\"y\":[0.20145358552135334],\"z\":[0.09157803616875941],\"type\":\"scatter3d\",\"scene\":\"scene\"},{\"i\":[7,0,0,0,4,4,6,6,4,0,3,2],\"j\":[3,4,1,2,5,6,5,2,0,1,6,3],\"k\":[0,7,2,3,6,7,1,1,5,5,7,6],\"name\":\"y\",\"showscale\":true,\"x\":[0.974699005060523,0.974699005060523,1,1,0.974699005060523,0.974699005060523,1,1],\"y\":[0.18775205396506878,1,1,0.18775205396506878,0.18775205396506878,1,1,0.18775205396506878],\"z\":[0.1212889762753583,0.1212889762753583,0.1212889762753583,0.1212889762753583,1,1,1,1],\"type\":\"mesh3d\",\"scene\":\"scene\"},{\"marker\":{\"color\":\"rgb(0, 0, 0)\",\"line\":{\"color\":\"rgb(0, 0, 0)\",\"width\":0.5},\"size\":4,\"symbol\":\"x\"},\"mode\":\"markers\",\"name\":\"[0.974699005060523, 0.18775205396506878, 0.1212889762753583]\",\"x\":[0.974699005060523],\"y\":[0.18775205396506878],\"z\":[0.1212889762753583],\"type\":\"scatter3d\",\"scene\":\"scene\"},{\"i\":[7,0,0,0,4,4,6,6,4,0,3,2],\"j\":[3,4,1,2,5,6,5,2,0,1,6,3],\"k\":[0,7,2,3,6,7,1,1,5,5,7,6],\"name\":\"y\",\"showscale\":true,\"x\":[0.2291751293600498,0.2291751293600498,1,1,0.2291751293600498,0.2291751293600498,1,1],\"y\":[0.963256120830984,1,1,0.963256120830984,0.963256120830984,1,1,0.963256120830984],\"z\":[0.14005857976021782,0.14005857976021782,0.14005857976021782,0.14005857976021782,1,1,1,1],\"type\":\"mesh3d\",\"scene\":\"scene\"},{\"marker\":{\"color\":\"rgb(0, 0, 0)\",\"line\":{\"color\":\"rgb(0, 0, 0)\",\"width\":0.5},\"size\":4,\"symbol\":\"x\"},\"mode\":\"markers\",\"name\":\"[0.2291751293600498, 0.963256120830984, 0.14005857976021782]\",\"x\":[0.2291751293600498],\"y\":[0.963256120830984],\"z\":[0.14005857976021782],\"type\":\"scatter3d\",\"scene\":\"scene\"},{\"i\":[7,0,0,0,4,4,6,6,4,0,3,2],\"j\":[3,4,1,2,5,6,5,2,0,1,6,3],\"k\":[0,7,2,3,6,7,1,1,5,5,7,6],\"name\":\"y\",\"showscale\":true,\"x\":[0.9824455141873623,0.9824455141873623,1,1,0.9824455141873623,0.9824455141873623,1,1],\"y\":[0.11545642229902676,1,1,0.11545642229902676,0.11545642229902676,1,1,0.11545642229902676],\"z\":[0.14652858493494783,0.14652858493494783,0.14652858493494783,0.14652858493494783,1,1,1,1],\"type\":\"mesh3d\",\"scene\":\"scene\"},{\"marker\":{\"color\":\"rgb(0, 0, 0)\",\"line\":{\"color\":\"rgb(0, 0, 0)\",\"width\":0.5},\"size\":4,\"symbol\":\"x\"},\"mode\":\"markers\",\"name\":\"[0.9824455141873623, 0.11545642229902676, 0.14652858493494783]\",\"x\":[0.9824455141873623],\"y\":[0.11545642229902676],\"z\":[0.14652858493494783],\"type\":\"scatter3d\",\"scene\":\"scene\"},{\"i\":[7,0,0,0,4,4,6,6,4,0,3,2],\"j\":[3,4,1,2,5,6,5,2,0,1,6,3],\"k\":[0,7,2,3,6,7,1,1,5,5,7,6],\"name\":\"y\",\"showscale\":true,\"x\":[0.03653365333761906,0.03653365333761906,1,1,0.03653365333761906,0.03653365333761906,1,1],\"y\":[0.9816592203826657,1,1,0.9816592203826657,0.9816592203826657,1,1,0.9816592203826657],\"z\":[0.18711084204690995,0.18711084204690995,0.18711084204690995,0.18711084204690995,1,1,1,1],\"type\":\"mesh3d\",\"scene\":\"scene\"},{\"marker\":{\"color\":\"rgb(0, 0, 0)\",\"line\":{\"color\":\"rgb(0, 0, 0)\",\"width\":0.5},\"size\":4,\"symbol\":\"x\"},\"mode\":\"markers\",\"name\":\"[0.03653365333761906, 0.9816592203826657, 0.18711084204690995]\",\"x\":[0.03653365333761906],\"y\":[0.9816592203826657],\"z\":[0.18711084204690995],\"type\":\"scatter3d\",\"scene\":\"scene\"},{\"i\":[7,0,0,0,4,4,6,6,4,0,3,2],\"j\":[3,4,1,2,5,6,5,2,0,1,6,3],\"k\":[0,7,2,3,6,7,1,1,5,5,7,6],\"name\":\"y\",\"showscale\":true,\"x\":[0.4379189206520114,0.4379189206520114,1,1,0.4379189206520114,0.4379189206520114,1,1],\"y\":[0.8607877935521043,1,1,0.8607877935521043,0.8607877935521043,1,1,0.8607877935521043],\"z\":[0.25936729440443584,0.25936729440443584,0.25936729440443584,0.25936729440443584,1,1,1,1],\"type\":\"mesh3d\",\"scene\":\"scene\"},{\"marker\":{\"color\":\"rgb(0, 0, 0)\",\"line\":{\"color\":\"rgb(0, 0, 0)\",\"width\":0.5},\"size\":4,\"symbol\":\"x\"},\"mode\":\"markers\",\"name\":\"[0.4379189206520114, 0.8607877935521043, 0.25936729440443584]\",\"x\":[0.4379189206520114],\"y\":[0.8607877935521043],\"z\":[0.25936729440443584],\"type\":\"scatter3d\",\"scene\":\"scene\"},{\"i\":[7,0,0,0,4,4,6,6,4,0,3,2],\"j\":[3,4,1,2,5,6,5,2,0,1,6,3],\"k\":[0,7,2,3,6,7,1,1,5,5,7,6],\"name\":\"y\",\"showscale\":true,\"x\":[0.9439495702557661,0.9439495702557661,1,1,0.9439495702557661,0.9439495702557661,1,1],\"y\":[0.01704928173105443,1,1,0.01704928173105443,0.01704928173105443,1,1,0.01704928173105443],\"z\":[0.32964910254148966,0.32964910254148966,0.32964910254148966,0.32964910254148966,1,1,1,1],\"type\":\"mesh3d\",\"scene\":\"scene\"},{\"marker\":{\"color\":\"rgb(0, 0, 0)\",\"line\":{\"color\":\"rgb(0, 0, 0)\",\"width\":0.5},\"size\":4,\"symbol\":\"x\"},\"mode\":\"markers\",\"name\":\"[0.9439495702557661, 0.01704928173105443, 0.32964910254148966]\",\"x\":[0.9439495702557661],\"y\":[0.01704928173105443],\"z\":[0.32964910254148966],\"type\":\"scatter3d\",\"scene\":\"scene\"},{\"i\":[7,0,0,0,4,4,6,6,4,0,3,2],\"j\":[3,4,1,2,5,6,5,2,0,1,6,3],\"k\":[0,7,2,3,6,7,1,1,5,5,7,6],\"name\":\"y\",\"showscale\":true,\"x\":[0.9203964279855451,0.9203964279855451,1,1,0.9203964279855451,0.9203964279855451,1,1],\"y\":[0.0676621342114628,1,1,0.0676621342114628,0.0676621342114628,1,1,0.0676621342114628],\"z\":[0.3850873289857758,0.3850873289857758,0.3850873289857758,0.3850873289857758,1,1,1,1],\"type\":\"mesh3d\",\"scene\":\"scene\"},{\"marker\":{\"color\":\"rgb(0, 0, 0)\",\"line\":{\"color\":\"rgb(0, 0, 0)\",\"width\":0.5},\"size\":4,\"symbol\":\"x\"},\"mode\":\"markers\",\"name\":\"[0.9203964279855451, 0.0676621342114628, 0.3850873289857758]\",\"x\":[0.9203964279855451],\"y\":[0.0676621342114628],\"z\":[0.3850873289857758],\"type\":\"scatter3d\",\"scene\":\"scene\"},{\"i\":[7,0,0,0,4,4,6,6,4,0,3,2],\"j\":[3,4,1,2,5,6,5,2,0,1,6,3],\"k\":[0,7,2,3,6,7,1,1,5,5,7,6],\"name\":\"y\",\"showscale\":true,\"x\":[0.7539789538921144,0.7539789538921144,1,1,0.7539789538921144,0.7539789538921144,1,1],\"y\":[0.06348803339242506,1,1,0.06348803339242506,0.06348803339242506,1,1,0.06348803339242506],\"z\":[0.6538233757703338,0.6538233757703338,0.6538233757703338,0.6538233757703338,1,1,1,1],\"type\":\"mesh3d\",\"scene\":\"scene\"},{\"marker\":{\"color\":\"rgb(0, 0, 0)\",\"line\":{\"color\":\"rgb(0, 0, 0)\",\"width\":0.5},\"size\":4,\"symbol\":\"x\"},\"mode\":\"markers\",\"name\":\"[0.7539789538921144, 0.06348803339242506, 0.6538233757703338]\",\"x\":[0.7539789538921144],\"y\":[0.06348803339242506],\"z\":[0.6538233757703338],\"type\":\"scatter3d\",\"scene\":\"scene\"},{\"i\":[7,0,0,0,4,4,6,6,4,0,3,2],\"j\":[3,4,1,2,5,6,5,2,0,1,6,3],\"k\":[0,7,2,3,6,7,1,1,5,5,7,6],\"name\":\"y\",\"showscale\":true,\"x\":[0.5784393854745765,0.5784393854745765,1,1,0.5784393854745765,0.5784393854745765,1,1],\"y\":[0.087707713118824,1,1,0.087707713118824,0.087707713118824,1,1,0.087707713118824],\"z\":[0.8109964453629007,0.8109964453629007,0.8109964453629007,0.8109964453629007,1,1,1,1],\"type\":\"mesh3d\",\"scene\":\"scene\"},{\"marker\":{\"color\":\"rgb(0, 0, 0)\",\"line\":{\"color\":\"rgb(0, 0, 0)\",\"width\":0.5},\"size\":4,\"symbol\":\"x\"},\"mode\":\"markers\",\"name\":\"[0.5784393854745765, 0.087707713118824, 0.8109964453629007]\",\"x\":[0.5784393854745765],\"y\":[0.087707713118824],\"z\":[0.8109964453629007],\"type\":\"scatter3d\",\"scene\":\"scene\"},{\"i\":[7,0,0,0,4,4,6,6,4,0,3,2],\"j\":[3,4,1,2,5,6,5,2,0,1,6,3],\"k\":[0,7,2,3,6,7,1,1,5,5,7,6],\"name\":\"y\",\"showscale\":true,\"x\":[0.41905703521369375,0.41905703521369375,1,1,0.41905703521369375,0.41905703521369375,1,1],\"y\":[0.21555726402251063,1,1,0.21555726402251063,0.21555726402251063,1,1,0.21555726402251063],\"z\":[0.8820012852400152,0.8820012852400152,0.8820012852400152,0.8820012852400152,1,1,1,1],\"type\":\"mesh3d\",\"scene\":\"scene\"},{\"marker\":{\"color\":\"rgb(0, 0, 0)\",\"line\":{\"color\":\"rgb(0, 0, 0)\",\"width\":0.5},\"size\":4,\"symbol\":\"x\"},\"mode\":\"markers\",\"name\":\"[0.41905703521369375, 0.21555726402251063, 0.8820012852400152]\",\"x\":[0.41905703521369375],\"y\":[0.21555726402251063],\"z\":[0.8820012852400152],\"type\":\"scatter3d\",\"scene\":\"scene\"},{\"i\":[7,0,0,0,4,4,6,6,4,0,3,2],\"j\":[3,4,1,2,5,6,5,2,0,1,6,3],\"k\":[0,7,2,3,6,7,1,1,5,5,7,6],\"name\":\"y\",\"showscale\":true,\"x\":[0.3137042628876169,0.3137042628876169,1,1,0.3137042628876169,0.3137042628876169,1,1],\"y\":[0.3347984706332082,1,1,0.3347984706332082,0.3347984706332082,1,1,0.3347984706332082],\"z\":[0.8885379111258009,0.8885379111258009,0.8885379111258009,0.8885379111258009,1,1,1,1],\"type\":\"mesh3d\",\"scene\":\"scene\"},{\"marker\":{\"color\":\"rgb(0, 0, 0)\",\"line\":{\"color\":\"rgb(0, 0, 0)\",\"width\":0.5},\"size\":4,\"symbol\":\"x\"},\"mode\":\"markers\",\"name\":\"[0.3137042628876169, 0.3347984706332082, 0.8885379111258009]\",\"x\":[0.3137042628876169],\"y\":[0.3347984706332082],\"z\":[0.8885379111258009],\"type\":\"scatter3d\",\"scene\":\"scene\"},{\"i\":[7,0,0,0,4,4,6,6,4,0,3,2],\"j\":[3,4,1,2,5,6,5,2,0,1,6,3],\"k\":[0,7,2,3,6,7,1,1,5,5,7,6],\"name\":\"y\",\"showscale\":true,\"x\":[0.26623279973318276,0.26623279973318276,1,1,0.26623279973318276,0.26623279973318276,1,1],\"y\":[0.3527227945433481,1,1,0.3527227945433481,0.3527227945433481,1,1,0.3527227945433481],\"z\":[0.8970544724573654,0.8970544724573654,0.8970544724573654,0.8970544724573654,1,1,1,1],\"type\":\"mesh3d\",\"scene\":\"scene\"},{\"marker\":{\"color\":\"rgb(0, 0, 0)\",\"line\":{\"color\":\"rgb(0, 0, 0)\",\"width\":0.5},\"size\":4,\"symbol\":\"x\"},\"mode\":\"markers\",\"name\":\"[0.26623279973318276, 0.3527227945433481, 0.8970544724573654]\",\"x\":[0.26623279973318276],\"y\":[0.3527227945433481],\"z\":[0.8970544724573654],\"type\":\"scatter3d\",\"scene\":\"scene\"},{\"i\":[7,0,0,0,4,4,6,6,4,0,3,2],\"j\":[3,4,1,2,5,6,5,2,0,1,6,3],\"k\":[0,7,2,3,6,7,1,1,5,5,7,6],\"name\":\"y\",\"showscale\":true,\"x\":[0.1969938249858662,0.1969938249858662,1,1,0.1969938249858662,0.1969938249858662,1,1],\"y\":[0.3607090406104981,1,1,0.3607090406104981,0.3607090406104981,1,1,0.3607090406104981],\"z\":[0.9116372200274032,0.9116372200274032,0.9116372200274032,0.9116372200274032,1,1,1,1],\"type\":\"mesh3d\",\"scene\":\"scene\"},{\"marker\":{\"color\":\"rgb(0, 0, 0)\",\"line\":{\"color\":\"rgb(0, 0, 0)\",\"width\":0.5},\"size\":4,\"symbol\":\"x\"},\"mode\":\"markers\",\"name\":\"[0.1969938249858662, 0.3607090406104981, 0.9116372200274032]\",\"x\":[0.1969938249858662],\"y\":[0.3607090406104981],\"z\":[0.9116372200274032],\"type\":\"scatter3d\",\"scene\":\"scene\"},{\"i\":[7,0,0,0,4,4,6,6,4,0,3,2],\"j\":[3,4,1,2,5,6,5,2,0,1,6,3],\"k\":[0,7,2,3,6,7,1,1,5,5,7,6],\"name\":\"y\",\"showscale\":true,\"x\":[0.09538581659393344,0.09538581659393344,1,1,0.09538581659393344,0.09538581659393344,1,1],\"y\":[0.12534053033850753,1,1,0.12534053033850753,0.12534053033850753,1,1,0.12534053033850753],\"z\":[0.9875177453834286,0.9875177453834286,0.9875177453834286,0.9875177453834286,1,1,1,1],\"type\":\"mesh3d\",\"scene\":\"scene\"},{\"marker\":{\"color\":\"rgb(0, 0, 0)\",\"line\":{\"color\":\"rgb(0, 0, 0)\",\"width\":0.5},\"size\":4,\"symbol\":\"x\"},\"mode\":\"markers\",\"name\":\"[0.09538581659393344, 0.12534053033850753, 0.9875177453834286]\",\"x\":[0.09538581659393344],\"y\":[0.12534053033850753],\"z\":[0.9875177453834286],\"type\":\"scatter3d\",\"scene\":\"scene\"},{\"i\":[7,0,0,0,4,4,6,6,4,0,3,2],\"j\":[3,4,1,2,5,6,5,2,0,1,6,3],\"k\":[0,7,2,3,6,7,1,1,5,5,7,6],\"name\":\"y\",\"showscale\":true,\"x\":[0.09582049411634574,0.09582049411634574,1,1,0.09582049411634574,0.09582049411634574,1,1],\"y\":[0.10650269256485358,1,1,0.10650269256485358,0.10650269256485358,1,1,0.10650269256485358],\"z\":[0.9896846009632239,0.9896846009632239,0.9896846009632239,0.9896846009632239,1,1,1,1],\"type\":\"mesh3d\",\"scene\":\"scene\"},{\"marker\":{\"color\":\"rgb(0, 0, 0)\",\"line\":{\"color\":\"rgb(0, 0, 0)\",\"width\":0.5},\"size\":4,\"symbol\":\"x\"},\"mode\":\"markers\",\"name\":\"[0.09582049411634574, 0.10650269256485358, 0.9896846009632239]\",\"x\":[0.09582049411634574],\"y\":[0.10650269256485358],\"z\":[0.9896846009632239],\"type\":\"scatter3d\",\"scene\":\"scene\"},{\"i\":[7,0,0,0,4,4,6,6,4,0,3,2],\"j\":[3,4,1,2,5,6,5,2,0,1,6,3],\"k\":[0,7,2,3,6,7,1,1,5,5,7,6],\"name\":\"y\",\"showscale\":true,\"x\":[0.0005129691118989799,0.0005129691118989799,1,1,0.0005129691118989799,0.0005129691118989799,1,1],\"y\":[0.06993552414511198,1,1,0.06993552414511198,0.06993552414511198,1,1,0.06993552414511198],\"z\":[0.9975513817970675,0.9975513817970675,0.9975513817970675,0.9975513817970675,1,1,1,1],\"type\":\"mesh3d\",\"scene\":\"scene\"},{\"marker\":{\"color\":\"rgb(0, 0, 0)\",\"line\":{\"color\":\"rgb(0, 0, 0)\",\"width\":0.5},\"size\":4,\"symbol\":\"x\"},\"mode\":\"markers\",\"name\":\"[0.0005129691118989799, 0.06993552414511198, 0.9975513817970675]\",\"x\":[0.0005129691118989799],\"y\":[0.06993552414511198],\"z\":[0.9975513817970675],\"type\":\"scatter3d\",\"scene\":\"scene\"},{\"marker\":{\"color\":\"rgb(0, 0, 0)\",\"size\":10,\"symbol\":\"circle\"},\"mode\":\"markers\",\"name\":\"[1, 1, 0.015880831604381918]\",\"x\":[0.99],\"y\":[0.99],\"z\":[0.005880831604381917],\"type\":\"scatter3d\",\"scene\":\"scene\"},{\"marker\":{\"color\":\"rgb(0, 0, 0)\",\"size\":10,\"symbol\":\"circle\"},\"mode\":\"markers\",\"name\":\"[0.998782029571577, 1, 0.026624467414852443]\",\"x\":[0.988782029571577],\"y\":[0.99],\"z\":[0.01662446741485244],\"type\":\"scatter3d\",\"scene\":\"scene\"},{\"marker\":{\"color\":\"rgb(0, 0, 0)\",\"size\":10,\"symbol\":\"circle\"},\"mode\":\"markers\",\"name\":\"[0.998782029571577, 0.9996293354608031, 0.060295425951525455]\",\"x\":[0.988782029571577],\"y\":[0.9896293354608031],\"z\":[0.05029542595152545],\"type\":\"scatter3d\",\"scene\":\"scene\"},{\"marker\":{\"color\":\"rgb(0, 0, 0)\",\"size\":10,\"symbol\":\"circle\"},\"mode\":\"markers\",\"name\":\"[0.998782029571577, 0.7831993360073112, 0.09157803616875941]\",\"x\":[0.988782029571577],\"y\":[0.7731993360073112],\"z\":[0.08157803616875942],\"type\":\"scatter3d\",\"scene\":\"scene\"},{\"marker\":{\"color\":\"rgb(0, 0, 0)\",\"size\":10,\"symbol\":\"circle\"},\"mode\":\"markers\",\"name\":\"[0.9752076272117975, 0.7831993360073112, 0.1212889762753583]\",\"x\":[0.9652076272117975],\"y\":[0.7731993360073112],\"z\":[0.1112889762753583],\"type\":\"scatter3d\",\"scene\":\"scene\"},{\"marker\":{\"color\":\"rgb(0, 0, 0)\",\"size\":10,\"symbol\":\"circle\"},\"mode\":\"markers\",\"name\":\"[0.998782029571577, 0.20145358552135334, 0.1212889762753583]\",\"x\":[0.988782029571577],\"y\":[0.19145358552135333],\"z\":[0.1112889762753583],\"type\":\"scatter3d\",\"scene\":\"scene\"},{\"marker\":{\"color\":\"rgb(0, 0, 0)\",\"size\":10,\"symbol\":\"circle\"},\"mode\":\"markers\",\"name\":\"[0.6188402553866635, 0.9996293354608031, 0.14005857976021782]\",\"x\":[0.6088402553866635],\"y\":[0.9896293354608031],\"z\":[0.1300585797602178],\"type\":\"scatter3d\",\"scene\":\"scene\"},{\"marker\":{\"color\":\"rgb(0, 0, 0)\",\"size\":10,\"symbol\":\"circle\"},\"mode\":\"markers\",\"name\":\"[0.998782029571577, 0.18775205396506878, 0.14652858493494783]\",\"x\":[0.988782029571577],\"y\":[0.17775205396506877],\"z\":[0.13652858493494782],\"type\":\"scatter3d\",\"scene\":\"scene\"},{\"marker\":{\"color\":\"rgb(0, 0, 0)\",\"size\":10,\"symbol\":\"circle\"},\"mode\":\"markers\",\"name\":\"[0.2291751293600498, 0.9996293354608031, 0.18711084204690995]\",\"x\":[0.2191751293600498],\"y\":[0.9896293354608031],\"z\":[0.17711084204690994],\"type\":\"scatter3d\",\"scene\":\"scene\"},{\"marker\":{\"color\":\"rgb(0, 0, 0)\",\"size\":10,\"symbol\":\"circle\"},\"mode\":\"markers\",\"name\":\"[0.6188402553866635, 0.963256120830984, 0.25936729440443584]\",\"x\":[0.6088402553866635],\"y\":[0.953256120830984],\"z\":[0.24936729440443584],\"type\":\"scatter3d\",\"scene\":\"scene\"},{\"marker\":{\"color\":\"rgb(0, 0, 0)\",\"size\":10,\"symbol\":\"circle\"},\"mode\":\"markers\",\"name\":\"[0.974699005060523, 0.7831993360073112, 0.32964910254148966]\",\"x\":[0.964699005060523],\"y\":[0.7731993360073112],\"z\":[0.31964910254148965],\"type\":\"scatter3d\",\"scene\":\"scene\"},{\"marker\":{\"color\":\"rgb(0, 0, 0)\",\"size\":10,\"symbol\":\"circle\"},\"mode\":\"markers\",\"name\":\"[0.9824455141873623, 0.18775205396506878, 0.32964910254148966]\",\"x\":[0.9724455141873622],\"y\":[0.17775205396506877],\"z\":[0.31964910254148965],\"type\":\"scatter3d\",\"scene\":\"scene\"},{\"marker\":{\"color\":\"rgb(0, 0, 0)\",\"size\":10,\"symbol\":\"circle\"},\"mode\":\"markers\",\"name\":\"[0.998782029571577, 0.11545642229902676, 0.32964910254148966]\",\"x\":[0.988782029571577],\"y\":[0.10545642229902677],\"z\":[0.31964910254148965],\"type\":\"scatter3d\",\"scene\":\"scene\"},{\"marker\":{\"color\":\"rgb(0, 0, 0)\",\"size\":10,\"symbol\":\"circle\"},\"mode\":\"markers\",\"name\":\"[1, 0.04671462931924938, 0.32964910254148966]\",\"x\":[0.99],\"y\":[0.036714629319249376],\"z\":[0.31964910254148965],\"type\":\"scatter3d\",\"scene\":\"scene\"},{\"marker\":{\"color\":\"rgb(0, 0, 0)\",\"size\":10,\"symbol\":\"circle\"},\"mode\":\"markers\",\"name\":\"[0.9439495702557661, 0.7831993360073112, 0.3850873289857758]\",\"x\":[0.9339495702557661],\"y\":[0.7731993360073112],\"z\":[0.3750873289857758],\"type\":\"scatter3d\",\"scene\":\"scene\"},{\"marker\":{\"color\":\"rgb(0, 0, 0)\",\"size\":10,\"symbol\":\"circle\"},\"mode\":\"markers\",\"name\":\"[0.9203964279855451, 0.7831993360073112, 0.6538233757703338]\",\"x\":[0.9103964279855451],\"y\":[0.7731993360073112],\"z\":[0.6438233757703338],\"type\":\"scatter3d\",\"scene\":\"scene\"},{\"marker\":{\"color\":\"rgb(0, 0, 0)\",\"size\":10,\"symbol\":\"circle\"},\"mode\":\"markers\",\"name\":\"[0.9439495702557661, 0.0676621342114628, 0.6538233757703338]\",\"x\":[0.9339495702557661],\"y\":[0.0576621342114628],\"z\":[0.6438233757703338],\"type\":\"scatter3d\",\"scene\":\"scene\"},{\"marker\":{\"color\":\"rgb(0, 0, 0)\",\"size\":10,\"symbol\":\"circle\"},\"mode\":\"markers\",\"name\":\"[0.6188402553866635, 0.8607877935521043, 0.8109964453629007]\",\"x\":[0.6088402553866635],\"y\":[0.8507877935521043],\"z\":[0.8009964453629007],\"type\":\"scatter3d\",\"scene\":\"scene\"},{\"marker\":{\"color\":\"rgb(0, 0, 0)\",\"size\":10,\"symbol\":\"circle\"},\"mode\":\"markers\",\"name\":\"[0.7539789538921144, 0.7831993360073112, 0.8109964453629007]\",\"x\":[0.7439789538921144],\"y\":[0.7731993360073112],\"z\":[0.8009964453629007],\"type\":\"scatter3d\",\"scene\":\"scene\"},{\"marker\":{\"color\":\"rgb(0, 0, 0)\",\"size\":10,\"symbol\":\"circle\"},\"mode\":\"markers\",\"name\":\"[0.4379189206520114, 0.963256120830984, 0.8820012852400152]\",\"x\":[0.42791892065201137],\"y\":[0.953256120830984],\"z\":[0.8720012852400152],\"type\":\"scatter3d\",\"scene\":\"scene\"},{\"marker\":{\"color\":\"rgb(0, 0, 0)\",\"size\":10,\"symbol\":\"circle\"},\"mode\":\"markers\",\"name\":\"[0.5784393854745765, 0.8607877935521043, 0.8820012852400152]\",\"x\":[0.5684393854745765],\"y\":[0.8507877935521043],\"z\":[0.8720012852400152],\"type\":\"scatter3d\",\"scene\":\"scene\"},{\"marker\":{\"color\":\"rgb(0, 0, 0)\",\"size\":10,\"symbol\":\"circle\"},\"mode\":\"markers\",\"name\":\"[0.41905703521369375, 0.963256120830984, 0.8885379111258009]\",\"x\":[0.40905703521369374],\"y\":[0.953256120830984],\"z\":[0.8785379111258009],\"type\":\"scatter3d\",\"scene\":\"scene\"},{\"marker\":{\"color\":\"rgb(0, 0, 0)\",\"size\":10,\"symbol\":\"circle\"},\"mode\":\"markers\",\"name\":\"[0.3137042628876169, 0.963256120830984, 0.8970544724573654]\",\"x\":[0.30370426288761687],\"y\":[0.953256120830984],\"z\":[0.8870544724573654],\"type\":\"scatter3d\",\"scene\":\"scene\"},{\"marker\":{\"color\":\"rgb(0, 0, 0)\",\"size\":10,\"symbol\":\"circle\"},\"mode\":\"markers\",\"name\":\"[0.2291751293600498, 0.9816592203826657, 0.9116372200274032]\",\"x\":[0.2191751293600498],\"y\":[0.9716592203826657],\"z\":[0.9016372200274032],\"type\":\"scatter3d\",\"scene\":\"scene\"},{\"marker\":{\"color\":\"rgb(0, 0, 0)\",\"size\":10,\"symbol\":\"circle\"},\"mode\":\"markers\",\"name\":\"[0.26623279973318276, 0.963256120830984, 0.9116372200274032]\",\"x\":[0.25623279973318275],\"y\":[0.953256120830984],\"z\":[0.9016372200274032],\"type\":\"scatter3d\",\"scene\":\"scene\"},{\"marker\":{\"color\":\"rgb(0, 0, 0)\",\"size\":10,\"symbol\":\"circle\"},\"mode\":\"markers\",\"name\":\"[0.1969938249858662, 0.9816592203826657, 0.9875177453834286]\",\"x\":[0.1869938249858662],\"y\":[0.9716592203826657],\"z\":[0.9775177453834286],\"type\":\"scatter3d\",\"scene\":\"scene\"},{\"marker\":{\"color\":\"rgb(0, 0, 0)\",\"size\":10,\"symbol\":\"circle\"},\"mode\":\"markers\",\"name\":\"[0.26623279973318276, 0.3607090406104981, 0.9875177453834286]\",\"x\":[0.25623279973318275],\"y\":[0.35070904061049807],\"z\":[0.9775177453834286],\"type\":\"scatter3d\",\"scene\":\"scene\"},{\"marker\":{\"color\":\"rgb(0, 0, 0)\",\"size\":10,\"symbol\":\"circle\"},\"mode\":\"markers\",\"name\":\"[0.3137042628876169, 0.3527227945433481, 0.9875177453834286]\",\"x\":[0.30370426288761687],\"y\":[0.3427227945433481],\"z\":[0.9775177453834286],\"type\":\"scatter3d\",\"scene\":\"scene\"},{\"marker\":{\"color\":\"rgb(0, 0, 0)\",\"size\":10,\"symbol\":\"circle\"},\"mode\":\"markers\",\"name\":\"[0.41905703521369375, 0.3347984706332082, 0.9875177453834286]\",\"x\":[0.40905703521369374],\"y\":[0.3247984706332082],\"z\":[0.9775177453834286],\"type\":\"scatter3d\",\"scene\":\"scene\"},{\"marker\":{\"color\":\"rgb(0, 0, 0)\",\"size\":10,\"symbol\":\"circle\"},\"mode\":\"markers\",\"name\":\"[0.5784393854745765, 0.21555726402251063, 0.9875177453834286]\",\"x\":[0.5684393854745765],\"y\":[0.20555726402251062],\"z\":[0.9775177453834286],\"type\":\"scatter3d\",\"scene\":\"scene\"},{\"marker\":{\"color\":\"rgb(0, 0, 0)\",\"size\":10,\"symbol\":\"circle\"},\"mode\":\"markers\",\"name\":\"[0.5784393854745765, 0.12534053033850753, 0.9896846009632239]\",\"x\":[0.5684393854745765],\"y\":[0.11534053033850754],\"z\":[0.9796846009632239],\"type\":\"scatter3d\",\"scene\":\"scene\"},{\"marker\":{\"color\":\"rgb(0, 0, 0)\",\"size\":10,\"symbol\":\"circle\"},\"mode\":\"markers\",\"name\":\"[0.005685896681142274, 1, 0.9975513817970675]\",\"x\":[-0.004314103318857726],\"y\":[0.99],\"z\":[0.9875513817970675],\"type\":\"scatter3d\",\"scene\":\"scene\"},{\"marker\":{\"color\":\"rgb(0, 0, 0)\",\"size\":10,\"symbol\":\"circle\"},\"mode\":\"markers\",\"name\":\"[0.03653365333761906, 0.9996293354608031, 0.9975513817970675]\",\"x\":[0.026533653337619055],\"y\":[0.9896293354608031],\"z\":[0.9875513817970675],\"type\":\"scatter3d\",\"scene\":\"scene\"},{\"marker\":{\"color\":\"rgb(0, 0, 0)\",\"size\":10,\"symbol\":\"circle\"},\"mode\":\"markers\",\"name\":\"[0.09538581659393344, 0.9816592203826657, 0.9975513817970675]\",\"x\":[0.08538581659393345],\"y\":[0.9716592203826657],\"z\":[0.9875513817970675],\"type\":\"scatter3d\",\"scene\":\"scene\"},{\"marker\":{\"color\":\"rgb(0, 0, 0)\",\"size\":10,\"symbol\":\"circle\"},\"mode\":\"markers\",\"name\":\"[0.09582049411634574, 0.12534053033850753, 0.9975513817970675]\",\"x\":[0.08582049411634575],\"y\":[0.11534053033850754],\"z\":[0.9875513817970675],\"type\":\"scatter3d\",\"scene\":\"scene\"},{\"marker\":{\"color\":\"rgb(0, 0, 0)\",\"size\":10,\"symbol\":\"circle\"},\"mode\":\"markers\",\"name\":\"[0.5784393854745765, 0.10650269256485358, 0.9975513817970675]\",\"x\":[0.5684393854745765],\"y\":[0.09650269256485358],\"z\":[0.9875513817970675],\"type\":\"scatter3d\",\"scene\":\"scene\"},{\"marker\":{\"color\":\"rgb(0, 0, 0)\",\"size\":10,\"symbol\":\"circle\"},\"mode\":\"markers\",\"name\":\"[0.7539789538921144, 0.087707713118824, 0.9975513817970675]\",\"x\":[0.7439789538921144],\"y\":[0.077707713118824],\"z\":[0.9875513817970675],\"type\":\"scatter3d\",\"scene\":\"scene\"},{\"marker\":{\"color\":\"rgb(0, 0, 0)\",\"size\":10,\"symbol\":\"circle\"},\"mode\":\"markers\",\"name\":\"[0.0005129691118989799, 1, 1]\",\"x\":[-0.00948703088810102],\"y\":[0.99],\"z\":[0.99],\"type\":\"scatter3d\",\"scene\":\"scene\"},{\"marker\":{\"color\":\"rgb(0, 0, 0)\",\"size\":10,\"symbol\":\"circle\"},\"mode\":\"markers\",\"name\":\"[0.7539789538921144, 0.06993552414511198, 1]\",\"x\":[0.7439789538921144],\"y\":[0.059935524145111975],\"z\":[0.99],\"type\":\"scatter3d\",\"scene\":\"scene\"},{\"marker\":{\"color\":\"rgb(0, 0, 0)\",\"size\":10,\"symbol\":\"circle\"},\"mode\":\"markers\",\"name\":\"[0.9439495702557661, 0.06348803339242506, 1]\",\"x\":[0.9339495702557661],\"y\":[0.05348803339242506],\"z\":[0.99],\"type\":\"scatter3d\",\"scene\":\"scene\"},{\"marker\":{\"color\":\"rgb(0, 0, 0)\",\"size\":10,\"symbol\":\"circle\"},\"mode\":\"markers\",\"name\":\"[1, 0.01704928173105443, 1]\",\"x\":[0.99],\"y\":[0.0070492817310544315],\"z\":[0.99],\"type\":\"scatter3d\",\"scene\":\"scene\"}],                        {\"template\":{\"data\":{\"histogram2dcontour\":[{\"type\":\"histogram2dcontour\",\"colorbar\":{\"outlinewidth\":0,\"ticks\":\"\"},\"colorscale\":[[0.0,\"#0d0887\"],[0.1111111111111111,\"#46039f\"],[0.2222222222222222,\"#7201a8\"],[0.3333333333333333,\"#9c179e\"],[0.4444444444444444,\"#bd3786\"],[0.5555555555555556,\"#d8576b\"],[0.6666666666666666,\"#ed7953\"],[0.7777777777777778,\"#fb9f3a\"],[0.8888888888888888,\"#fdca26\"],[1.0,\"#f0f921\"]]}],\"choropleth\":[{\"type\":\"choropleth\",\"colorbar\":{\"outlinewidth\":0,\"ticks\":\"\"}}],\"histogram2d\":[{\"type\":\"histogram2d\",\"colorbar\":{\"outlinewidth\":0,\"ticks\":\"\"},\"colorscale\":[[0.0,\"#0d0887\"],[0.1111111111111111,\"#46039f\"],[0.2222222222222222,\"#7201a8\"],[0.3333333333333333,\"#9c179e\"],[0.4444444444444444,\"#bd3786\"],[0.5555555555555556,\"#d8576b\"],[0.6666666666666666,\"#ed7953\"],[0.7777777777777778,\"#fb9f3a\"],[0.8888888888888888,\"#fdca26\"],[1.0,\"#f0f921\"]]}],\"heatmap\":[{\"type\":\"heatmap\",\"colorbar\":{\"outlinewidth\":0,\"ticks\":\"\"},\"colorscale\":[[0.0,\"#0d0887\"],[0.1111111111111111,\"#46039f\"],[0.2222222222222222,\"#7201a8\"],[0.3333333333333333,\"#9c179e\"],[0.4444444444444444,\"#bd3786\"],[0.5555555555555556,\"#d8576b\"],[0.6666666666666666,\"#ed7953\"],[0.7777777777777778,\"#fb9f3a\"],[0.8888888888888888,\"#fdca26\"],[1.0,\"#f0f921\"]]}],\"heatmapgl\":[{\"type\":\"heatmapgl\",\"colorbar\":{\"outlinewidth\":0,\"ticks\":\"\"},\"colorscale\":[[0.0,\"#0d0887\"],[0.1111111111111111,\"#46039f\"],[0.2222222222222222,\"#7201a8\"],[0.3333333333333333,\"#9c179e\"],[0.4444444444444444,\"#bd3786\"],[0.5555555555555556,\"#d8576b\"],[0.6666666666666666,\"#ed7953\"],[0.7777777777777778,\"#fb9f3a\"],[0.8888888888888888,\"#fdca26\"],[1.0,\"#f0f921\"]]}],\"contourcarpet\":[{\"type\":\"contourcarpet\",\"colorbar\":{\"outlinewidth\":0,\"ticks\":\"\"}}],\"contour\":[{\"type\":\"contour\",\"colorbar\":{\"outlinewidth\":0,\"ticks\":\"\"},\"colorscale\":[[0.0,\"#0d0887\"],[0.1111111111111111,\"#46039f\"],[0.2222222222222222,\"#7201a8\"],[0.3333333333333333,\"#9c179e\"],[0.4444444444444444,\"#bd3786\"],[0.5555555555555556,\"#d8576b\"],[0.6666666666666666,\"#ed7953\"],[0.7777777777777778,\"#fb9f3a\"],[0.8888888888888888,\"#fdca26\"],[1.0,\"#f0f921\"]]}],\"surface\":[{\"type\":\"surface\",\"colorbar\":{\"outlinewidth\":0,\"ticks\":\"\"},\"colorscale\":[[0.0,\"#0d0887\"],[0.1111111111111111,\"#46039f\"],[0.2222222222222222,\"#7201a8\"],[0.3333333333333333,\"#9c179e\"],[0.4444444444444444,\"#bd3786\"],[0.5555555555555556,\"#d8576b\"],[0.6666666666666666,\"#ed7953\"],[0.7777777777777778,\"#fb9f3a\"],[0.8888888888888888,\"#fdca26\"],[1.0,\"#f0f921\"]]}],\"mesh3d\":[{\"type\":\"mesh3d\",\"colorbar\":{\"outlinewidth\":0,\"ticks\":\"\"}}],\"scatter\":[{\"marker\":{\"line\":{\"color\":\"#283442\"}},\"type\":\"scatter\"}],\"parcoords\":[{\"type\":\"parcoords\",\"line\":{\"colorbar\":{\"outlinewidth\":0,\"ticks\":\"\"}}}],\"scatterpolargl\":[{\"type\":\"scatterpolargl\",\"marker\":{\"colorbar\":{\"outlinewidth\":0,\"ticks\":\"\"}}}],\"bar\":[{\"error_x\":{\"color\":\"#f2f5fa\"},\"error_y\":{\"color\":\"#f2f5fa\"},\"marker\":{\"line\":{\"color\":\"rgb(17,17,17)\",\"width\":0.5},\"pattern\":{\"fillmode\":\"overlay\",\"size\":10,\"solidity\":0.2}},\"type\":\"bar\"}],\"scattergeo\":[{\"type\":\"scattergeo\",\"marker\":{\"colorbar\":{\"outlinewidth\":0,\"ticks\":\"\"}}}],\"scatterpolar\":[{\"type\":\"scatterpolar\",\"marker\":{\"colorbar\":{\"outlinewidth\":0,\"ticks\":\"\"}}}],\"histogram\":[{\"marker\":{\"pattern\":{\"fillmode\":\"overlay\",\"size\":10,\"solidity\":0.2}},\"type\":\"histogram\"}],\"scattergl\":[{\"marker\":{\"line\":{\"color\":\"#283442\"}},\"type\":\"scattergl\"}],\"scatter3d\":[{\"type\":\"scatter3d\",\"line\":{\"colorbar\":{\"outlinewidth\":0,\"ticks\":\"\"}},\"marker\":{\"colorbar\":{\"outlinewidth\":0,\"ticks\":\"\"}}}],\"scattermapbox\":[{\"type\":\"scattermapbox\",\"marker\":{\"colorbar\":{\"outlinewidth\":0,\"ticks\":\"\"}}}],\"scatterternary\":[{\"type\":\"scatterternary\",\"marker\":{\"colorbar\":{\"outlinewidth\":0,\"ticks\":\"\"}}}],\"scattercarpet\":[{\"type\":\"scattercarpet\",\"marker\":{\"colorbar\":{\"outlinewidth\":0,\"ticks\":\"\"}}}],\"carpet\":[{\"aaxis\":{\"endlinecolor\":\"#A2B1C6\",\"gridcolor\":\"#506784\",\"linecolor\":\"#506784\",\"minorgridcolor\":\"#506784\",\"startlinecolor\":\"#A2B1C6\"},\"baxis\":{\"endlinecolor\":\"#A2B1C6\",\"gridcolor\":\"#506784\",\"linecolor\":\"#506784\",\"minorgridcolor\":\"#506784\",\"startlinecolor\":\"#A2B1C6\"},\"type\":\"carpet\"}],\"table\":[{\"cells\":{\"fill\":{\"color\":\"#506784\"},\"line\":{\"color\":\"rgb(17,17,17)\"}},\"header\":{\"fill\":{\"color\":\"#2a3f5f\"},\"line\":{\"color\":\"rgb(17,17,17)\"}},\"type\":\"table\"}],\"barpolar\":[{\"marker\":{\"line\":{\"color\":\"rgb(17,17,17)\",\"width\":0.5},\"pattern\":{\"fillmode\":\"overlay\",\"size\":10,\"solidity\":0.2}},\"type\":\"barpolar\"}],\"pie\":[{\"automargin\":true,\"type\":\"pie\"}]},\"layout\":{\"autotypenumbers\":\"strict\",\"colorway\":[\"#636efa\",\"#EF553B\",\"#00cc96\",\"#ab63fa\",\"#FFA15A\",\"#19d3f3\",\"#FF6692\",\"#B6E880\",\"#FF97FF\",\"#FECB52\"],\"font\":{\"color\":\"#f2f5fa\"},\"hovermode\":\"closest\",\"hoverlabel\":{\"align\":\"left\"},\"paper_bgcolor\":\"rgb(17,17,17)\",\"plot_bgcolor\":\"rgb(17,17,17)\",\"polar\":{\"bgcolor\":\"rgb(17,17,17)\",\"angularaxis\":{\"gridcolor\":\"#506784\",\"linecolor\":\"#506784\",\"ticks\":\"\"},\"radialaxis\":{\"gridcolor\":\"#506784\",\"linecolor\":\"#506784\",\"ticks\":\"\"}},\"ternary\":{\"bgcolor\":\"rgb(17,17,17)\",\"aaxis\":{\"gridcolor\":\"#506784\",\"linecolor\":\"#506784\",\"ticks\":\"\"},\"baxis\":{\"gridcolor\":\"#506784\",\"linecolor\":\"#506784\",\"ticks\":\"\"},\"caxis\":{\"gridcolor\":\"#506784\",\"linecolor\":\"#506784\",\"ticks\":\"\"}},\"coloraxis\":{\"colorbar\":{\"outlinewidth\":0,\"ticks\":\"\"}},\"colorscale\":{\"sequential\":[[0.0,\"#0d0887\"],[0.1111111111111111,\"#46039f\"],[0.2222222222222222,\"#7201a8\"],[0.3333333333333333,\"#9c179e\"],[0.4444444444444444,\"#bd3786\"],[0.5555555555555556,\"#d8576b\"],[0.6666666666666666,\"#ed7953\"],[0.7777777777777778,\"#fb9f3a\"],[0.8888888888888888,\"#fdca26\"],[1.0,\"#f0f921\"]],\"sequentialminus\":[[0.0,\"#0d0887\"],[0.1111111111111111,\"#46039f\"],[0.2222222222222222,\"#7201a8\"],[0.3333333333333333,\"#9c179e\"],[0.4444444444444444,\"#bd3786\"],[0.5555555555555556,\"#d8576b\"],[0.6666666666666666,\"#ed7953\"],[0.7777777777777778,\"#fb9f3a\"],[0.8888888888888888,\"#fdca26\"],[1.0,\"#f0f921\"]],\"diverging\":[[0,\"#8e0152\"],[0.1,\"#c51b7d\"],[0.2,\"#de77ae\"],[0.3,\"#f1b6da\"],[0.4,\"#fde0ef\"],[0.5,\"#f7f7f7\"],[0.6,\"#e6f5d0\"],[0.7,\"#b8e186\"],[0.8,\"#7fbc41\"],[0.9,\"#4d9221\"],[1,\"#276419\"]]},\"xaxis\":{\"gridcolor\":\"#283442\",\"linecolor\":\"#506784\",\"ticks\":\"\",\"title\":{\"standoff\":15},\"zerolinecolor\":\"#283442\",\"automargin\":true,\"zerolinewidth\":2},\"yaxis\":{\"gridcolor\":\"#283442\",\"linecolor\":\"#506784\",\"ticks\":\"\",\"title\":{\"standoff\":15},\"zerolinecolor\":\"#283442\",\"automargin\":true,\"zerolinewidth\":2},\"scene\":{\"xaxis\":{\"backgroundcolor\":\"rgb(17,17,17)\",\"gridcolor\":\"#506784\",\"linecolor\":\"#506784\",\"showbackground\":true,\"ticks\":\"\",\"zerolinecolor\":\"#C8D4E3\",\"gridwidth\":2},\"yaxis\":{\"backgroundcolor\":\"rgb(17,17,17)\",\"gridcolor\":\"#506784\",\"linecolor\":\"#506784\",\"showbackground\":true,\"ticks\":\"\",\"zerolinecolor\":\"#C8D4E3\",\"gridwidth\":2},\"zaxis\":{\"backgroundcolor\":\"rgb(17,17,17)\",\"gridcolor\":\"#506784\",\"linecolor\":\"#506784\",\"showbackground\":true,\"ticks\":\"\",\"zerolinecolor\":\"#C8D4E3\",\"gridwidth\":2}},\"shapedefaults\":{\"line\":{\"color\":\"#f2f5fa\"}},\"annotationdefaults\":{\"arrowcolor\":\"#f2f5fa\",\"arrowhead\":0,\"arrowwidth\":1},\"geo\":{\"bgcolor\":\"rgb(17,17,17)\",\"landcolor\":\"rgb(17,17,17)\",\"subunitcolor\":\"#506784\",\"showland\":true,\"showlakes\":true,\"lakecolor\":\"rgb(17,17,17)\"},\"title\":{\"x\":0.05},\"updatemenudefaults\":{\"bgcolor\":\"#506784\",\"borderwidth\":0},\"sliderdefaults\":{\"bgcolor\":\"#C8D4E3\",\"borderwidth\":1,\"bordercolor\":\"rgb(17,17,17)\",\"tickwidth\":0},\"mapbox\":{\"style\":\"dark\"}}},\"scene\":{\"domain\":{\"x\":[0.0,1.0],\"y\":[0.0,1.0]},\"xaxis\":{\"range\":[0,1]},\"yaxis\":{\"range\":[0,1]},\"zaxis\":{\"range\":[0,1]},\"aspectmode\":\"cube\"}},                        {\"responsive\": true}                    ).then(function(){\n",
       "                            \n",
       "var gd = document.getElementById('19ddbca8-cb31-437c-a7a0-75df5a9d9148');\n",
       "var x = new MutationObserver(function (mutations, observer) {{\n",
       "        var display = window.getComputedStyle(gd).display;\n",
       "        if (!display || display === 'none') {{\n",
       "            console.log([gd, 'removed!']);\n",
       "            Plotly.purge(gd);\n",
       "            observer.disconnect();\n",
       "        }}\n",
       "}});\n",
       "\n",
       "// Listen for the removal of the full notebook cells\n",
       "var notebookContainer = gd.closest('#notebook-container');\n",
       "if (notebookContainer) {{\n",
       "    x.observe(notebookContainer, {childList: true});\n",
       "}}\n",
       "\n",
       "// Listen for the clearing of the current output cell\n",
       "var outputEl = gd.closest('.output');\n",
       "if (outputEl) {{\n",
       "    x.observe(outputEl, {childList: true});\n",
       "}}\n",
       "\n",
       "                        })                };                });            </script>        </div>"
      ]
     },
     "metadata": {},
     "output_type": "display_data"
    },
    {
     "data": {
      "application/vnd.plotly.v1+json": {
       "data": [
        {
         "marker": {
          "color": "rgb(0, 0, 0)",
          "line": {
           "color": "rgb(0, 0, 0)",
           "width": 0.5
          },
          "size": 4,
          "symbol": "x"
         },
         "mode": "markers",
         "x": [
          0.3427053104027239,
          0.2195747957912565,
          0.6630387434001713,
          0.5861410613404524,
          0.5526708877578728,
          0.5049679517120353,
          0.8479600354573631,
          0.5172685177996478,
          0.8492000346323184,
          0.9818909162249797,
          0.1428709650162835,
          0.5146812374231895,
          0.7162847774749617,
          0.1479939615263136,
          0.44154807319560474,
          0.35192605881836114,
          0.45988364040704477,
          0.6484021732545857,
          0.7305866540338741,
          0.31783988505323146
         ],
         "y": [
          0.9198704237586507,
          0.43043435468313096,
          0.4319963664560137,
          0.7157150889709124,
          0.5381645012358227,
          0.43883618035704375,
          0.7739977405463551,
          0.41118382207060544,
          0.9518045600355136,
          0.8622464392516037,
          0.3860973376091744,
          0.34064023550227707,
          0.20275873511637288,
          0.6531979279893879,
          0.8200670775621709,
          0.4963601632036967,
          0.3137162089209936,
          0.8053541766945624,
          0.10436925923017282,
          0.7235174632517607
         ],
         "z": [
          0.3974985584490809,
          0.07064183765121557,
          0.08355396659839498,
          0.10982978668356203,
          0.9083340711468779,
          0.2823697617642722,
          0.03624923420233084,
          0.6844996013091548,
          0.034764598134870095,
          0.18741281107679197,
          0.3955793968531667,
          0.9813619732493115,
          0.7810440918863704,
          0.2600446641637525,
          0.5748108088710229,
          0.4079934853535052,
          0.7126068974699269,
          0.39796282476993905,
          0.2509402732819729,
          0.9112223003180047
         ],
         "type": "scatter3d"
        }
       ],
       "layout": {
        "template": {
         "data": {
          "histogram2dcontour": [
           {
            "type": "histogram2dcontour",
            "colorbar": {
             "outlinewidth": 0,
             "ticks": ""
            },
            "colorscale": [
             [
              0.0,
              "#0d0887"
             ],
             [
              0.1111111111111111,
              "#46039f"
             ],
             [
              0.2222222222222222,
              "#7201a8"
             ],
             [
              0.3333333333333333,
              "#9c179e"
             ],
             [
              0.4444444444444444,
              "#bd3786"
             ],
             [
              0.5555555555555556,
              "#d8576b"
             ],
             [
              0.6666666666666666,
              "#ed7953"
             ],
             [
              0.7777777777777778,
              "#fb9f3a"
             ],
             [
              0.8888888888888888,
              "#fdca26"
             ],
             [
              1.0,
              "#f0f921"
             ]
            ]
           }
          ],
          "choropleth": [
           {
            "type": "choropleth",
            "colorbar": {
             "outlinewidth": 0,
             "ticks": ""
            }
           }
          ],
          "histogram2d": [
           {
            "type": "histogram2d",
            "colorbar": {
             "outlinewidth": 0,
             "ticks": ""
            },
            "colorscale": [
             [
              0.0,
              "#0d0887"
             ],
             [
              0.1111111111111111,
              "#46039f"
             ],
             [
              0.2222222222222222,
              "#7201a8"
             ],
             [
              0.3333333333333333,
              "#9c179e"
             ],
             [
              0.4444444444444444,
              "#bd3786"
             ],
             [
              0.5555555555555556,
              "#d8576b"
             ],
             [
              0.6666666666666666,
              "#ed7953"
             ],
             [
              0.7777777777777778,
              "#fb9f3a"
             ],
             [
              0.8888888888888888,
              "#fdca26"
             ],
             [
              1.0,
              "#f0f921"
             ]
            ]
           }
          ],
          "heatmap": [
           {
            "type": "heatmap",
            "colorbar": {
             "outlinewidth": 0,
             "ticks": ""
            },
            "colorscale": [
             [
              0.0,
              "#0d0887"
             ],
             [
              0.1111111111111111,
              "#46039f"
             ],
             [
              0.2222222222222222,
              "#7201a8"
             ],
             [
              0.3333333333333333,
              "#9c179e"
             ],
             [
              0.4444444444444444,
              "#bd3786"
             ],
             [
              0.5555555555555556,
              "#d8576b"
             ],
             [
              0.6666666666666666,
              "#ed7953"
             ],
             [
              0.7777777777777778,
              "#fb9f3a"
             ],
             [
              0.8888888888888888,
              "#fdca26"
             ],
             [
              1.0,
              "#f0f921"
             ]
            ]
           }
          ],
          "heatmapgl": [
           {
            "type": "heatmapgl",
            "colorbar": {
             "outlinewidth": 0,
             "ticks": ""
            },
            "colorscale": [
             [
              0.0,
              "#0d0887"
             ],
             [
              0.1111111111111111,
              "#46039f"
             ],
             [
              0.2222222222222222,
              "#7201a8"
             ],
             [
              0.3333333333333333,
              "#9c179e"
             ],
             [
              0.4444444444444444,
              "#bd3786"
             ],
             [
              0.5555555555555556,
              "#d8576b"
             ],
             [
              0.6666666666666666,
              "#ed7953"
             ],
             [
              0.7777777777777778,
              "#fb9f3a"
             ],
             [
              0.8888888888888888,
              "#fdca26"
             ],
             [
              1.0,
              "#f0f921"
             ]
            ]
           }
          ],
          "contourcarpet": [
           {
            "type": "contourcarpet",
            "colorbar": {
             "outlinewidth": 0,
             "ticks": ""
            }
           }
          ],
          "contour": [
           {
            "type": "contour",
            "colorbar": {
             "outlinewidth": 0,
             "ticks": ""
            },
            "colorscale": [
             [
              0.0,
              "#0d0887"
             ],
             [
              0.1111111111111111,
              "#46039f"
             ],
             [
              0.2222222222222222,
              "#7201a8"
             ],
             [
              0.3333333333333333,
              "#9c179e"
             ],
             [
              0.4444444444444444,
              "#bd3786"
             ],
             [
              0.5555555555555556,
              "#d8576b"
             ],
             [
              0.6666666666666666,
              "#ed7953"
             ],
             [
              0.7777777777777778,
              "#fb9f3a"
             ],
             [
              0.8888888888888888,
              "#fdca26"
             ],
             [
              1.0,
              "#f0f921"
             ]
            ]
           }
          ],
          "surface": [
           {
            "type": "surface",
            "colorbar": {
             "outlinewidth": 0,
             "ticks": ""
            },
            "colorscale": [
             [
              0.0,
              "#0d0887"
             ],
             [
              0.1111111111111111,
              "#46039f"
             ],
             [
              0.2222222222222222,
              "#7201a8"
             ],
             [
              0.3333333333333333,
              "#9c179e"
             ],
             [
              0.4444444444444444,
              "#bd3786"
             ],
             [
              0.5555555555555556,
              "#d8576b"
             ],
             [
              0.6666666666666666,
              "#ed7953"
             ],
             [
              0.7777777777777778,
              "#fb9f3a"
             ],
             [
              0.8888888888888888,
              "#fdca26"
             ],
             [
              1.0,
              "#f0f921"
             ]
            ]
           }
          ],
          "mesh3d": [
           {
            "type": "mesh3d",
            "colorbar": {
             "outlinewidth": 0,
             "ticks": ""
            }
           }
          ],
          "scatter": [
           {
            "marker": {
             "line": {
              "color": "#283442"
             }
            },
            "type": "scatter"
           }
          ],
          "parcoords": [
           {
            "type": "parcoords",
            "line": {
             "colorbar": {
              "outlinewidth": 0,
              "ticks": ""
             }
            }
           }
          ],
          "scatterpolargl": [
           {
            "type": "scatterpolargl",
            "marker": {
             "colorbar": {
              "outlinewidth": 0,
              "ticks": ""
             }
            }
           }
          ],
          "bar": [
           {
            "error_x": {
             "color": "#f2f5fa"
            },
            "error_y": {
             "color": "#f2f5fa"
            },
            "marker": {
             "line": {
              "color": "rgb(17,17,17)",
              "width": 0.5
             },
             "pattern": {
              "fillmode": "overlay",
              "size": 10,
              "solidity": 0.2
             }
            },
            "type": "bar"
           }
          ],
          "scattergeo": [
           {
            "type": "scattergeo",
            "marker": {
             "colorbar": {
              "outlinewidth": 0,
              "ticks": ""
             }
            }
           }
          ],
          "scatterpolar": [
           {
            "type": "scatterpolar",
            "marker": {
             "colorbar": {
              "outlinewidth": 0,
              "ticks": ""
             }
            }
           }
          ],
          "histogram": [
           {
            "marker": {
             "pattern": {
              "fillmode": "overlay",
              "size": 10,
              "solidity": 0.2
             }
            },
            "type": "histogram"
           }
          ],
          "scattergl": [
           {
            "marker": {
             "line": {
              "color": "#283442"
             }
            },
            "type": "scattergl"
           }
          ],
          "scatter3d": [
           {
            "type": "scatter3d",
            "line": {
             "colorbar": {
              "outlinewidth": 0,
              "ticks": ""
             }
            },
            "marker": {
             "colorbar": {
              "outlinewidth": 0,
              "ticks": ""
             }
            }
           }
          ],
          "scattermapbox": [
           {
            "type": "scattermapbox",
            "marker": {
             "colorbar": {
              "outlinewidth": 0,
              "ticks": ""
             }
            }
           }
          ],
          "scatterternary": [
           {
            "type": "scatterternary",
            "marker": {
             "colorbar": {
              "outlinewidth": 0,
              "ticks": ""
             }
            }
           }
          ],
          "scattercarpet": [
           {
            "type": "scattercarpet",
            "marker": {
             "colorbar": {
              "outlinewidth": 0,
              "ticks": ""
             }
            }
           }
          ],
          "carpet": [
           {
            "aaxis": {
             "endlinecolor": "#A2B1C6",
             "gridcolor": "#506784",
             "linecolor": "#506784",
             "minorgridcolor": "#506784",
             "startlinecolor": "#A2B1C6"
            },
            "baxis": {
             "endlinecolor": "#A2B1C6",
             "gridcolor": "#506784",
             "linecolor": "#506784",
             "minorgridcolor": "#506784",
             "startlinecolor": "#A2B1C6"
            },
            "type": "carpet"
           }
          ],
          "table": [
           {
            "cells": {
             "fill": {
              "color": "#506784"
             },
             "line": {
              "color": "rgb(17,17,17)"
             }
            },
            "header": {
             "fill": {
              "color": "#2a3f5f"
             },
             "line": {
              "color": "rgb(17,17,17)"
             }
            },
            "type": "table"
           }
          ],
          "barpolar": [
           {
            "marker": {
             "line": {
              "color": "rgb(17,17,17)",
              "width": 0.5
             },
             "pattern": {
              "fillmode": "overlay",
              "size": 10,
              "solidity": 0.2
             }
            },
            "type": "barpolar"
           }
          ],
          "pie": [
           {
            "automargin": true,
            "type": "pie"
           }
          ]
         },
         "layout": {
          "autotypenumbers": "strict",
          "colorway": [
           "#636efa",
           "#EF553B",
           "#00cc96",
           "#ab63fa",
           "#FFA15A",
           "#19d3f3",
           "#FF6692",
           "#B6E880",
           "#FF97FF",
           "#FECB52"
          ],
          "font": {
           "color": "#f2f5fa"
          },
          "hovermode": "closest",
          "hoverlabel": {
           "align": "left"
          },
          "paper_bgcolor": "rgb(17,17,17)",
          "plot_bgcolor": "rgb(17,17,17)",
          "polar": {
           "bgcolor": "rgb(17,17,17)",
           "angularaxis": {
            "gridcolor": "#506784",
            "linecolor": "#506784",
            "ticks": ""
           },
           "radialaxis": {
            "gridcolor": "#506784",
            "linecolor": "#506784",
            "ticks": ""
           }
          },
          "ternary": {
           "bgcolor": "rgb(17,17,17)",
           "aaxis": {
            "gridcolor": "#506784",
            "linecolor": "#506784",
            "ticks": ""
           },
           "baxis": {
            "gridcolor": "#506784",
            "linecolor": "#506784",
            "ticks": ""
           },
           "caxis": {
            "gridcolor": "#506784",
            "linecolor": "#506784",
            "ticks": ""
           }
          },
          "coloraxis": {
           "colorbar": {
            "outlinewidth": 0,
            "ticks": ""
           }
          },
          "colorscale": {
           "sequential": [
            [
             0.0,
             "#0d0887"
            ],
            [
             0.1111111111111111,
             "#46039f"
            ],
            [
             0.2222222222222222,
             "#7201a8"
            ],
            [
             0.3333333333333333,
             "#9c179e"
            ],
            [
             0.4444444444444444,
             "#bd3786"
            ],
            [
             0.5555555555555556,
             "#d8576b"
            ],
            [
             0.6666666666666666,
             "#ed7953"
            ],
            [
             0.7777777777777778,
             "#fb9f3a"
            ],
            [
             0.8888888888888888,
             "#fdca26"
            ],
            [
             1.0,
             "#f0f921"
            ]
           ],
           "sequentialminus": [
            [
             0.0,
             "#0d0887"
            ],
            [
             0.1111111111111111,
             "#46039f"
            ],
            [
             0.2222222222222222,
             "#7201a8"
            ],
            [
             0.3333333333333333,
             "#9c179e"
            ],
            [
             0.4444444444444444,
             "#bd3786"
            ],
            [
             0.5555555555555556,
             "#d8576b"
            ],
            [
             0.6666666666666666,
             "#ed7953"
            ],
            [
             0.7777777777777778,
             "#fb9f3a"
            ],
            [
             0.8888888888888888,
             "#fdca26"
            ],
            [
             1.0,
             "#f0f921"
            ]
           ],
           "diverging": [
            [
             0,
             "#8e0152"
            ],
            [
             0.1,
             "#c51b7d"
            ],
            [
             0.2,
             "#de77ae"
            ],
            [
             0.3,
             "#f1b6da"
            ],
            [
             0.4,
             "#fde0ef"
            ],
            [
             0.5,
             "#f7f7f7"
            ],
            [
             0.6,
             "#e6f5d0"
            ],
            [
             0.7,
             "#b8e186"
            ],
            [
             0.8,
             "#7fbc41"
            ],
            [
             0.9,
             "#4d9221"
            ],
            [
             1,
             "#276419"
            ]
           ]
          },
          "xaxis": {
           "gridcolor": "#283442",
           "linecolor": "#506784",
           "ticks": "",
           "title": {
            "standoff": 15
           },
           "zerolinecolor": "#283442",
           "automargin": true,
           "zerolinewidth": 2
          },
          "yaxis": {
           "gridcolor": "#283442",
           "linecolor": "#506784",
           "ticks": "",
           "title": {
            "standoff": 15
           },
           "zerolinecolor": "#283442",
           "automargin": true,
           "zerolinewidth": 2
          },
          "scene": {
           "xaxis": {
            "backgroundcolor": "rgb(17,17,17)",
            "gridcolor": "#506784",
            "linecolor": "#506784",
            "showbackground": true,
            "ticks": "",
            "zerolinecolor": "#C8D4E3",
            "gridwidth": 2
           },
           "yaxis": {
            "backgroundcolor": "rgb(17,17,17)",
            "gridcolor": "#506784",
            "linecolor": "#506784",
            "showbackground": true,
            "ticks": "",
            "zerolinecolor": "#C8D4E3",
            "gridwidth": 2
           },
           "zaxis": {
            "backgroundcolor": "rgb(17,17,17)",
            "gridcolor": "#506784",
            "linecolor": "#506784",
            "showbackground": true,
            "ticks": "",
            "zerolinecolor": "#C8D4E3",
            "gridwidth": 2
           }
          },
          "shapedefaults": {
           "line": {
            "color": "#f2f5fa"
           }
          },
          "annotationdefaults": {
           "arrowcolor": "#f2f5fa",
           "arrowhead": 0,
           "arrowwidth": 1
          },
          "geo": {
           "bgcolor": "rgb(17,17,17)",
           "landcolor": "rgb(17,17,17)",
           "subunitcolor": "#506784",
           "showland": true,
           "showlakes": true,
           "lakecolor": "rgb(17,17,17)"
          },
          "title": {
           "x": 0.05
          },
          "updatemenudefaults": {
           "bgcolor": "#506784",
           "borderwidth": 0
          },
          "sliderdefaults": {
           "bgcolor": "#C8D4E3",
           "borderwidth": 1,
           "bordercolor": "rgb(17,17,17)",
           "tickwidth": 0
          },
          "mapbox": {
           "style": "dark"
          }
         }
        }
       },
       "config": {
        "plotlyServerURL": "https://plot.ly"
       }
      },
      "text/html": [
       "<div>                            <div id=\"24c138a3-b70c-459e-89e6-81ec2fb3fb5e\" class=\"plotly-graph-div\" style=\"height:525px; width:100%;\"></div>            <script type=\"text/javascript\">                require([\"plotly\"], function(Plotly) {                    window.PLOTLYENV=window.PLOTLYENV || {};                                    if (document.getElementById(\"24c138a3-b70c-459e-89e6-81ec2fb3fb5e\")) {                    Plotly.newPlot(                        \"24c138a3-b70c-459e-89e6-81ec2fb3fb5e\",                        [{\"marker\":{\"color\":\"rgb(0, 0, 0)\",\"line\":{\"color\":\"rgb(0, 0, 0)\",\"width\":0.5},\"size\":4,\"symbol\":\"x\"},\"mode\":\"markers\",\"x\":[0.3427053104027239,0.2195747957912565,0.6630387434001713,0.5861410613404524,0.5526708877578728,0.5049679517120353,0.8479600354573631,0.5172685177996478,0.8492000346323184,0.9818909162249797,0.1428709650162835,0.5146812374231895,0.7162847774749617,0.1479939615263136,0.44154807319560474,0.35192605881836114,0.45988364040704477,0.6484021732545857,0.7305866540338741,0.31783988505323146],\"y\":[0.9198704237586507,0.43043435468313096,0.4319963664560137,0.7157150889709124,0.5381645012358227,0.43883618035704375,0.7739977405463551,0.41118382207060544,0.9518045600355136,0.8622464392516037,0.3860973376091744,0.34064023550227707,0.20275873511637288,0.6531979279893879,0.8200670775621709,0.4963601632036967,0.3137162089209936,0.8053541766945624,0.10436925923017282,0.7235174632517607],\"z\":[0.3974985584490809,0.07064183765121557,0.08355396659839498,0.10982978668356203,0.9083340711468779,0.2823697617642722,0.03624923420233084,0.6844996013091548,0.034764598134870095,0.18741281107679197,0.3955793968531667,0.9813619732493115,0.7810440918863704,0.2600446641637525,0.5748108088710229,0.4079934853535052,0.7126068974699269,0.39796282476993905,0.2509402732819729,0.9112223003180047],\"type\":\"scatter3d\"}],                        {\"template\":{\"data\":{\"histogram2dcontour\":[{\"type\":\"histogram2dcontour\",\"colorbar\":{\"outlinewidth\":0,\"ticks\":\"\"},\"colorscale\":[[0.0,\"#0d0887\"],[0.1111111111111111,\"#46039f\"],[0.2222222222222222,\"#7201a8\"],[0.3333333333333333,\"#9c179e\"],[0.4444444444444444,\"#bd3786\"],[0.5555555555555556,\"#d8576b\"],[0.6666666666666666,\"#ed7953\"],[0.7777777777777778,\"#fb9f3a\"],[0.8888888888888888,\"#fdca26\"],[1.0,\"#f0f921\"]]}],\"choropleth\":[{\"type\":\"choropleth\",\"colorbar\":{\"outlinewidth\":0,\"ticks\":\"\"}}],\"histogram2d\":[{\"type\":\"histogram2d\",\"colorbar\":{\"outlinewidth\":0,\"ticks\":\"\"},\"colorscale\":[[0.0,\"#0d0887\"],[0.1111111111111111,\"#46039f\"],[0.2222222222222222,\"#7201a8\"],[0.3333333333333333,\"#9c179e\"],[0.4444444444444444,\"#bd3786\"],[0.5555555555555556,\"#d8576b\"],[0.6666666666666666,\"#ed7953\"],[0.7777777777777778,\"#fb9f3a\"],[0.8888888888888888,\"#fdca26\"],[1.0,\"#f0f921\"]]}],\"heatmap\":[{\"type\":\"heatmap\",\"colorbar\":{\"outlinewidth\":0,\"ticks\":\"\"},\"colorscale\":[[0.0,\"#0d0887\"],[0.1111111111111111,\"#46039f\"],[0.2222222222222222,\"#7201a8\"],[0.3333333333333333,\"#9c179e\"],[0.4444444444444444,\"#bd3786\"],[0.5555555555555556,\"#d8576b\"],[0.6666666666666666,\"#ed7953\"],[0.7777777777777778,\"#fb9f3a\"],[0.8888888888888888,\"#fdca26\"],[1.0,\"#f0f921\"]]}],\"heatmapgl\":[{\"type\":\"heatmapgl\",\"colorbar\":{\"outlinewidth\":0,\"ticks\":\"\"},\"colorscale\":[[0.0,\"#0d0887\"],[0.1111111111111111,\"#46039f\"],[0.2222222222222222,\"#7201a8\"],[0.3333333333333333,\"#9c179e\"],[0.4444444444444444,\"#bd3786\"],[0.5555555555555556,\"#d8576b\"],[0.6666666666666666,\"#ed7953\"],[0.7777777777777778,\"#fb9f3a\"],[0.8888888888888888,\"#fdca26\"],[1.0,\"#f0f921\"]]}],\"contourcarpet\":[{\"type\":\"contourcarpet\",\"colorbar\":{\"outlinewidth\":0,\"ticks\":\"\"}}],\"contour\":[{\"type\":\"contour\",\"colorbar\":{\"outlinewidth\":0,\"ticks\":\"\"},\"colorscale\":[[0.0,\"#0d0887\"],[0.1111111111111111,\"#46039f\"],[0.2222222222222222,\"#7201a8\"],[0.3333333333333333,\"#9c179e\"],[0.4444444444444444,\"#bd3786\"],[0.5555555555555556,\"#d8576b\"],[0.6666666666666666,\"#ed7953\"],[0.7777777777777778,\"#fb9f3a\"],[0.8888888888888888,\"#fdca26\"],[1.0,\"#f0f921\"]]}],\"surface\":[{\"type\":\"surface\",\"colorbar\":{\"outlinewidth\":0,\"ticks\":\"\"},\"colorscale\":[[0.0,\"#0d0887\"],[0.1111111111111111,\"#46039f\"],[0.2222222222222222,\"#7201a8\"],[0.3333333333333333,\"#9c179e\"],[0.4444444444444444,\"#bd3786\"],[0.5555555555555556,\"#d8576b\"],[0.6666666666666666,\"#ed7953\"],[0.7777777777777778,\"#fb9f3a\"],[0.8888888888888888,\"#fdca26\"],[1.0,\"#f0f921\"]]}],\"mesh3d\":[{\"type\":\"mesh3d\",\"colorbar\":{\"outlinewidth\":0,\"ticks\":\"\"}}],\"scatter\":[{\"marker\":{\"line\":{\"color\":\"#283442\"}},\"type\":\"scatter\"}],\"parcoords\":[{\"type\":\"parcoords\",\"line\":{\"colorbar\":{\"outlinewidth\":0,\"ticks\":\"\"}}}],\"scatterpolargl\":[{\"type\":\"scatterpolargl\",\"marker\":{\"colorbar\":{\"outlinewidth\":0,\"ticks\":\"\"}}}],\"bar\":[{\"error_x\":{\"color\":\"#f2f5fa\"},\"error_y\":{\"color\":\"#f2f5fa\"},\"marker\":{\"line\":{\"color\":\"rgb(17,17,17)\",\"width\":0.5},\"pattern\":{\"fillmode\":\"overlay\",\"size\":10,\"solidity\":0.2}},\"type\":\"bar\"}],\"scattergeo\":[{\"type\":\"scattergeo\",\"marker\":{\"colorbar\":{\"outlinewidth\":0,\"ticks\":\"\"}}}],\"scatterpolar\":[{\"type\":\"scatterpolar\",\"marker\":{\"colorbar\":{\"outlinewidth\":0,\"ticks\":\"\"}}}],\"histogram\":[{\"marker\":{\"pattern\":{\"fillmode\":\"overlay\",\"size\":10,\"solidity\":0.2}},\"type\":\"histogram\"}],\"scattergl\":[{\"marker\":{\"line\":{\"color\":\"#283442\"}},\"type\":\"scattergl\"}],\"scatter3d\":[{\"type\":\"scatter3d\",\"line\":{\"colorbar\":{\"outlinewidth\":0,\"ticks\":\"\"}},\"marker\":{\"colorbar\":{\"outlinewidth\":0,\"ticks\":\"\"}}}],\"scattermapbox\":[{\"type\":\"scattermapbox\",\"marker\":{\"colorbar\":{\"outlinewidth\":0,\"ticks\":\"\"}}}],\"scatterternary\":[{\"type\":\"scatterternary\",\"marker\":{\"colorbar\":{\"outlinewidth\":0,\"ticks\":\"\"}}}],\"scattercarpet\":[{\"type\":\"scattercarpet\",\"marker\":{\"colorbar\":{\"outlinewidth\":0,\"ticks\":\"\"}}}],\"carpet\":[{\"aaxis\":{\"endlinecolor\":\"#A2B1C6\",\"gridcolor\":\"#506784\",\"linecolor\":\"#506784\",\"minorgridcolor\":\"#506784\",\"startlinecolor\":\"#A2B1C6\"},\"baxis\":{\"endlinecolor\":\"#A2B1C6\",\"gridcolor\":\"#506784\",\"linecolor\":\"#506784\",\"minorgridcolor\":\"#506784\",\"startlinecolor\":\"#A2B1C6\"},\"type\":\"carpet\"}],\"table\":[{\"cells\":{\"fill\":{\"color\":\"#506784\"},\"line\":{\"color\":\"rgb(17,17,17)\"}},\"header\":{\"fill\":{\"color\":\"#2a3f5f\"},\"line\":{\"color\":\"rgb(17,17,17)\"}},\"type\":\"table\"}],\"barpolar\":[{\"marker\":{\"line\":{\"color\":\"rgb(17,17,17)\",\"width\":0.5},\"pattern\":{\"fillmode\":\"overlay\",\"size\":10,\"solidity\":0.2}},\"type\":\"barpolar\"}],\"pie\":[{\"automargin\":true,\"type\":\"pie\"}]},\"layout\":{\"autotypenumbers\":\"strict\",\"colorway\":[\"#636efa\",\"#EF553B\",\"#00cc96\",\"#ab63fa\",\"#FFA15A\",\"#19d3f3\",\"#FF6692\",\"#B6E880\",\"#FF97FF\",\"#FECB52\"],\"font\":{\"color\":\"#f2f5fa\"},\"hovermode\":\"closest\",\"hoverlabel\":{\"align\":\"left\"},\"paper_bgcolor\":\"rgb(17,17,17)\",\"plot_bgcolor\":\"rgb(17,17,17)\",\"polar\":{\"bgcolor\":\"rgb(17,17,17)\",\"angularaxis\":{\"gridcolor\":\"#506784\",\"linecolor\":\"#506784\",\"ticks\":\"\"},\"radialaxis\":{\"gridcolor\":\"#506784\",\"linecolor\":\"#506784\",\"ticks\":\"\"}},\"ternary\":{\"bgcolor\":\"rgb(17,17,17)\",\"aaxis\":{\"gridcolor\":\"#506784\",\"linecolor\":\"#506784\",\"ticks\":\"\"},\"baxis\":{\"gridcolor\":\"#506784\",\"linecolor\":\"#506784\",\"ticks\":\"\"},\"caxis\":{\"gridcolor\":\"#506784\",\"linecolor\":\"#506784\",\"ticks\":\"\"}},\"coloraxis\":{\"colorbar\":{\"outlinewidth\":0,\"ticks\":\"\"}},\"colorscale\":{\"sequential\":[[0.0,\"#0d0887\"],[0.1111111111111111,\"#46039f\"],[0.2222222222222222,\"#7201a8\"],[0.3333333333333333,\"#9c179e\"],[0.4444444444444444,\"#bd3786\"],[0.5555555555555556,\"#d8576b\"],[0.6666666666666666,\"#ed7953\"],[0.7777777777777778,\"#fb9f3a\"],[0.8888888888888888,\"#fdca26\"],[1.0,\"#f0f921\"]],\"sequentialminus\":[[0.0,\"#0d0887\"],[0.1111111111111111,\"#46039f\"],[0.2222222222222222,\"#7201a8\"],[0.3333333333333333,\"#9c179e\"],[0.4444444444444444,\"#bd3786\"],[0.5555555555555556,\"#d8576b\"],[0.6666666666666666,\"#ed7953\"],[0.7777777777777778,\"#fb9f3a\"],[0.8888888888888888,\"#fdca26\"],[1.0,\"#f0f921\"]],\"diverging\":[[0,\"#8e0152\"],[0.1,\"#c51b7d\"],[0.2,\"#de77ae\"],[0.3,\"#f1b6da\"],[0.4,\"#fde0ef\"],[0.5,\"#f7f7f7\"],[0.6,\"#e6f5d0\"],[0.7,\"#b8e186\"],[0.8,\"#7fbc41\"],[0.9,\"#4d9221\"],[1,\"#276419\"]]},\"xaxis\":{\"gridcolor\":\"#283442\",\"linecolor\":\"#506784\",\"ticks\":\"\",\"title\":{\"standoff\":15},\"zerolinecolor\":\"#283442\",\"automargin\":true,\"zerolinewidth\":2},\"yaxis\":{\"gridcolor\":\"#283442\",\"linecolor\":\"#506784\",\"ticks\":\"\",\"title\":{\"standoff\":15},\"zerolinecolor\":\"#283442\",\"automargin\":true,\"zerolinewidth\":2},\"scene\":{\"xaxis\":{\"backgroundcolor\":\"rgb(17,17,17)\",\"gridcolor\":\"#506784\",\"linecolor\":\"#506784\",\"showbackground\":true,\"ticks\":\"\",\"zerolinecolor\":\"#C8D4E3\",\"gridwidth\":2},\"yaxis\":{\"backgroundcolor\":\"rgb(17,17,17)\",\"gridcolor\":\"#506784\",\"linecolor\":\"#506784\",\"showbackground\":true,\"ticks\":\"\",\"zerolinecolor\":\"#C8D4E3\",\"gridwidth\":2},\"zaxis\":{\"backgroundcolor\":\"rgb(17,17,17)\",\"gridcolor\":\"#506784\",\"linecolor\":\"#506784\",\"showbackground\":true,\"ticks\":\"\",\"zerolinecolor\":\"#C8D4E3\",\"gridwidth\":2}},\"shapedefaults\":{\"line\":{\"color\":\"#f2f5fa\"}},\"annotationdefaults\":{\"arrowcolor\":\"#f2f5fa\",\"arrowhead\":0,\"arrowwidth\":1},\"geo\":{\"bgcolor\":\"rgb(17,17,17)\",\"landcolor\":\"rgb(17,17,17)\",\"subunitcolor\":\"#506784\",\"showland\":true,\"showlakes\":true,\"lakecolor\":\"rgb(17,17,17)\"},\"title\":{\"x\":0.05},\"updatemenudefaults\":{\"bgcolor\":\"#506784\",\"borderwidth\":0},\"sliderdefaults\":{\"bgcolor\":\"#C8D4E3\",\"borderwidth\":1,\"bordercolor\":\"rgb(17,17,17)\",\"tickwidth\":0},\"mapbox\":{\"style\":\"dark\"}}}},                        {\"responsive\": true}                    ).then(function(){\n",
       "                            \n",
       "var gd = document.getElementById('24c138a3-b70c-459e-89e6-81ec2fb3fb5e');\n",
       "var x = new MutationObserver(function (mutations, observer) {{\n",
       "        var display = window.getComputedStyle(gd).display;\n",
       "        if (!display || display === 'none') {{\n",
       "            console.log([gd, 'removed!']);\n",
       "            Plotly.purge(gd);\n",
       "            observer.disconnect();\n",
       "        }}\n",
       "}});\n",
       "\n",
       "// Listen for the removal of the full notebook cells\n",
       "var notebookContainer = gd.closest('#notebook-container');\n",
       "if (notebookContainer) {{\n",
       "    x.observe(notebookContainer, {childList: true});\n",
       "}}\n",
       "\n",
       "// Listen for the clearing of the current output cell\n",
       "var outputEl = gd.closest('.output');\n",
       "if (outputEl) {{\n",
       "    x.observe(outputEl, {childList: true});\n",
       "}}\n",
       "\n",
       "                        })                };                });            </script>        </div>"
      ]
     },
     "metadata": {},
     "output_type": "display_data"
    }
   ],
   "execution_count": 8
  },
  {
   "metadata": {},
   "cell_type": "code",
   "outputs": [],
   "execution_count": null,
   "source": "",
   "id": "1355d32fe29eace0"
  }
 ],
 "metadata": {
  "kernelspec": {
   "display_name": "Python 3",
   "language": "python",
   "name": "python3"
  },
  "language_info": {
   "codemirror_mode": {
    "name": "ipython",
    "version": 2
   },
   "file_extension": ".py",
   "mimetype": "text/x-python",
   "name": "python",
   "nbconvert_exporter": "python",
   "pygments_lexer": "ipython2",
   "version": "2.7.6"
  }
 },
 "nbformat": 4,
 "nbformat_minor": 5
}
