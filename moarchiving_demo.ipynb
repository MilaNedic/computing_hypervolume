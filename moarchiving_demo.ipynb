{
 "cells": [
  {
   "metadata": {},
   "cell_type": "markdown",
   "source": [
    "# Introduction\n",
    "\n",
    "This library implements a multi-objective (2, 3 and 4 objectives are supported) non-dominated archive. It provides easy and fast access to the hypervolume and hypervolume plus indicators, the contributing hypervolume of each element, and to the [uncrowded hypervolume improvement](https://arxiv.org/abs/1904.08823) of any given point in objective space.\n",
    "\n",
    "Additionally, it provides a constrained version of the archive, which allows to store points with constraints and to compute the [ICMOP](https://arxiv.org/abs/2302.02170) indicator. \n",
    "\n",
    "## Installation\n",
    "\n",
    "Either via\n",
    "```\n",
    "pip install git+https://github.com/CMA-ES/moarchiving.git@master\n",
    "```\n",
    "\n",
    "or simply via\n",
    "\n",
    "```\n",
    "pip install moarchiving\n",
    "```\n",
    "\n",
    "## Details\n",
    "\n",
    "`moarchiving` uses the [`fractions.Fraction`](https://docs.python.org/3/library/fractions.html) type to avoid rounding errors when computing hypervolume differences, but its usage can also easily switched off by assigning the respective class attributes `hypervolume_computation_float_type` and `hypervolume_final_float_type`.\n",
    "\n",
    "## Links\n",
    "\n",
    "- [Code on Github](https://github.com/CMA-ES/moarchiving)\n",
    "- Documentation (possibly slighly outdated) in\n",
    "  - [this page plus performance test examples](https://cma-es.github.io/moarchiving/)\n",
    "  - [apidocs format](https://cma-es.github.io/moarchiving/moarchiving-apidocs/index.html)\n",
    "  - [epydocs format](https://cma-es.github.io/moarchiving/moarchiving-epydocs/index.html)\n",
    "\n",
    "## Releases\n",
    "- TODO: what is the current version?\n",
    "- 0.7.0 reimplementation of `BiobjectiveNondominatedSortedList.hypervolume_improvement` by extracting a sublist first.\n",
    "- 0.6.0 the `infos` attribute is a `list` with corresponding (arbitrary) information, e.g. for keeping the respective solutions.\n",
    "- 0.5.3 fixed assertion error when not using `fractions.Fraction`\n",
    "- 0.5.2 first published version\n",
    "\n",
    "# Usage examples:"
   ]
  },
  {
   "cell_type": "markdown",
   "metadata": {},
   "source": [
    "### Initialization of `MOArchive` for 2, 3 and 4 objectives\n",
    "MOArchive object can be created using `get_archive` function providing a list of objective values, reference point or at least the number of objectives. Note that additional points can always be added using `add` or `add_list` functions, but reference point can not be changed once the object is initialized. A list of information strings can be provided for each point, which will be stored as long as the corresponding point stays in the archive (e.g. the x values used to generate the objective values). At any point the list of non-dominated points and their corresponding infos can be accessed. "
   ]
  },
  {
   "cell_type": "code",
   "metadata": {
    "ExecuteTime": {
     "end_time": "2024-11-26T13:59:30.885217Z",
     "start_time": "2024-11-26T13:59:30.866250Z"
    }
   },
   "source": "from moarchiving.get_archive import get_mo_archive, get_cmo_archive",
   "outputs": [],
   "execution_count": 19
  },
  {
   "cell_type": "code",
   "metadata": {
    "ExecuteTime": {
     "end_time": "2024-11-26T13:59:30.979232Z",
     "start_time": "2024-11-26T13:59:30.968232Z"
    }
   },
   "source": [
    "# Creating a 2-objective archive\n",
    "moa2d = get_mo_archive([[1, 5], [2, 3], [4, 5], [5, 0]], reference_point=[10, 10], infos=[\"a\", \"b\", \"c\", \"d\"])\n",
    "print(\"points in the archive:\", list(moa2d))\n",
    "print(\"infos of the corresponding points:\", moa2d.infos)"
   ],
   "outputs": [
    {
     "name": "stdout",
     "output_type": "stream",
     "text": [
      "points in the archive: [[1, 5], [2, 3], [5, 0]]\n",
      "infos of the corresponding points: ['a', 'b', 'd']\n"
     ]
    }
   ],
   "execution_count": 20
  },
  {
   "cell_type": "code",
   "metadata": {
    "ExecuteTime": {
     "end_time": "2024-11-26T13:59:30.995160Z",
     "start_time": "2024-11-26T13:59:30.987183Z"
    }
   },
   "source": [
    "# Creating a 3-objective archive\n",
    "moa3d = get_mo_archive([[1, 2, 3], [3, 2, 1], [3, 3, 0], [2, 2, 1]], [10, 10, 10], [\"a\", \"b\", \"c\", \"d\"])\n",
    "print(\"points in the archive:\", list(moa3d))\n",
    "print(\"infos of the corresponding points:\", moa3d.infos)"
   ],
   "outputs": [
    {
     "name": "stdout",
     "output_type": "stream",
     "text": [
      "points in the archive: [[3, 3, 0], [2, 2, 1], [1, 2, 3]]\n",
      "infos of the corresponding points: ['c', 'd', 'a']\n"
     ]
    }
   ],
   "execution_count": 21
  },
  {
   "cell_type": "code",
   "metadata": {
    "ExecuteTime": {
     "end_time": "2024-11-26T13:59:31.011144Z",
     "start_time": "2024-11-26T13:59:31.004137Z"
    }
   },
   "source": [
    "# creating a 4-objective archive\n",
    "moa4d = get_mo_archive([[1, 2, 3, 4], [1, 3, 4, 5], [4, 3, 2, 1], [1, 3, 0, 1]], \n",
    "                       reference_point=[10, 10, 10, 10], infos=[\"a\", \"b\", \"c\", \"d\"])\n",
    "print(\"points in the archive:\", list(moa4d))\n",
    "print(\"infos of the corresponding points:\", moa4d.infos)"
   ],
   "outputs": [
    {
     "name": "stdout",
     "output_type": "stream",
     "text": [
      "points in the archive: [[1, 3, 0, 1], [1, 2, 3, 4]]\n",
      "infos of the corresponding points: ['d', 'a']\n"
     ]
    }
   ],
   "execution_count": 22
  },
  {
   "metadata": {},
   "cell_type": "markdown",
   "source": [
    "### Constrained MOArchive\n",
    "Constrained MOArchive supports all the functionalities of a non-constrained MOArchive, with the additional handling of constraints when adding or initializing the archive (next to the objectives of a point we need to add the constraints in form of a list or a number). "
   ]
  },
  {
   "metadata": {
    "ExecuteTime": {
     "end_time": "2024-11-26T13:59:31.059098Z",
     "start_time": "2024-11-26T13:59:31.042122Z"
    }
   },
   "cell_type": "code",
   "source": [
    "# creating 3-objective archive with constraints\n",
    "cmoa = get_cmo_archive([[1, 2, 3], [1, 3, 4], [4, 3, 2], [1, 3, 0]], [[3, 0], [0, 0], [0, 0], [0, 1]], \n",
    "                         reference_point=[5, 5, 5], infos=[\"a\", \"b\", \"c\", \"d\"])\n",
    "print(\"points in the archive:\", list(cmoa))\n",
    "print(\"infos of the corresponding points:\", cmoa.infos)"
   ],
   "outputs": [
    {
     "name": "stdout",
     "output_type": "stream",
     "text": [
      "points in the archive: [[4, 3, 2], [1, 3, 4]]\n",
      "infos of the corresponding points: ['c', 'b']\n"
     ]
    }
   ],
   "execution_count": 23
  },
  {
   "cell_type": "markdown",
   "metadata": {},
   "source": [
    "### Initializing empty archive and adding points\n",
    "MoArchive can also be initialized empty, but at minimum the reference point or the number of objectives should be provided."
   ]
  },
  {
   "cell_type": "code",
   "metadata": {
    "ExecuteTime": {
     "end_time": "2024-11-26T13:59:31.089907Z",
     "start_time": "2024-11-26T13:59:31.076358Z"
    }
   },
   "source": [
    "moa = get_mo_archive(reference_point=[4, 4, 4])\n",
    "print(\"points in the archive:\", list(moa))\n",
    "\n",
    "# add one point\n",
    "moa.add([1, 2, 3], \"a\")\n",
    "print(\"points:\", list(moa))\n",
    "print(\"infos:\", moa.infos)\n",
    "\n",
    "# add another point\n",
    "moa.add([3, 2, 1], \"b\")\n",
    "print(\"points:\", list(moa))\n",
    "print(\"infos:\", moa.infos)\n",
    "\n",
    "# add a dominated point (should not be added)\n",
    "moa.add([3, 3, 3], \"c\")\n",
    "print(\"points:\", list(moa))\n",
    "print(\"infos:\", moa.infos)\n",
    "\n",
    "moa.add_list([[2, 1, 3], [1, 3, 2], [3, 2, 0], [2, 2, 4]], [\"d\", \"e\", \"f\", \"g\"])\n",
    "print(\"points:\", list(moa))\n",
    "print(\"infos:\", moa.infos)"
   ],
   "outputs": [
    {
     "name": "stdout",
     "output_type": "stream",
     "text": [
      "points in the archive: []\n",
      "points: [[1, 2, 3]]\n",
      "infos: ['a']\n",
      "points: [[3, 2, 1], [1, 2, 3]]\n",
      "infos: ['b', 'a']\n",
      "points: [[3, 2, 1], [1, 2, 3]]\n",
      "infos: ['b', 'a']\n",
      "points: [[3, 2, 0], [1, 3, 2], [2, 1, 3], [1, 2, 3]]\n",
      "infos: ['f', 'e', 'd', 'a']\n"
     ]
    }
   ],
   "execution_count": 24
  },
  {
   "cell_type": "markdown",
   "metadata": {},
   "source": [
    "### List like interface\n",
    "The MOArchive implements some functionality of a list (In 2D case it actually extends the list class, but this is not the case in 3 and 4D), in particular the `len` method to get the number of points in the archive as well as the `in` keyword to check if a point is in the archive."
   ]
  },
  {
   "cell_type": "code",
   "metadata": {
    "ExecuteTime": {
     "end_time": "2024-11-26T13:59:31.200536Z",
     "start_time": "2024-11-26T13:59:31.186283Z"
    }
   },
   "source": [
    "print(\"Points in the archive:\", list(moa))\n",
    "print(\"Length of the archive:\", len(moa))\n",
    "print(\"[2, 2, 2] in moa:\", [2, 2, 2] in moa)\n",
    "print(\"[3, 2, 0] in moa:\", [3, 2, 0] in moa)"
   ],
   "outputs": [
    {
     "name": "stdout",
     "output_type": "stream",
     "text": [
      "Points in the archive: [[3, 2, 0], [1, 3, 2], [2, 1, 3], [1, 2, 3]]\n",
      "Length of the archive: 4\n",
      "[2, 2, 2] in moa: False\n",
      "[3, 2, 0] in moa: True\n"
     ]
    }
   ],
   "execution_count": 25
  },
  {
   "cell_type": "markdown",
   "metadata": {},
   "source": [
    "### Performance indicators\n",
    "In order that all the performance indicators are easily comparable, we define all of them as a maximization indicators (by multiplying hypervolume plus and icmop indicators with -1). In that case when the archive is not empty, all the indicators are positive and have the same value. \n",
    "\n",
    "Accessing the hypervolume of the archive is done using the `hypervolume` attribute or the `hypervolume_plus` attribute for the hypervolume plus indicator. "
   ]
  },
  {
   "metadata": {
    "ExecuteTime": {
     "end_time": "2024-11-26T13:59:31.308253Z",
     "start_time": "2024-11-26T13:59:31.296284Z"
    }
   },
   "cell_type": "code",
   "source": [
    "print(\"Hypervolume of the archive:\", moa.hypervolume)\n",
    "print(\"Hypervolume plus of the archive:\", moa.hypervolume_plus)"
   ],
   "outputs": [
    {
     "name": "stdout",
     "output_type": "stream",
     "text": [
      "Hypervolume of the archive: 16\n",
      "Hypervolume plus of the archive: 16\n"
     ]
    }
   ],
   "execution_count": 26
  },
  {
   "metadata": {},
   "cell_type": "markdown",
   "source": "In case of a constrained MOArchive the `icmop` attribute can be accessed as well. "
  },
  {
   "metadata": {
    "ExecuteTime": {
     "end_time": "2024-11-26T13:59:31.355148Z",
     "start_time": "2024-11-26T13:59:31.341163Z"
    }
   },
   "cell_type": "code",
   "source": [
    "print(\"Hyperolume of the constrained archive:\", cmoa.hypervolume)\n",
    "print(\"Hypervolume plus of the constrained archive:\", cmoa.hypervolume_plus)\n",
    "print(\"Icmop of the constrained archive:\", cmoa.icmop)"
   ],
   "outputs": [
    {
     "name": "stdout",
     "output_type": "stream",
     "text": [
      "Hyperolume of the constrained archive: 12\n",
      "Hypervolume plus of the constrained archive: 12\n",
      "Icmop of the constrained archive: 12.0\n"
     ]
    }
   ],
   "execution_count": 27
  },
  {
   "metadata": {},
   "cell_type": "markdown",
   "source": "### Copying an archive"
  },
  {
   "metadata": {
    "ExecuteTime": {
     "end_time": "2024-11-26T13:59:31.494752Z",
     "start_time": "2024-11-26T13:59:31.486773Z"
    }
   },
   "cell_type": "code",
   "source": [
    "moa_copy = moa.copy()\n",
    "print(\"moa     \", list(moa))\n",
    "print(\"moa_copy\", list(moa_copy))\n",
    "\n",
    "moa.add([1, 1, 1])\n",
    "print(\"\\nafter adding to the original archive:\")\n",
    "print(\"moa     \", list(moa))\n",
    "print(\"moa_copy\", list(moa_copy))"
   ],
   "outputs": [
    {
     "name": "stdout",
     "output_type": "stream",
     "text": [
      "moa      [[3, 2, 0], [1, 3, 2], [2, 1, 3], [1, 2, 3]]\n",
      "moa_copy [[3, 2, 0], [1, 3, 2], [2, 1, 3], [1, 2, 3]]\n",
      "\n",
      "after adding to the original archive:\n",
      "moa      [[3, 2, 0], [1, 1, 1]]\n",
      "moa_copy [[3, 2, 0], [1, 3, 2], [2, 1, 3], [1, 2, 3]]\n"
     ]
    }
   ],
   "execution_count": 28
  },
  {
   "cell_type": "markdown",
   "metadata": {},
   "source": [
    "### Contributing hypervolumes\n",
    "Returns a list of contributions for each point of the archive. Alternatively can also be computed for a single point using `contributing_hypervolume(point)` method."
   ]
  },
  {
   "cell_type": "code",
   "metadata": {
    "ExecuteTime": {
     "end_time": "2024-11-26T13:59:31.557586Z",
     "start_time": "2024-11-26T13:59:31.537638Z"
    }
   },
   "source": [
    "for i, objectives in enumerate(moa):\n",
    "    assert moa.contributing_hypervolume(objectives) == moa.contributing_hypervolumes[i]\n",
    "    print(\"contributing hv of point\", objectives, \"is\", moa.contributing_hypervolume(objectives))\n",
    "\n",
    "print(\"All contributing hypervolumes:\", moa.contributing_hypervolumes)"
   ],
   "outputs": [
    {
     "name": "stdout",
     "output_type": "stream",
     "text": [
      "contributing hv of point [3, 2, 0] is 2\n",
      "contributing hv of point [1, 1, 1] is 21\n",
      "All contributing hypervolumes: [Fraction(2, 1), Fraction(21, 1)]\n"
     ]
    }
   ],
   "execution_count": 29
  },
  {
   "cell_type": "markdown",
   "metadata": {},
   "source": [
    "### Hypervolume improvement\n",
    "Returns the improvement of the hypervolume if we would add the point to the archive."
   ]
  },
  {
   "cell_type": "code",
   "metadata": {
    "ExecuteTime": {
     "end_time": "2024-11-26T13:59:31.604459Z",
     "start_time": "2024-11-26T13:59:31.589499Z"
    }
   },
   "source": [
    "point = [1, 3, 0]\n",
    "print(f\"hypervolume before adding {point}: {moa.hypervolume}\")\n",
    "print(f\"hypervolume improvement of point {point}: {moa.hypervolume_improvement(point)}\")\n",
    "moa.add(point)\n",
    "print(f\"hypervolume after adding {point}: {moa.hypervolume}\")"
   ],
   "outputs": [
    {
     "name": "stdout",
     "output_type": "stream",
     "text": [
      "hypervolume before adding [1, 3, 0]: 29\n",
      "hypervolume improvement of point [1, 3, 0]: 2\n",
      "hypervolume after adding [1, 3, 0]: 31\n"
     ]
    }
   ],
   "execution_count": 30
  },
  {
   "cell_type": "markdown",
   "metadata": {},
   "source": [
    "### Distance to pareto front\n",
    "Returns the distance between a dominated point and the pareto front."
   ]
  },
  {
   "cell_type": "code",
   "metadata": {
    "ExecuteTime": {
     "end_time": "2024-11-26T13:59:31.651769Z",
     "start_time": "2024-11-26T13:59:31.631393Z"
    }
   },
   "source": [
    "print(f\"Current archive: {list(moa)}\")\n",
    "print(\"Distance of [3, 2, 1] to pareto front:\", moa.distance_to_pareto_front([3, 2, 1]))\n",
    "print(\"Distance of [3, 2, 2] to pareto front:\", moa.distance_to_pareto_front([3, 2, 2]))"
   ],
   "outputs": [
    {
     "name": "stdout",
     "output_type": "stream",
     "text": [
      "Current archive: [[3, 2, 0], [1, 3, 0], [1, 1, 1]]\n",
      "Distance of [3, 2, 1] to pareto front: 0.0\n",
      "Distance of [3, 2, 2] to pareto front: 1.0\n"
     ]
    }
   ],
   "execution_count": 31
  },
  {
   "cell_type": "markdown",
   "metadata": {},
   "source": [
    "### Turning fractions on and off\n",
    "To avoid the loss of precision, fractions are used by default. Changing this to float can be done by setting function attributes `hypervolume_final_float_type` and `hypervolume_computation_float_type`."
   ]
  },
  {
   "cell_type": "code",
   "metadata": {
    "ExecuteTime": {
     "end_time": "2024-11-26T13:59:31.715165Z",
     "start_time": "2024-11-26T13:59:31.693223Z"
    }
   },
   "source": [
    "import fractions\n",
    "get_mo_archive.hypervolume_computation_float_type = fractions.Fraction\n",
    "get_mo_archive.hypervolume_final_float_type = fractions.Fraction\n",
    "\n",
    "moa3_fr = get_mo_archive([[1, 2, 3], [2, 1, 3], [3, 3, 1.32], [1.3, 1.3, 3], [1.7, 1.1, 2]], reference_point=[4, 4, 4])\n",
    "print(moa3_fr.hypervolume)\n",
    "\n",
    "get_mo_archive.hypervolume_computation_float_type = float\n",
    "get_mo_archive.hypervolume_final_float_type = float\n",
    "\n",
    "moa3_nofr = get_mo_archive([[1, 2, 3], [2, 1, 3], [3, 3, 1.32], [1.3, 1.3, 3], [1.7, 1.1, 2]], reference_point=[4, 4, 4])\n",
    "print(moa3_nofr.hypervolume)"
   ],
   "outputs": [
    {
     "name": "stdout",
     "output_type": "stream",
     "text": [
      "161245156349030777798724819133399/10141204801825835211973625643008\n",
      "15.899999999999999\n"
     ]
    }
   ],
   "execution_count": 32
  },
  {
   "metadata": {},
   "cell_type": "markdown",
   "source": [
    "### Additional functionalities:\n",
    "MOArchive also implements additional functions to check for the given point not in the archive:\n",
    "- `in_domain`: point is in domain?\n",
    "- `dominates`: point is dominated by the archive?\n",
    "- `dominators`: which/how many points dominate the given point?"
   ]
  },
  {
   "metadata": {
    "ExecuteTime": {
     "end_time": "2024-11-26T13:59:31.763037Z",
     "start_time": "2024-11-26T13:59:31.719158Z"
    }
   },
   "cell_type": "code",
   "source": [
    "points_list = [[5, 5, 0], [2, 2, 2], [0, 2, 3]]\n",
    "print(\"archive:\", list(moa), \"\\n\")\n",
    "print(\"point     | in domain | dominates | num of dominators | dominators\")\n",
    "print(\"----------|-----------|-----------|-------------------|-----------\")\n",
    "for point in points_list:\n",
    "    print(f\"{point} | {moa.in_domain(point):9} | {moa.dominates(point):9} | \"\n",
    "          f\"{moa.dominators(point, number_only=True):17} | {moa.dominators(point)}\")"
   ],
   "outputs": [
    {
     "name": "stdout",
     "output_type": "stream",
     "text": [
      "archive: [[3, 2, 0], [1, 3, 0], [1, 1, 1]] \n",
      "\n",
      "point     | in domain | dominates | num of dominators | dominators\n",
      "----------|-----------|-----------|-------------------|-----------\n",
      "[5, 5, 0] |         0 |         1 |                 2 | [[3, 2, 0], [1, 3, 0]]\n",
      "[2, 2, 2] |         1 |         1 |                 1 | [[1, 1, 1]]\n",
      "[0, 2, 3] |         1 |         0 |                 0 | []\n"
     ]
    }
   ],
   "execution_count": 33
  },
  {
   "cell_type": "markdown",
   "metadata": {},
   "source": [
    "### Visualization of Hypervolume, Hypervolume_plus and ICMOP indicators\n",
    "By saving the values of indicators for each point added to the archive, we can visualize the behavior of the archive over time."
   ]
  },
  {
   "metadata": {
    "ExecuteTime": {
     "end_time": "2024-11-26T13:59:45.802879Z",
     "start_time": "2024-11-26T13:59:45.763014Z"
    }
   },
   "cell_type": "code",
   "source": [
    "import matplotlib.pyplot as plt\n",
    "import random\n",
    "\n",
    "get_cmo_archive.hypervolume_final_float_type = float\n",
    "get_mo_archive.hypervolume_final_float_type = float\n",
    "\n",
    "n_obj = 3\n",
    "\n",
    "indicators_cmoa = []\n",
    "indicators_moa = []\n",
    "cmoa = get_cmo_archive(reference_point=[0.5] * n_obj, n_obj=n_obj, tau=0.2)\n",
    "moa = get_mo_archive(reference_point=[0.1] * n_obj, n_obj=n_obj)\n",
    "\n",
    "for i in range(2000):\n",
    "    objectives = [random.random() for _ in range(n_obj)]\n",
    "    constraints = [max(random.random() - 0.1, 0), max(random.random() - 0.1, 0)]\n",
    "    \n",
    "    cmoa.add(objectives, constraints, info=f\"point_{i}\")\n",
    "    moa.add(objectives, info=f\"point_{i}\")\n",
    "    \n",
    "    indicators_cmoa.append((cmoa.icmop, cmoa.hypervolume_plus, cmoa.hypervolume))\n",
    "    indicators_moa.append((moa.hypervolume_plus, moa.hypervolume))\n",
    "    "
   ],
   "outputs": [],
   "execution_count": 40
  },
  {
   "metadata": {
    "ExecuteTime": {
     "end_time": "2024-11-26T13:59:46.943769Z",
     "start_time": "2024-11-26T13:59:46.688440Z"
    }
   },
   "cell_type": "code",
   "source": [
    "fig, axs = plt.subplots(1, 2, figsize=(10, 5))\n",
    "axs[0].plot([x[2] for x in indicators_cmoa], label=\"hypervolume\")\n",
    "axs[0].plot([x[1] for x in indicators_cmoa], label=\"hypervolume_plus\")\n",
    "axs[0].plot([x[0] for x in indicators_cmoa], label=\"icmop\")\n",
    "axs[0].axhline(0, color=\"black\", linestyle=\"--\", zorder=0)\n",
    "axs[0].axhline(-cmoa.tau, color=\"black\", linestyle=\"--\", zorder=0)\n",
    "axs[0].set_title(\"Constrained MOArchive\")\n",
    "axs[0].legend()\n",
    "\n",
    "axs[1].plot([x[1] for x in indicators_moa], label=\"hypervolume\")\n",
    "axs[1].plot([x[0] for x in indicators_moa], label=\"hypervolume_plus\")\n",
    "axs[1].set_title(\"MOArchive\")\n",
    "axs[1].axhline(0, color=\"black\", linestyle=\"--\", zorder=0)\n",
    "axs[1].legend()\n",
    "plt.show()"
   ],
   "outputs": [
    {
     "data": {
      "text/plain": [
       "<Figure size 1000x500 with 2 Axes>"
      ],
      "image/png": "[encoded data removed]"
     },
     "metadata": {},
     "output_type": "display_data"
    }
   ],
   "execution_count": 41
  }
 ],
 "metadata": {
  "kernelspec": {
   "display_name": "Python 3 (ipykernel)",
   "language": "python",
   "name": "python3"
  },
  "language_info": {
   "codemirror_mode": {
    "name": "ipython",
    "version": 3
   },
   "file_extension": ".py",
   "mimetype": "text/x-python",
   "name": "python",
   "nbconvert_exporter": "python",
   "pygments_lexer": "ipython3",
   "version": "3.10.14"
  }
 },
 "nbformat": 4,
 "nbformat_minor": 4
}
